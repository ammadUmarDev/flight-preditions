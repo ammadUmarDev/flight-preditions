{
 "cells": [
  {
   "cell_type": "markdown",
   "metadata": {},
   "source": [
    "# Project By: Ammad Umar i170092"
   ]
  },
  {
   "cell_type": "markdown",
   "metadata": {},
   "source": [
    "# --------------------------------------------------------------------------------------------------------------"
   ]
  },
  {
   "cell_type": "markdown",
   "metadata": {},
   "source": [
    "# --------------------------------------------------------------------------------------------------------------"
   ]
  },
  {
   "cell_type": "markdown",
   "metadata": {},
   "source": [
    "## Project Guidelines"
   ]
  },
  {
   "cell_type": "markdown",
   "metadata": {},
   "source": [
    "1. Project Description - The U.S. Department of Transportation’s (DOT) Bureau of Transportation Statistics tracks the on-time performance of domestic flights operated by large air carriers. Based on your success they have hired you as a machine learning and data science expert to solve some problems related to flights data; when a particular flight is delayed, canceled, and diverted. The dataset that have provided has summarized information of on-time, delayed, canceled, and diverted flights. Which is published in their Consumer Report of 2015. You as a principle scientist are required to extract different patterns and meaning full information using all or any machine learning algorithm.  \n",
    " \n",
    "2. Dataset - The Dataset consists of 3 files with a compressed size of approx. 192 MB is uploaded on google classroom. It has 3 csv files; namely airlines.csv airports.csv and flights.csv. It is up to you as a lead scientist how you use these raw data files. Either you join them together or process them individually is up to you. \n",
    " \n",
    "3. Evaluation - As there are no straight guidelines, you guys have an open field on how you use all what you have learned in this course. So, obviously every student will have a unique solution. This eliminates the possibility of coincidental or deliberate attempts to similar solutions. Furthermore, you can apply linear/ polynomial regression, classification, clustering etc. algorithms to find pattern and mine information. You will be graded individually, on the amount of effort, extraction of meaningful information and predictions etc. Marking will be relative to the performance of the whole class. This means discussing your solutions with other is probably a bad idea and will make your solution not unique, which will result in your solution being ranked lower in class ranking thus losing marks. \n",
    " \n",
    "5. Marks will be awarded based on ranking system. There are three brackets of solutions • Best • Medium • Worse So try to position yourself in the best bracket. \n",
    " \n",
    "6. Guidelines Dataset is attached in the project. This Ipython notebook (https://www.kaggle.com/adveros/flight-delay-eda-exploratory-data-analysis) consists of an Exploratory Data Analysis (EDA) of the data which can help you in understanding the data with visualizations. This file is not compulsory for you to follow but it can give you a jump start in starting your project quickly so do give it a look. You are required to submit two things on submission date. A solution file (Code) and a report which should show your results and analysis of YOUR solution. You can code the solution in any programming language in which you are comfortable in. The project can be done in groups of two. \n",
    "\n",
    "7. Cheating/ plagiarism is a BIG NO and will lead to F grade in course if any part of the project is found plagiarized. Try to propose a solution yourself and remember no solution is a wrong solution for this project. Some solutions would be good others not. "
   ]
  },
  {
   "cell_type": "markdown",
   "metadata": {},
   "source": [
    "# --------------------------------------------------------------------------------------------------------------"
   ]
  },
  {
   "cell_type": "markdown",
   "metadata": {},
   "source": [
    "# --------------------------------------------------------------------------------------------------------------"
   ]
  },
  {
   "cell_type": "markdown",
   "metadata": {},
   "source": [
    "## Dataset Variables\n",
    "\n",
    "1. Year 2008\n",
    "2. Month 1-12\n",
    "3. DayofMonth 1-31\n",
    "4. DayOfWeek 1 (Monday) - 7 (Sunday)\n",
    "5. DepTime actual departure time (local, hhmm)\n",
    "6. CRSDepTime scheduled departure time (local, hhmm)\n",
    "7. ArrTime actual arrival time (local, hhmm)\n",
    "8. CRSArrTime scheduled arrival time (local, hhmm)\n",
    "9. UniqueCarrier unique carrier code\n",
    "10. FlightNum flight number\n",
    "11. TailNum plane tail number: aircraft registration, unique aircraft identifier\n",
    "12. ActualElapsedTime in minutes\n",
    "13. CRSElapsedTime in minutes\n",
    "14. AirTime in minutes\n",
    "15. ArrDelay arrival delay, in minutes: A flight is counted as \"on time\" if it operated less than 15 minutes later the 1. scheduled time shown in the carriers' Computerized Reservations Systems (CRS).\n",
    "16. DepDelay departure delay, in minutes\n",
    "17. Origin origin IATA airport code\n",
    "18. Dest destination IATA airport code\n",
    "19. Distance in miles\n",
    "20. TaxiIn taxi in time, in minutes\n",
    "21. TaxiOut taxi out time in minutes\n",
    "22. Cancelled *was the flight cancelled\n",
    "23. CancellationCode reason for cancellation (A = carrier, B = weather, C = NAS, D = security)\n",
    "24. Diverted 1 = yes, 0 = no\n",
    "25. CarrierDelay in minutes: Carrier delay is within the control of the air carrier. Examples of occurrences that may determine carrier delay are: aircraft cleaning, aircraft damage, awaiting the arrival of connecting passengers or crew, baggage, bird strike, cargo loading, catering, computer, outage-carrier equipment, crew legality (pilot or attendant rest), damage by hazardous goods, engineering inspection, fueling, handling disabled passengers, late crew, lavatory servicing, maintenance, oversales, potable water servicing, removal of unruly passenger, slow boarding or seating, stowing carry-on baggage, weight and balance delays.\n",
    "26. WeatherDelay in minutes: Weather delay is caused by extreme or hazardous weather conditions that are forecasted or manifest themselves on point of departure, enroute, or on point of arrival.\n",
    "27. SecurityDelay in minutes: Security delay is caused by evacuation of a terminal or concourse, re-boarding of aircraft because of security breach, inoperative screening equipment and/or long lines in excess of 29 minutes at screening areas.\n",
    "28. LateAircraftDelay in minutes: Arrival delay at an airport due to the late arrival of the same aircraft at a previous airport. The ripple effect of an earlier delay at downstream airports is referred to as delay propagation."
   ]
  },
  {
   "cell_type": "markdown",
   "metadata": {},
   "source": [
    "# --------------------------------------------------------------------------------------------------------------"
   ]
  },
  {
   "cell_type": "markdown",
   "metadata": {},
   "source": [
    "# --------------------------------------------------------------------------------------------------------------"
   ]
  },
  {
   "cell_type": "markdown",
   "metadata": {},
   "source": [
    "## Import Libraries"
   ]
  },
  {
   "cell_type": "code",
   "execution_count": 1,
   "metadata": {},
   "outputs": [],
   "source": [
    "import unicodecsv\n",
    "import pandas as pd\n",
    "import numpy as np\n",
    "import matplotlib.pyplot as plt\n",
    "import seaborn as sns\n",
    "import datetime as dt\n",
    "import math\n",
    "from scipy import stats\n",
    "from scipy.stats import norm\n",
    "from datetime import datetime\n",
    "from sklearn.model_selection import train_test_split\n",
    "from sklearn.ensemble import RandomForestClassifier\n",
    "from sklearn.metrics import precision_score\n",
    "from sklearn.metrics import confusion_matrix\n",
    "from sklearn.metrics import recall_score\n",
    "from sklearn.metrics import f1_score\n",
    "from sklearn import preprocessing\n",
    "from sklearn.model_selection import RandomizedSearchCV\n",
    "from sklearn.linear_model import LinearRegression \n",
    "\n",
    "pd.options.display.float_format = '{:.0f}'.format"
   ]
  },
  {
   "cell_type": "markdown",
   "metadata": {},
   "source": [
    "# --------------------------------------------------------------------------------------------------------------"
   ]
  },
  {
   "cell_type": "markdown",
   "metadata": {},
   "source": [
    "# --------------------------------------------------------------------------------------------------------------"
   ]
  },
  {
   "cell_type": "markdown",
   "metadata": {},
   "source": [
    "## Data Visualization"
   ]
  },
  {
   "cell_type": "markdown",
   "metadata": {},
   "source": [
    "### Import Dataset"
   ]
  },
  {
   "cell_type": "code",
   "execution_count": 2,
   "metadata": {},
   "outputs": [
    {
     "data": {
      "text/html": [
       "<div>\n",
       "<style scoped>\n",
       "    .dataframe tbody tr th:only-of-type {\n",
       "        vertical-align: middle;\n",
       "    }\n",
       "\n",
       "    .dataframe tbody tr th {\n",
       "        vertical-align: top;\n",
       "    }\n",
       "\n",
       "    .dataframe thead th {\n",
       "        text-align: right;\n",
       "    }\n",
       "</style>\n",
       "<table border=\"1\" class=\"dataframe\">\n",
       "  <thead>\n",
       "    <tr style=\"text-align: right;\">\n",
       "      <th></th>\n",
       "      <th>YEAR</th>\n",
       "      <th>MONTH</th>\n",
       "      <th>DAY</th>\n",
       "      <th>DAY_OF_WEEK</th>\n",
       "      <th>AIRLINE</th>\n",
       "      <th>FLIGHT_NUMBER</th>\n",
       "      <th>TAIL_NUMBER</th>\n",
       "      <th>ORIGIN_AIRPORT</th>\n",
       "      <th>DESTINATION_AIRPORT</th>\n",
       "      <th>SCHEDULED_DEPARTURE</th>\n",
       "      <th>...</th>\n",
       "      <th>DIVERTED</th>\n",
       "      <th>CANCELLED</th>\n",
       "      <th>ON_TIME</th>\n",
       "      <th>Y</th>\n",
       "      <th>CANCELLATION_REASON</th>\n",
       "      <th>AIR_SYSTEM_DELAY</th>\n",
       "      <th>SECURITY_DELAY</th>\n",
       "      <th>AIRLINE_DELAY</th>\n",
       "      <th>LATE_AIRCRAFT_DELAY</th>\n",
       "      <th>WEATHER_DELAY</th>\n",
       "    </tr>\n",
       "  </thead>\n",
       "  <tbody>\n",
       "    <tr>\n",
       "      <td>0</td>\n",
       "      <td>2015</td>\n",
       "      <td>1</td>\n",
       "      <td>1</td>\n",
       "      <td>4</td>\n",
       "      <td>AS</td>\n",
       "      <td>98</td>\n",
       "      <td>N407AS</td>\n",
       "      <td>ANC</td>\n",
       "      <td>SEA</td>\n",
       "      <td>5</td>\n",
       "      <td>...</td>\n",
       "      <td>0</td>\n",
       "      <td>0</td>\n",
       "      <td>1</td>\n",
       "      <td>3</td>\n",
       "      <td>NaN</td>\n",
       "      <td>nan</td>\n",
       "      <td>nan</td>\n",
       "      <td>nan</td>\n",
       "      <td>nan</td>\n",
       "      <td>nan</td>\n",
       "    </tr>\n",
       "    <tr>\n",
       "      <td>1</td>\n",
       "      <td>2015</td>\n",
       "      <td>1</td>\n",
       "      <td>1</td>\n",
       "      <td>4</td>\n",
       "      <td>AA</td>\n",
       "      <td>2336</td>\n",
       "      <td>N3KUAA</td>\n",
       "      <td>LAX</td>\n",
       "      <td>PBI</td>\n",
       "      <td>10</td>\n",
       "      <td>...</td>\n",
       "      <td>0</td>\n",
       "      <td>0</td>\n",
       "      <td>1</td>\n",
       "      <td>3</td>\n",
       "      <td>NaN</td>\n",
       "      <td>nan</td>\n",
       "      <td>nan</td>\n",
       "      <td>nan</td>\n",
       "      <td>nan</td>\n",
       "      <td>nan</td>\n",
       "    </tr>\n",
       "    <tr>\n",
       "      <td>2</td>\n",
       "      <td>2015</td>\n",
       "      <td>1</td>\n",
       "      <td>1</td>\n",
       "      <td>4</td>\n",
       "      <td>US</td>\n",
       "      <td>840</td>\n",
       "      <td>N171US</td>\n",
       "      <td>SFO</td>\n",
       "      <td>CLT</td>\n",
       "      <td>20</td>\n",
       "      <td>...</td>\n",
       "      <td>0</td>\n",
       "      <td>0</td>\n",
       "      <td>0</td>\n",
       "      <td>0</td>\n",
       "      <td>NaN</td>\n",
       "      <td>nan</td>\n",
       "      <td>nan</td>\n",
       "      <td>nan</td>\n",
       "      <td>nan</td>\n",
       "      <td>nan</td>\n",
       "    </tr>\n",
       "    <tr>\n",
       "      <td>3</td>\n",
       "      <td>2015</td>\n",
       "      <td>1</td>\n",
       "      <td>1</td>\n",
       "      <td>4</td>\n",
       "      <td>AA</td>\n",
       "      <td>258</td>\n",
       "      <td>N3HYAA</td>\n",
       "      <td>LAX</td>\n",
       "      <td>MIA</td>\n",
       "      <td>20</td>\n",
       "      <td>...</td>\n",
       "      <td>0</td>\n",
       "      <td>0</td>\n",
       "      <td>1</td>\n",
       "      <td>3</td>\n",
       "      <td>NaN</td>\n",
       "      <td>nan</td>\n",
       "      <td>nan</td>\n",
       "      <td>nan</td>\n",
       "      <td>nan</td>\n",
       "      <td>nan</td>\n",
       "    </tr>\n",
       "    <tr>\n",
       "      <td>4</td>\n",
       "      <td>2015</td>\n",
       "      <td>1</td>\n",
       "      <td>1</td>\n",
       "      <td>4</td>\n",
       "      <td>AS</td>\n",
       "      <td>135</td>\n",
       "      <td>N527AS</td>\n",
       "      <td>SEA</td>\n",
       "      <td>ANC</td>\n",
       "      <td>25</td>\n",
       "      <td>...</td>\n",
       "      <td>0</td>\n",
       "      <td>0</td>\n",
       "      <td>1</td>\n",
       "      <td>3</td>\n",
       "      <td>NaN</td>\n",
       "      <td>nan</td>\n",
       "      <td>nan</td>\n",
       "      <td>nan</td>\n",
       "      <td>nan</td>\n",
       "      <td>nan</td>\n",
       "    </tr>\n",
       "    <tr>\n",
       "      <td>...</td>\n",
       "      <td>...</td>\n",
       "      <td>...</td>\n",
       "      <td>...</td>\n",
       "      <td>...</td>\n",
       "      <td>...</td>\n",
       "      <td>...</td>\n",
       "      <td>...</td>\n",
       "      <td>...</td>\n",
       "      <td>...</td>\n",
       "      <td>...</td>\n",
       "      <td>...</td>\n",
       "      <td>...</td>\n",
       "      <td>...</td>\n",
       "      <td>...</td>\n",
       "      <td>...</td>\n",
       "      <td>...</td>\n",
       "      <td>...</td>\n",
       "      <td>...</td>\n",
       "      <td>...</td>\n",
       "      <td>...</td>\n",
       "      <td>...</td>\n",
       "    </tr>\n",
       "    <tr>\n",
       "      <td>1048570</td>\n",
       "      <td>2015</td>\n",
       "      <td>3</td>\n",
       "      <td>25</td>\n",
       "      <td>3</td>\n",
       "      <td>AS</td>\n",
       "      <td>695</td>\n",
       "      <td>N767AS</td>\n",
       "      <td>GEG</td>\n",
       "      <td>SEA</td>\n",
       "      <td>500</td>\n",
       "      <td>...</td>\n",
       "      <td>0</td>\n",
       "      <td>0</td>\n",
       "      <td>1</td>\n",
       "      <td>3</td>\n",
       "      <td>NaN</td>\n",
       "      <td>nan</td>\n",
       "      <td>nan</td>\n",
       "      <td>nan</td>\n",
       "      <td>nan</td>\n",
       "      <td>nan</td>\n",
       "    </tr>\n",
       "    <tr>\n",
       "      <td>1048571</td>\n",
       "      <td>2015</td>\n",
       "      <td>3</td>\n",
       "      <td>25</td>\n",
       "      <td>3</td>\n",
       "      <td>B6</td>\n",
       "      <td>746</td>\n",
       "      <td>N659JB</td>\n",
       "      <td>PSE</td>\n",
       "      <td>JFK</td>\n",
       "      <td>500</td>\n",
       "      <td>...</td>\n",
       "      <td>0</td>\n",
       "      <td>0</td>\n",
       "      <td>1</td>\n",
       "      <td>3</td>\n",
       "      <td>NaN</td>\n",
       "      <td>nan</td>\n",
       "      <td>nan</td>\n",
       "      <td>nan</td>\n",
       "      <td>nan</td>\n",
       "      <td>nan</td>\n",
       "    </tr>\n",
       "    <tr>\n",
       "      <td>1048572</td>\n",
       "      <td>2015</td>\n",
       "      <td>3</td>\n",
       "      <td>25</td>\n",
       "      <td>3</td>\n",
       "      <td>B6</td>\n",
       "      <td>962</td>\n",
       "      <td>N564JB</td>\n",
       "      <td>SJU</td>\n",
       "      <td>BOS</td>\n",
       "      <td>500</td>\n",
       "      <td>...</td>\n",
       "      <td>0</td>\n",
       "      <td>0</td>\n",
       "      <td>0</td>\n",
       "      <td>0</td>\n",
       "      <td>NaN</td>\n",
       "      <td>3</td>\n",
       "      <td>0</td>\n",
       "      <td>9</td>\n",
       "      <td>4</td>\n",
       "      <td>0</td>\n",
       "    </tr>\n",
       "    <tr>\n",
       "      <td>1048573</td>\n",
       "      <td>2015</td>\n",
       "      <td>3</td>\n",
       "      <td>25</td>\n",
       "      <td>3</td>\n",
       "      <td>B6</td>\n",
       "      <td>1504</td>\n",
       "      <td>N606JB</td>\n",
       "      <td>SJU</td>\n",
       "      <td>JFK</td>\n",
       "      <td>500</td>\n",
       "      <td>...</td>\n",
       "      <td>0</td>\n",
       "      <td>0</td>\n",
       "      <td>1</td>\n",
       "      <td>3</td>\n",
       "      <td>NaN</td>\n",
       "      <td>nan</td>\n",
       "      <td>nan</td>\n",
       "      <td>nan</td>\n",
       "      <td>nan</td>\n",
       "      <td>nan</td>\n",
       "    </tr>\n",
       "    <tr>\n",
       "      <td>1048574</td>\n",
       "      <td>2015</td>\n",
       "      <td>3</td>\n",
       "      <td>25</td>\n",
       "      <td>3</td>\n",
       "      <td>DL</td>\n",
       "      <td>2619</td>\n",
       "      <td>N931DN</td>\n",
       "      <td>FAR</td>\n",
       "      <td>MSP</td>\n",
       "      <td>500</td>\n",
       "      <td>...</td>\n",
       "      <td>0</td>\n",
       "      <td>0</td>\n",
       "      <td>0</td>\n",
       "      <td>0</td>\n",
       "      <td>NaN</td>\n",
       "      <td>nan</td>\n",
       "      <td>nan</td>\n",
       "      <td>nan</td>\n",
       "      <td>nan</td>\n",
       "      <td>nan</td>\n",
       "    </tr>\n",
       "  </tbody>\n",
       "</table>\n",
       "<p>1048575 rows × 34 columns</p>\n",
       "</div>"
      ],
      "text/plain": [
       "         YEAR  MONTH  DAY  DAY_OF_WEEK AIRLINE  FLIGHT_NUMBER TAIL_NUMBER  \\\n",
       "0        2015      1    1            4      AS             98      N407AS   \n",
       "1        2015      1    1            4      AA           2336      N3KUAA   \n",
       "2        2015      1    1            4      US            840      N171US   \n",
       "3        2015      1    1            4      AA            258      N3HYAA   \n",
       "4        2015      1    1            4      AS            135      N527AS   \n",
       "...       ...    ...  ...          ...     ...            ...         ...   \n",
       "1048570  2015      3   25            3      AS            695      N767AS   \n",
       "1048571  2015      3   25            3      B6            746      N659JB   \n",
       "1048572  2015      3   25            3      B6            962      N564JB   \n",
       "1048573  2015      3   25            3      B6           1504      N606JB   \n",
       "1048574  2015      3   25            3      DL           2619      N931DN   \n",
       "\n",
       "        ORIGIN_AIRPORT DESTINATION_AIRPORT  SCHEDULED_DEPARTURE  ...  \\\n",
       "0                  ANC                 SEA                    5  ...   \n",
       "1                  LAX                 PBI                   10  ...   \n",
       "2                  SFO                 CLT                   20  ...   \n",
       "3                  LAX                 MIA                   20  ...   \n",
       "4                  SEA                 ANC                   25  ...   \n",
       "...                ...                 ...                  ...  ...   \n",
       "1048570            GEG                 SEA                  500  ...   \n",
       "1048571            PSE                 JFK                  500  ...   \n",
       "1048572            SJU                 BOS                  500  ...   \n",
       "1048573            SJU                 JFK                  500  ...   \n",
       "1048574            FAR                 MSP                  500  ...   \n",
       "\n",
       "         DIVERTED  CANCELLED  ON_TIME  Y  CANCELLATION_REASON  \\\n",
       "0               0          0        1  3                  NaN   \n",
       "1               0          0        1  3                  NaN   \n",
       "2               0          0        0  0                  NaN   \n",
       "3               0          0        1  3                  NaN   \n",
       "4               0          0        1  3                  NaN   \n",
       "...           ...        ...      ... ..                  ...   \n",
       "1048570         0          0        1  3                  NaN   \n",
       "1048571         0          0        1  3                  NaN   \n",
       "1048572         0          0        0  0                  NaN   \n",
       "1048573         0          0        1  3                  NaN   \n",
       "1048574         0          0        0  0                  NaN   \n",
       "\n",
       "         AIR_SYSTEM_DELAY  SECURITY_DELAY  AIRLINE_DELAY  LATE_AIRCRAFT_DELAY  \\\n",
       "0                     nan             nan            nan                  nan   \n",
       "1                     nan             nan            nan                  nan   \n",
       "2                     nan             nan            nan                  nan   \n",
       "3                     nan             nan            nan                  nan   \n",
       "4                     nan             nan            nan                  nan   \n",
       "...                   ...             ...            ...                  ...   \n",
       "1048570               nan             nan            nan                  nan   \n",
       "1048571               nan             nan            nan                  nan   \n",
       "1048572                 3               0              9                    4   \n",
       "1048573               nan             nan            nan                  nan   \n",
       "1048574               nan             nan            nan                  nan   \n",
       "\n",
       "         WEATHER_DELAY  \n",
       "0                  nan  \n",
       "1                  nan  \n",
       "2                  nan  \n",
       "3                  nan  \n",
       "4                  nan  \n",
       "...                ...  \n",
       "1048570            nan  \n",
       "1048571            nan  \n",
       "1048572              0  \n",
       "1048573            nan  \n",
       "1048574            nan  \n",
       "\n",
       "[1048575 rows x 34 columns]"
      ]
     },
     "execution_count": 2,
     "metadata": {},
     "output_type": "execute_result"
    }
   ],
   "source": [
    "flights = pd.read_csv(\"flights.csv\")\n",
    "flights"
   ]
  },
  {
   "cell_type": "markdown",
   "metadata": {},
   "source": [
    "### Columns in Flights Dataset"
   ]
  },
  {
   "cell_type": "markdown",
   "metadata": {},
   "source": [
    "YEAR\t\n",
    "MONTH\t\n",
    "DAY\t\n",
    "DAY_OF_WEEK\t\n",
    "AIRLINE\t\n",
    "FLIGHT_NUMBER\t\n",
    "TAIL_NUMBER\t\n",
    "ORIGIN_AIRPORT\t\n",
    "DESTINATION_AIRPORT\t\n",
    "SCHEDULED_DEPARTURE\t\n",
    "DEPARTURE_TIME    \n",
    "DEPARTURE_DELAY\t\n",
    "TAXI_OUT\t\n",
    "WHEELS_OFF\t\n",
    "SCHEDULED_TIME\t\n",
    "ELAPSED_TIME\t\n",
    "AIR_TIME\t\n",
    "DISTANCE\t\n",
    "WHEELS_ON\t\n",
    "TAXI_IN\t\n",
    "SCHEDULED_ARRIVAL\t\n",
    "ARRIVAL_TIME\t\n",
    "ARRIVAL_DELAY\t\n",
    "ARRIVAL_DELAY_STATUS\t\n",
    "DIVERTED\t\n",
    "CANCELLED\t\n",
    "ON_TIME\t\n",
    "Y\t\n",
    "CANCELLATION_REASON\t\n",
    "AIR_SYSTEM_DELAY\t\n",
    "SECURITY_DELAY\t\n",
    "AIRLINE_DELAY\t\n",
    "LATE_AIRCRAFT_DELAY\t\n",
    "WEATHER_DELAY"
   ]
  },
  {
   "cell_type": "markdown",
   "metadata": {},
   "source": [
    "# --------------------------------------------------------------------------------------------------------------"
   ]
  },
  {
   "cell_type": "markdown",
   "metadata": {},
   "source": [
    "# --------------------------------------------------------------------------------------------------------------"
   ]
  },
  {
   "cell_type": "markdown",
   "metadata": {},
   "source": [
    "## General Dataset Processing"
   ]
  },
  {
   "cell_type": "markdown",
   "metadata": {},
   "source": [
    "### Check NaN Values"
   ]
  },
  {
   "cell_type": "code",
   "execution_count": 3,
   "metadata": {},
   "outputs": [
    {
     "data": {
      "text/plain": [
       "YEAR                          0\n",
       "MONTH                         0\n",
       "DAY                           0\n",
       "DAY_OF_WEEK                   0\n",
       "AIRLINE                       0\n",
       "FLIGHT_NUMBER                 0\n",
       "TAIL_NUMBER                6798\n",
       "ORIGIN_AIRPORT                0\n",
       "DESTINATION_AIRPORT           0\n",
       "SCHEDULED_DEPARTURE           0\n",
       "DEPARTURE_TIME            33585\n",
       "DEPARTURE_DELAY           33585\n",
       "TAXI_OUT                  34176\n",
       "WHEELS_OFF                34176\n",
       "SCHEDULED_TIME                2\n",
       "ELAPSED_TIME              36520\n",
       "AIR_TIME                  36520\n",
       "DISTANCE                      0\n",
       "WHEELS_ON                 34980\n",
       "TAXI_IN                   34980\n",
       "SCHEDULED_ARRIVAL             0\n",
       "ARRIVAL_TIME              34980\n",
       "ARRIVAL_DELAY             36520\n",
       "ARRIVAL_DELAY_STATUS          0\n",
       "DIVERTED                      0\n",
       "CANCELLED                     0\n",
       "ON_TIME                       0\n",
       "Y                             0\n",
       "CANCELLATION_REASON     1005647\n",
       "AIR_SYSTEM_DELAY         795962\n",
       "SECURITY_DELAY           795962\n",
       "AIRLINE_DELAY            795962\n",
       "LATE_AIRCRAFT_DELAY      795962\n",
       "WEATHER_DELAY            795962\n",
       "dtype: int64"
      ]
     },
     "execution_count": 3,
     "metadata": {},
     "output_type": "execute_result"
    }
   ],
   "source": [
    "flights.isnull().sum()"
   ]
  },
  {
   "cell_type": "markdown",
   "metadata": {},
   "source": [
    "### Creating New Variables and Renaming "
   ]
  },
  {
   "cell_type": "code",
   "execution_count": 4,
   "metadata": {},
   "outputs": [],
   "source": [
    "flights['DEPARTURE_DATE'] = pd.to_datetime(flights.YEAR*10000+flights.MONTH*100+flights.DAY,format='%Y%m%d')"
   ]
  },
  {
   "cell_type": "markdown",
   "metadata": {},
   "source": [
    "#### Flight Status, Flight was on time (0), slightly delayed (1), highly delayed (2), diverted (3), or cancelled (4)"
   ]
  },
  {
   "cell_type": "code",
   "execution_count": 5,
   "metadata": {},
   "outputs": [],
   "source": [
    "for dataset in flights:\n",
    "    flights.loc[flights['ARRIVAL_DELAY'] <= 15, 'FLIGHT_STATUS'] = 0\n",
    "    flights.loc[flights['ARRIVAL_DELAY'] >= 15, 'FLIGHT_STATUS'] = 1\n",
    "    flights.loc[flights['ARRIVAL_DELAY'] >= 60, 'FLIGHT_STATUS'] = 2\n",
    "    flights.loc[flights['ARRIVAL_DELAY'] == 1, 'FLIGHT_STATUS'] = 3\n",
    "    flights.loc[flights['CANCELLED'] == 1, 'FLIGHT_STATUS'] = 4\n",
    "for dataset in flights:\n",
    "    flights.loc[flights['ON_TIME'] == 1, 'FLIGHT_STATUS'] = 0\n"
   ]
  },
  {
   "cell_type": "markdown",
   "metadata": {},
   "source": [
    "#### Cancellation Reason"
   ]
  },
  {
   "cell_type": "code",
   "execution_count": 6,
   "metadata": {},
   "outputs": [],
   "source": [
    "flights.loc[flights[\"CANCELLATION_REASON\"] ==\"A\", 'CANCELLATION_REASON'] = \"0\"\n",
    "flights.loc[flights[\"CANCELLATION_REASON\"] ==\"B\", 'CANCELLATION_REASON'] = \"1\"\n",
    "flights.loc[flights[\"CANCELLATION_REASON\"] ==\"C\", 'CANCELLATION_REASON'] = \"2\""
   ]
  },
  {
   "cell_type": "markdown",
   "metadata": {},
   "source": [
    "#### Departure_Delayed_Status, 0=Departure delayed less than 15 minutes, 1=Departure delayed 15 minutes or more"
   ]
  },
  {
   "cell_type": "code",
   "execution_count": 7,
   "metadata": {},
   "outputs": [],
   "source": [
    "for dataset in flights:\n",
    "    flights.loc[flights['DEPARTURE_DELAY'] < 15, 'DEPARTURE_DELAYED_STATUS'] = 0\n",
    "    flights.loc[flights['DEPARTURE_DELAY'] >= 15, 'DEPARTURE_DELAYED_STATUS'] = 1    "
   ]
  },
  {
   "cell_type": "markdown",
   "metadata": {},
   "source": [
    "#### Arrival_Delayed_Status, 0=Arrived less than 15 minutes late, 1=Arrived 15 minutes or more late"
   ]
  },
  {
   "cell_type": "code",
   "execution_count": 8,
   "metadata": {},
   "outputs": [],
   "source": [
    "for dataset in flights:\n",
    "    flights.loc[flights['ARRIVAL_DELAY'] < 15, 'ARRIVAL_DELAYED_STATUS'] = 0\n",
    "    flights.loc[flights['ARRIVAL_DELAY'] >= 15, 'ARRIVAL_DELAYED_STATUS'] = 1    "
   ]
  },
  {
   "cell_type": "markdown",
   "metadata": {},
   "source": [
    "### Remove Unwanted Features"
   ]
  },
  {
   "cell_type": "code",
   "execution_count": 9,
   "metadata": {},
   "outputs": [],
   "source": [
    "flights = flights.drop(\"YEAR\",1) #Converted to date\n",
    "#flights = flights.drop(\"DAY\",1) #Converted to date\n",
    "#flights = flights.drop(\"DEPARTURE_TIME\",1) #Of the departure data we only keep the expected \n",
    "#flights = flights.drop(\"DEPARTURE_DELAY\",1)\n",
    "#flights = flights.drop(\"ARRIVAL_TIME\",1)\n",
    "#flights = flights.drop(\"SCHEDULED_ARRIVAL\",1)\n",
    "#flights = flights.drop(\"ELAPSED_TIME\",1)\n",
    "#flights = flights.drop(\"SCHEDULED_TIME\",1)\n",
    "#flights = flights.drop(\"DIVERTED\",1)\n",
    "#flights = flights.drop(\"CANCELLED\",1)\n",
    "#flights = flights.drop(\"DISTANCE\",1)\n",
    "flights = flights.drop(\"FLIGHT_NUMBER\",1)\n",
    "flights = flights.drop(\"TAIL_NUMBER\",1)"
   ]
  },
  {
   "cell_type": "markdown",
   "metadata": {},
   "source": [
    "# --------------------------------------------------------------------------------------------------------------"
   ]
  },
  {
   "cell_type": "markdown",
   "metadata": {},
   "source": [
    "# --------------------------------------------------------------------------------------------------------------"
   ]
  },
  {
   "cell_type": "markdown",
   "metadata": {},
   "source": [
    "## Dataset Analysis"
   ]
  },
  {
   "cell_type": "markdown",
   "metadata": {},
   "source": [
    "### Pearsons Correlation matrix"
   ]
  },
  {
   "cell_type": "code",
   "execution_count": 10,
   "metadata": {
    "scrolled": false
   },
   "outputs": [
    {
     "data": {
      "image/png": "[encoded data removed]",
      "text/plain": [
       "<Figure size 864x648 with 2 Axes>"
      ]
     },
     "metadata": {
      "needs_background": "light"
     },
     "output_type": "display_data"
    }
   ],
   "source": [
    "corrmat = flights.corr()\n",
    "f, ax = plt.subplots(figsize=(12, 9))\n",
    "sns.heatmap(corrmat, vmax=.8, square=True);\n",
    "plt.show()"
   ]
  },
  {
   "cell_type": "markdown",
   "metadata": {},
   "source": [
    "The correlation coefficient has values between -1 to 1    \n",
    "— A value closer to 0 implies weaker correlation (exact 0 implying no correlation)    \n",
    "— A value closer to 1 implies stronger positive correlation    \n",
    "— A value closer to -1 implies stronger negative correlation    \n",
    "\n",
    "Through the correlation matrix we can see how some variables in the dataset can be linearly predicted from the others.\n",
    "We can also make the following observations:\n",
    "1. Only when Arrival Delay is longer than 15 minutes there's data about what caused the delay. Arrival Delay is the sum of AirlineDelay, WeatherDelay and LateAircraftDelay. In cases of cancelation or diversion there's no data related to delay causes.\n",
    "2. We can predict STATUS(type) using ON_TIME(bool), ARRIVAL DELAY(time), DEPARTURE DELAY(time), CANCELLED(bool) and Y(uncertain) via regularized logistic regression / random forest classification.\n",
    "3. We can predict ON_TIME(bool) using DEPARTURE_DELAY(time), TAXI_OUT(time), WHEELS_OFF(distance), ELAPSED_TIME(time), TAXI_IN(time), ARRIVAL_DELAY_STATUS(bool), CANCELLED(bool) and Y(uncertain) via regularized logistic regression / random forest classification.\n",
    "4. We can predict DISTANCE using SCHEDULED_TIME, ELAPSED_TIME and AIR_TIME via regularized linear regression.\n",
    "5. We can predict ARRIVAL_TIME(time) using SCHEDULED_DEPARTURE(time), DEPARTURE_TIME(time), WHEELS_OFF(time), WHEELS_ON(time) and SCHEDULED_ARRIVAL(time) via regularized linear regression.\n",
    "6. we can predict ARRIVAL_DELAYED_STATUS using "
   ]
  },
  {
   "cell_type": "code",
   "execution_count": 11,
   "metadata": {},
   "outputs": [
    {
     "data": {
      "image/png": "[encoded data removed]",
      "text/plain": [
       "<Figure size 1440x576 with 2 Axes>"
      ]
     },
     "metadata": {
      "needs_background": "light"
     },
     "output_type": "display_data"
    },
    {
     "name": "stdout",
     "output_type": "stream",
     "text": [
      "FLIGHT_STATUS represents wether the flight was on time (0), slightly delayed (1), highly delayed (2), diverted (3), or cancelled (4)\n"
     ]
    }
   ],
   "source": [
    "f,ax=plt.subplots(1,2,figsize=(20,8))\n",
    "flights['FLIGHT_STATUS'].value_counts().plot.pie(explode=[0.05,0.05,0.05,0,0],autopct='%1.1f%%',ax=ax[0],shadow=True)\n",
    "ax[0].set_title('FLIGHT_STATUS')\n",
    "ax[0].set_ylabel('')\n",
    "sns.countplot('FLIGHT_STATUS',order = flights['FLIGHT_STATUS'].value_counts().index, data=flights,ax=ax[1])\n",
    "ax[1].set_title('FLIGHT_STATUS')\n",
    "plt.show()\n",
    "print('FLIGHT_STATUS represents wether the flight was on time (0), slightly delayed (1), highly delayed (2), diverted (3), or cancelled (4)')"
   ]
  },
  {
   "cell_type": "markdown",
   "metadata": {},
   "source": [
    "#### Cancelled flights"
   ]
  },
  {
   "cell_type": "code",
   "execution_count": 12,
   "metadata": {},
   "outputs": [
    {
     "data": {
      "image/png": "[encoded data removed]",
      "text/plain": [
       "<Figure size 432x288 with 1 Axes>"
      ]
     },
     "metadata": {
      "needs_background": "light"
     },
     "output_type": "display_data"
    }
   ],
   "source": [
    "flights[['DEPARTURE_DATE','CANCELLATION_REASON']].groupby(['DEPARTURE_DATE']).count().plot()\n",
    "plt.show()"
   ]
  },
  {
   "cell_type": "markdown",
   "metadata": {},
   "source": [
    "#### Delayed flights"
   ]
  },
  {
   "cell_type": "code",
   "execution_count": 13,
   "metadata": {},
   "outputs": [
    {
     "data": {
      "image/png": "[encoded data removed]",
      "text/plain": [
       "<Figure size 432x288 with 1 Axes>"
      ]
     },
     "metadata": {
      "needs_background": "light"
     },
     "output_type": "display_data"
    },
    {
     "name": "stdout",
     "output_type": "stream",
     "text": [
      "Skewness: 5.578332\n"
     ]
    }
   ],
   "source": [
    "Delayedflights = flights[(flights.FLIGHT_STATUS >= 1) &(flights.FLIGHT_STATUS < 3)]\n",
    "sns.distplot(Delayedflights['ARRIVAL_DELAY'])\n",
    "plt.show()\n",
    "print(\"Skewness: %f\" % Delayedflights['ARRIVAL_DELAY'].skew())"
   ]
  },
  {
   "cell_type": "markdown",
   "metadata": {},
   "source": [
    "The delays are mostly located on the left side of the graph, with a long tail to the right. The majority of delays are short, and the longer delays, while unusual, are more heavy loaded in time"
   ]
  },
  {
   "cell_type": "markdown",
   "metadata": {},
   "source": [
    "#### Delays/Month"
   ]
  },
  {
   "cell_type": "code",
   "execution_count": 14,
   "metadata": {},
   "outputs": [
    {
     "data": {
      "image/png": "[encoded data removed]",
      "text/plain": [
       "<Figure size 1440x576 with 2 Axes>"
      ]
     },
     "metadata": {
      "needs_background": "light"
     },
     "output_type": "display_data"
    }
   ],
   "source": [
    "f,ax=plt.subplots(1,2,figsize=(20,8))\n",
    "Delayedflights[['MONTH','ARRIVAL_DELAY']].groupby(['MONTH']).mean().plot(ax=ax[0])\n",
    "ax[0].set_title('Average delay by month')\n",
    "Delayedflights[['MONTH','ARRIVAL_DELAY']].groupby(['MONTH']).sum().plot(ax=ax[1])\n",
    "ax[1].set_title('Number of minutes delayed by month')\n",
    "plt.show()"
   ]
  },
  {
   "cell_type": "markdown",
   "metadata": {},
   "source": [
    "#### Delay Types"
   ]
  },
  {
   "cell_type": "code",
   "execution_count": 15,
   "metadata": {},
   "outputs": [
    {
     "data": {
      "image/png": "[encoded data removed]",
      "text/plain": [
       "<Figure size 432x432 with 3 Axes>"
      ]
     },
     "metadata": {
      "needs_background": "light"
     },
     "output_type": "display_data"
    }
   ],
   "source": [
    "sns.jointplot(x='DEPARTURE_TIME',y='ARRIVAL_DELAY',data=Delayedflights,kind='reg', color='b',fit_reg = True)\n",
    "plt.show()"
   ]
  },
  {
   "cell_type": "markdown",
   "metadata": {},
   "source": [
    "As the day goes on, there are more and more delays.    The delayed flights get divided into two groups: one with longer delays and other with shorter. Maybe the delays generated by previous flights either increase or decrease in each following trip."
   ]
  },
  {
   "cell_type": "markdown",
   "metadata": {},
   "source": [
    "#### Corelation Between Delays"
   ]
  },
  {
   "cell_type": "code",
   "execution_count": 16,
   "metadata": {},
   "outputs": [
    {
     "data": {
      "image/png": "[encoded data removed]",
      "text/plain": [
       "<Figure size 648x648 with 2 Axes>"
      ]
     },
     "metadata": {
      "needs_background": "light"
     },
     "output_type": "display_data"
    }
   ],
   "source": [
    "delcorrmat = Delayedflights.corr()\n",
    "k = 10 #number of variables for heatmap\n",
    "f, ax = plt.subplots(figsize=(9, 9))\n",
    "cols = delcorrmat.nlargest(k, 'ARRIVAL_DELAY')['ARRIVAL_DELAY'].index\n",
    "cm = np.corrcoef(Delayedflights[cols].values.T)\n",
    "sns.set(font_scale=1.25)\n",
    "hm = sns.heatmap(cm, cbar=True, annot=True, square=True, fmt='.2f', annot_kws={'size': 15}, yticklabels=cols.values, xticklabels=cols.values)\n",
    "plt.show()"
   ]
  },
  {
   "cell_type": "code",
   "execution_count": 17,
   "metadata": {},
   "outputs": [
    {
     "data": {
      "image/png": "[encoded data removed]",
      "text/plain": [
       "<Figure size 432x288 with 1 Axes>"
      ]
     },
     "metadata": {},
     "output_type": "display_data"
    }
   ],
   "source": [
    "df2 = Delayedflights.filter(['MONTH','AIRLINE_DELAY','WEATHER_DELAY','AIR_SYSTEM_DELAY','SECURITY_DELAY','LATE_AIRCRAFT_DELAY'], axis=1)\n",
    "df2 = df2.groupby('MONTH')['LATE_AIRCRAFT_DELAY','AIRLINE_DELAY','WEATHER_DELAY','AIR_SYSTEM_DELAY','SECURITY_DELAY'].sum().plot()\n",
    "df2.legend(loc='upper center', bbox_to_anchor=(0.5, 1.25), ncol=3, fancybox=True, shadow=True)\n",
    "plt.show()"
   ]
  },
  {
   "cell_type": "markdown",
   "metadata": {},
   "source": [
    "There doesn't seem to be a significant correlation between the types of delay. "
   ]
  },
  {
   "cell_type": "markdown",
   "metadata": {},
   "source": [
    "#### Comparing Airlines"
   ]
  },
  {
   "cell_type": "code",
   "execution_count": 18,
   "metadata": {},
   "outputs": [
    {
     "name": "stdout",
     "output_type": "stream",
     "text": [
      "WN    223370\n",
      "DL    150071\n",
      "EV    111038\n",
      "OO    106053\n",
      "AA     96926\n",
      "UA     88495\n",
      "US     73320\n",
      "MQ     63489\n",
      "B6     47804\n",
      "AS     29729\n",
      "NK     19700\n",
      "F9     14451\n",
      "HA     13876\n",
      "VX     10253\n",
      "Name: AIRLINE, dtype: int64\n"
     ]
    }
   ],
   "source": [
    "print(flights['AIRLINE'].value_counts())"
   ]
  },
  {
   "cell_type": "code",
   "execution_count": 19,
   "metadata": {},
   "outputs": [
    {
     "data": {
      "image/png": "[encoded data removed]",
      "text/plain": [
       "<Figure size 1440x576 with 2 Axes>"
      ]
     },
     "metadata": {},
     "output_type": "display_data"
    },
    {
     "name": "stdout",
     "output_type": "stream",
     "text": [
      "['WN: Southwest Airlines', 'AA: American Airlines', 'MQ: American Eagle Airlines', 'UA: United Airlines', 'OO: Skywest Airlines', 'DL: Delta Airlines', 'XE: ExpressJet', 'CO: Continental Airlines', 'US: US Airways', 'EV: Atlantic Southeast Airlines', 'NW: Northwest Airlines', 'FL: AirTran Airways', 'YV: Mesa Airlines', 'B6: JetBlue Airways', 'OH: Comair', '9E: Pinnacle Airlines', 'AS: Alaska Airlines', 'F9: Frontier Airlines', 'HA: Hawaiian Airlines', 'AQ: Aloha Airlines']\n"
     ]
    }
   ],
   "source": [
    "f,ax=plt.subplots(1,2,figsize=(20,8))\n",
    "sns.barplot('AIRLINE','AIRLINE_DELAY', data=Delayedflights,ax=ax[0], order=['WN', 'AA', 'MQ', 'UA','OO','DL','XE','CO',\n",
    "                                                                                'US','EV', 'NW','FL','YV', 'B6','OH','9E',\n",
    "                                                                                 'AS','F9','HA','AQ'])\n",
    "ax[0].set_title('Average Delay by Carrier')\n",
    "sns.boxplot('AIRLINE','AIRLINE_DELAY', data=Delayedflights,ax=ax[1], order=['WN', 'AA', 'MQ', 'UA','OO','DL','XE','CO',\n",
    "                                                                                'US','EV', 'NW','FL','YV', 'B6','OH','9E',\n",
    "                                                                                 'AS','F9','HA','AQ'])\n",
    "ax[1].set_title('Delay Distribution by Carrier')\n",
    "plt.close(2)\n",
    "plt.show()\n",
    "\n",
    "print(['WN: Southwest Airlines', 'AA: American Airlines', 'MQ: American Eagle Airlines', 'UA: United Airlines',\n",
    "       'OO: Skywest Airlines','DL: Delta Airlines','XE: ExpressJet','CO: Continental Airlines','US: US Airways',\n",
    "       'EV: Atlantic Southeast Airlines', 'NW: Northwest Airlines','FL: AirTran Airways','YV: Mesa Airlines', \n",
    "       'B6: JetBlue Airways','OH: Comair','9E: Pinnacle Airlines','AS: Alaska Airlines','F9: Frontier Airlines',\n",
    "       'HA: Hawaiian Airlines','AQ: Aloha Airlines'])"
   ]
  },
  {
   "cell_type": "markdown",
   "metadata": {},
   "source": [
    "# --------------------------------------------------------------------------------------------------------------"
   ]
  },
  {
   "cell_type": "markdown",
   "metadata": {},
   "source": [
    "# --------------------------------------------------------------------------------------------------------------"
   ]
  },
  {
   "cell_type": "markdown",
   "metadata": {},
   "source": [
    "## Predict Arrival Delayed Status using Random Forest Classification<br/>\n",
    "Arrived less than 15 minutes late (0), Arrived 15 minutes or more late (1)"
   ]
  },
  {
   "cell_type": "markdown",
   "metadata": {},
   "source": [
    "### Dataset Pre-processing"
   ]
  },
  {
   "cell_type": "markdown",
   "metadata": {},
   "source": [
    "#### Dataset Trimming"
   ]
  },
  {
   "cell_type": "code",
   "execution_count": 20,
   "metadata": {},
   "outputs": [
    {
     "data": {
      "text/html": [
       "<div>\n",
       "<style scoped>\n",
       "    .dataframe tbody tr th:only-of-type {\n",
       "        vertical-align: middle;\n",
       "    }\n",
       "\n",
       "    .dataframe tbody tr th {\n",
       "        vertical-align: top;\n",
       "    }\n",
       "\n",
       "    .dataframe thead th {\n",
       "        text-align: right;\n",
       "    }\n",
       "</style>\n",
       "<table border=\"1\" class=\"dataframe\">\n",
       "  <thead>\n",
       "    <tr style=\"text-align: right;\">\n",
       "      <th></th>\n",
       "      <th>MONTH</th>\n",
       "      <th>DAY</th>\n",
       "      <th>DAY_OF_WEEK</th>\n",
       "      <th>ORIGIN_AIRPORT</th>\n",
       "      <th>DESTINATION_AIRPORT</th>\n",
       "      <th>SCHEDULED_DEPARTURE</th>\n",
       "      <th>ON_TIME</th>\n",
       "      <th>DEPARTURE_DELAYED_STATUS</th>\n",
       "      <th>ARRIVAL_DELAYED_STATUS</th>\n",
       "    </tr>\n",
       "  </thead>\n",
       "  <tbody>\n",
       "    <tr>\n",
       "      <td>0</td>\n",
       "      <td>1</td>\n",
       "      <td>1</td>\n",
       "      <td>4</td>\n",
       "      <td>ANC</td>\n",
       "      <td>SEA</td>\n",
       "      <td>5</td>\n",
       "      <td>1</td>\n",
       "      <td>0</td>\n",
       "      <td>0</td>\n",
       "    </tr>\n",
       "    <tr>\n",
       "      <td>1</td>\n",
       "      <td>1</td>\n",
       "      <td>1</td>\n",
       "      <td>4</td>\n",
       "      <td>LAX</td>\n",
       "      <td>PBI</td>\n",
       "      <td>10</td>\n",
       "      <td>1</td>\n",
       "      <td>0</td>\n",
       "      <td>0</td>\n",
       "    </tr>\n",
       "    <tr>\n",
       "      <td>2</td>\n",
       "      <td>1</td>\n",
       "      <td>1</td>\n",
       "      <td>4</td>\n",
       "      <td>SFO</td>\n",
       "      <td>CLT</td>\n",
       "      <td>20</td>\n",
       "      <td>0</td>\n",
       "      <td>0</td>\n",
       "      <td>0</td>\n",
       "    </tr>\n",
       "    <tr>\n",
       "      <td>3</td>\n",
       "      <td>1</td>\n",
       "      <td>1</td>\n",
       "      <td>4</td>\n",
       "      <td>LAX</td>\n",
       "      <td>MIA</td>\n",
       "      <td>20</td>\n",
       "      <td>1</td>\n",
       "      <td>0</td>\n",
       "      <td>0</td>\n",
       "    </tr>\n",
       "    <tr>\n",
       "      <td>4</td>\n",
       "      <td>1</td>\n",
       "      <td>1</td>\n",
       "      <td>4</td>\n",
       "      <td>SEA</td>\n",
       "      <td>ANC</td>\n",
       "      <td>25</td>\n",
       "      <td>1</td>\n",
       "      <td>0</td>\n",
       "      <td>0</td>\n",
       "    </tr>\n",
       "    <tr>\n",
       "      <td>...</td>\n",
       "      <td>...</td>\n",
       "      <td>...</td>\n",
       "      <td>...</td>\n",
       "      <td>...</td>\n",
       "      <td>...</td>\n",
       "      <td>...</td>\n",
       "      <td>...</td>\n",
       "      <td>...</td>\n",
       "      <td>...</td>\n",
       "    </tr>\n",
       "    <tr>\n",
       "      <td>1048570</td>\n",
       "      <td>3</td>\n",
       "      <td>25</td>\n",
       "      <td>3</td>\n",
       "      <td>GEG</td>\n",
       "      <td>SEA</td>\n",
       "      <td>500</td>\n",
       "      <td>1</td>\n",
       "      <td>0</td>\n",
       "      <td>0</td>\n",
       "    </tr>\n",
       "    <tr>\n",
       "      <td>1048571</td>\n",
       "      <td>3</td>\n",
       "      <td>25</td>\n",
       "      <td>3</td>\n",
       "      <td>PSE</td>\n",
       "      <td>JFK</td>\n",
       "      <td>500</td>\n",
       "      <td>1</td>\n",
       "      <td>0</td>\n",
       "      <td>0</td>\n",
       "    </tr>\n",
       "    <tr>\n",
       "      <td>1048572</td>\n",
       "      <td>3</td>\n",
       "      <td>25</td>\n",
       "      <td>3</td>\n",
       "      <td>SJU</td>\n",
       "      <td>BOS</td>\n",
       "      <td>500</td>\n",
       "      <td>0</td>\n",
       "      <td>0</td>\n",
       "      <td>1</td>\n",
       "    </tr>\n",
       "    <tr>\n",
       "      <td>1048573</td>\n",
       "      <td>3</td>\n",
       "      <td>25</td>\n",
       "      <td>3</td>\n",
       "      <td>SJU</td>\n",
       "      <td>JFK</td>\n",
       "      <td>500</td>\n",
       "      <td>1</td>\n",
       "      <td>0</td>\n",
       "      <td>0</td>\n",
       "    </tr>\n",
       "    <tr>\n",
       "      <td>1048574</td>\n",
       "      <td>3</td>\n",
       "      <td>25</td>\n",
       "      <td>3</td>\n",
       "      <td>FAR</td>\n",
       "      <td>MSP</td>\n",
       "      <td>500</td>\n",
       "      <td>0</td>\n",
       "      <td>0</td>\n",
       "      <td>0</td>\n",
       "    </tr>\n",
       "  </tbody>\n",
       "</table>\n",
       "<p>1048575 rows × 9 columns</p>\n",
       "</div>"
      ],
      "text/plain": [
       "         MONTH  DAY  DAY_OF_WEEK ORIGIN_AIRPORT DESTINATION_AIRPORT  \\\n",
       "0            1    1            4            ANC                 SEA   \n",
       "1            1    1            4            LAX                 PBI   \n",
       "2            1    1            4            SFO                 CLT   \n",
       "3            1    1            4            LAX                 MIA   \n",
       "4            1    1            4            SEA                 ANC   \n",
       "...        ...  ...          ...            ...                 ...   \n",
       "1048570      3   25            3            GEG                 SEA   \n",
       "1048571      3   25            3            PSE                 JFK   \n",
       "1048572      3   25            3            SJU                 BOS   \n",
       "1048573      3   25            3            SJU                 JFK   \n",
       "1048574      3   25            3            FAR                 MSP   \n",
       "\n",
       "         SCHEDULED_DEPARTURE  ON_TIME  DEPARTURE_DELAYED_STATUS  \\\n",
       "0                          5        1                         0   \n",
       "1                         10        1                         0   \n",
       "2                         20        0                         0   \n",
       "3                         20        1                         0   \n",
       "4                         25        1                         0   \n",
       "...                      ...      ...                       ...   \n",
       "1048570                  500        1                         0   \n",
       "1048571                  500        1                         0   \n",
       "1048572                  500        0                         0   \n",
       "1048573                  500        1                         0   \n",
       "1048574                  500        0                         0   \n",
       "\n",
       "         ARRIVAL_DELAYED_STATUS  \n",
       "0                             0  \n",
       "1                             0  \n",
       "2                             0  \n",
       "3                             0  \n",
       "4                             0  \n",
       "...                         ...  \n",
       "1048570                       0  \n",
       "1048571                       0  \n",
       "1048572                       1  \n",
       "1048573                       0  \n",
       "1048574                       0  \n",
       "\n",
       "[1048575 rows x 9 columns]"
      ]
     },
     "execution_count": 20,
     "metadata": {},
     "output_type": "execute_result"
    }
   ],
   "source": [
    "dataset_Predict_Arrival_Delayed_Status = flights[[\"MONTH\", \"DAY\", \"DAY_OF_WEEK\", \"ORIGIN_AIRPORT\", \"DESTINATION_AIRPORT\", \"SCHEDULED_DEPARTURE\", \"ON_TIME\", \"DEPARTURE_DELAYED_STATUS\", \"ARRIVAL_DELAYED_STATUS\"]]\n",
    "dataset_Predict_Arrival_Delayed_Status"
   ]
  },
  {
   "cell_type": "markdown",
   "metadata": {},
   "source": [
    "#### Checking NaN Missing Values"
   ]
  },
  {
   "cell_type": "code",
   "execution_count": 21,
   "metadata": {},
   "outputs": [
    {
     "data": {
      "text/plain": [
       "MONTH                           0\n",
       "DAY                             0\n",
       "DAY_OF_WEEK                     0\n",
       "ORIGIN_AIRPORT                  0\n",
       "DESTINATION_AIRPORT             0\n",
       "SCHEDULED_DEPARTURE             0\n",
       "ON_TIME                         0\n",
       "DEPARTURE_DELAYED_STATUS    33585\n",
       "ARRIVAL_DELAYED_STATUS      36520\n",
       "dtype: int64"
      ]
     },
     "execution_count": 21,
     "metadata": {},
     "output_type": "execute_result"
    }
   ],
   "source": [
    "dataset_Predict_Arrival_Delayed_Status.isnull().sum()"
   ]
  },
  {
   "cell_type": "code",
   "execution_count": 22,
   "metadata": {},
   "outputs": [
    {
     "data": {
      "text/html": [
       "<div>\n",
       "<style scoped>\n",
       "    .dataframe tbody tr th:only-of-type {\n",
       "        vertical-align: middle;\n",
       "    }\n",
       "\n",
       "    .dataframe tbody tr th {\n",
       "        vertical-align: top;\n",
       "    }\n",
       "\n",
       "    .dataframe thead th {\n",
       "        text-align: right;\n",
       "    }\n",
       "</style>\n",
       "<table border=\"1\" class=\"dataframe\">\n",
       "  <thead>\n",
       "    <tr style=\"text-align: right;\">\n",
       "      <th></th>\n",
       "      <th>MONTH</th>\n",
       "      <th>DAY</th>\n",
       "      <th>DAY_OF_WEEK</th>\n",
       "      <th>ORIGIN_AIRPORT</th>\n",
       "      <th>DESTINATION_AIRPORT</th>\n",
       "      <th>SCHEDULED_DEPARTURE</th>\n",
       "      <th>ON_TIME</th>\n",
       "      <th>DEPARTURE_DELAYED_STATUS</th>\n",
       "      <th>ARRIVAL_DELAYED_STATUS</th>\n",
       "    </tr>\n",
       "  </thead>\n",
       "  <tbody>\n",
       "    <tr>\n",
       "      <td>32</td>\n",
       "      <td>1</td>\n",
       "      <td>1</td>\n",
       "      <td>4</td>\n",
       "      <td>ANC</td>\n",
       "      <td>SEA</td>\n",
       "      <td>135</td>\n",
       "      <td>0</td>\n",
       "      <td>nan</td>\n",
       "      <td>nan</td>\n",
       "    </tr>\n",
       "    <tr>\n",
       "      <td>42</td>\n",
       "      <td>1</td>\n",
       "      <td>1</td>\n",
       "      <td>4</td>\n",
       "      <td>PHX</td>\n",
       "      <td>DFW</td>\n",
       "      <td>200</td>\n",
       "      <td>0</td>\n",
       "      <td>nan</td>\n",
       "      <td>nan</td>\n",
       "    </tr>\n",
       "    <tr>\n",
       "      <td>68</td>\n",
       "      <td>1</td>\n",
       "      <td>1</td>\n",
       "      <td>4</td>\n",
       "      <td>MAF</td>\n",
       "      <td>IAH</td>\n",
       "      <td>510</td>\n",
       "      <td>0</td>\n",
       "      <td>nan</td>\n",
       "      <td>nan</td>\n",
       "    </tr>\n",
       "    <tr>\n",
       "      <td>82</td>\n",
       "      <td>1</td>\n",
       "      <td>1</td>\n",
       "      <td>4</td>\n",
       "      <td>SGF</td>\n",
       "      <td>DFW</td>\n",
       "      <td>525</td>\n",
       "      <td>0</td>\n",
       "      <td>nan</td>\n",
       "      <td>nan</td>\n",
       "    </tr>\n",
       "    <tr>\n",
       "      <td>90</td>\n",
       "      <td>1</td>\n",
       "      <td>1</td>\n",
       "      <td>4</td>\n",
       "      <td>RDD</td>\n",
       "      <td>SFO</td>\n",
       "      <td>530</td>\n",
       "      <td>0</td>\n",
       "      <td>nan</td>\n",
       "      <td>nan</td>\n",
       "    </tr>\n",
       "  </tbody>\n",
       "</table>\n",
       "</div>"
      ],
      "text/plain": [
       "    MONTH  DAY  DAY_OF_WEEK ORIGIN_AIRPORT DESTINATION_AIRPORT  \\\n",
       "32      1    1            4            ANC                 SEA   \n",
       "42      1    1            4            PHX                 DFW   \n",
       "68      1    1            4            MAF                 IAH   \n",
       "82      1    1            4            SGF                 DFW   \n",
       "90      1    1            4            RDD                 SFO   \n",
       "\n",
       "    SCHEDULED_DEPARTURE  ON_TIME  DEPARTURE_DELAYED_STATUS  \\\n",
       "32                  135        0                       nan   \n",
       "42                  200        0                       nan   \n",
       "68                  510        0                       nan   \n",
       "82                  525        0                       nan   \n",
       "90                  530        0                       nan   \n",
       "\n",
       "    ARRIVAL_DELAYED_STATUS  \n",
       "32                     nan  \n",
       "42                     nan  \n",
       "68                     nan  \n",
       "82                     nan  \n",
       "90                     nan  "
      ]
     },
     "execution_count": 22,
     "metadata": {},
     "output_type": "execute_result"
    }
   ],
   "source": [
    "dataset_Predict_Arrival_Delayed_Status[dataset_Predict_Arrival_Delayed_Status.isnull().values.any(axis=1)].head()"
   ]
  },
  {
   "cell_type": "markdown",
   "metadata": {},
   "source": [
    "Rows with missing DEPARTURE_DELAYED_STATUS values all refer to flights that were canceled or diverted. We can assume these flights were delayed more than 15 falling into catagory of 1."
   ]
  },
  {
   "cell_type": "markdown",
   "metadata": {},
   "source": [
    "#### Filling NaN Missing Values"
   ]
  },
  {
   "cell_type": "code",
   "execution_count": 23,
   "metadata": {},
   "outputs": [
    {
     "data": {
      "text/plain": [
       "MONTH                       0\n",
       "DAY                         0\n",
       "DAY_OF_WEEK                 0\n",
       "ORIGIN_AIRPORT              0\n",
       "DESTINATION_AIRPORT         0\n",
       "SCHEDULED_DEPARTURE         0\n",
       "ON_TIME                     0\n",
       "DEPARTURE_DELAYED_STATUS    0\n",
       "ARRIVAL_DELAYED_STATUS      0\n",
       "dtype: int64"
      ]
     },
     "execution_count": 23,
     "metadata": {},
     "output_type": "execute_result"
    }
   ],
   "source": [
    "dataset_Predict_Arrival_Delayed_Status = dataset_Predict_Arrival_Delayed_Status.fillna({'ARRIVAL_DELAYED_STATUS': 1})\n",
    "dataset_Predict_Arrival_Delayed_Status = dataset_Predict_Arrival_Delayed_Status.fillna({'DEPARTURE_DELAYED_STATUS': 1})\n",
    "dataset_Predict_Arrival_Delayed_Status.isnull().sum()"
   ]
  },
  {
   "cell_type": "markdown",
   "metadata": {},
   "source": [
    "#### SCHEDULED_DEPARTURE In Correct Format"
   ]
  },
  {
   "cell_type": "code",
   "execution_count": 24,
   "metadata": {},
   "outputs": [
    {
     "data": {
      "text/plain": [
       "\"for index, row in dataset_Predict_Flights.iterrows():\\n    dataset_Predict_Flights.loc[index, 'SCHEDULED_DEPARTURE'] = math.floor(row['SCHEDULED_DEPARTURE'] / 100)\\ndataset_Predict_Flights\""
      ]
     },
     "execution_count": 24,
     "metadata": {},
     "output_type": "execute_result"
    }
   ],
   "source": [
    "\"\"\"for index, row in dataset_Predict_Flights.iterrows():\n",
    "    dataset_Predict_Flights.loc[index, 'SCHEDULED_DEPARTURE'] = math.floor(row['SCHEDULED_DEPARTURE'] / 100)\n",
    "dataset_Predict_Flights\"\"\""
   ]
  },
  {
   "cell_type": "code",
   "execution_count": 25,
   "metadata": {},
   "outputs": [
    {
     "data": {
      "text/html": [
       "<div>\n",
       "<style scoped>\n",
       "    .dataframe tbody tr th:only-of-type {\n",
       "        vertical-align: middle;\n",
       "    }\n",
       "\n",
       "    .dataframe tbody tr th {\n",
       "        vertical-align: top;\n",
       "    }\n",
       "\n",
       "    .dataframe thead th {\n",
       "        text-align: right;\n",
       "    }\n",
       "</style>\n",
       "<table border=\"1\" class=\"dataframe\">\n",
       "  <thead>\n",
       "    <tr style=\"text-align: right;\">\n",
       "      <th></th>\n",
       "      <th>MONTH</th>\n",
       "      <th>DAY</th>\n",
       "      <th>DAY_OF_WEEK</th>\n",
       "      <th>SCHEDULED_DEPARTURE</th>\n",
       "      <th>ON_TIME</th>\n",
       "      <th>DEPARTURE_DELAYED_STATUS</th>\n",
       "      <th>ARRIVAL_DELAYED_STATUS</th>\n",
       "      <th>ORIGIN_AIRPORT_ABE</th>\n",
       "      <th>ORIGIN_AIRPORT_ABI</th>\n",
       "      <th>ORIGIN_AIRPORT_ABQ</th>\n",
       "      <th>...</th>\n",
       "      <th>DESTINATION_AIRPORT_TYR</th>\n",
       "      <th>DESTINATION_AIRPORT_TYS</th>\n",
       "      <th>DESTINATION_AIRPORT_UST</th>\n",
       "      <th>DESTINATION_AIRPORT_VEL</th>\n",
       "      <th>DESTINATION_AIRPORT_VLD</th>\n",
       "      <th>DESTINATION_AIRPORT_VPS</th>\n",
       "      <th>DESTINATION_AIRPORT_WRG</th>\n",
       "      <th>DESTINATION_AIRPORT_XNA</th>\n",
       "      <th>DESTINATION_AIRPORT_YAK</th>\n",
       "      <th>DESTINATION_AIRPORT_YUM</th>\n",
       "    </tr>\n",
       "  </thead>\n",
       "  <tbody>\n",
       "    <tr>\n",
       "      <td>0</td>\n",
       "      <td>1</td>\n",
       "      <td>1</td>\n",
       "      <td>4</td>\n",
       "      <td>5</td>\n",
       "      <td>1</td>\n",
       "      <td>0</td>\n",
       "      <td>0</td>\n",
       "      <td>0</td>\n",
       "      <td>0</td>\n",
       "      <td>0</td>\n",
       "      <td>...</td>\n",
       "      <td>0</td>\n",
       "      <td>0</td>\n",
       "      <td>0</td>\n",
       "      <td>0</td>\n",
       "      <td>0</td>\n",
       "      <td>0</td>\n",
       "      <td>0</td>\n",
       "      <td>0</td>\n",
       "      <td>0</td>\n",
       "      <td>0</td>\n",
       "    </tr>\n",
       "    <tr>\n",
       "      <td>1</td>\n",
       "      <td>1</td>\n",
       "      <td>1</td>\n",
       "      <td>4</td>\n",
       "      <td>10</td>\n",
       "      <td>1</td>\n",
       "      <td>0</td>\n",
       "      <td>0</td>\n",
       "      <td>0</td>\n",
       "      <td>0</td>\n",
       "      <td>0</td>\n",
       "      <td>...</td>\n",
       "      <td>0</td>\n",
       "      <td>0</td>\n",
       "      <td>0</td>\n",
       "      <td>0</td>\n",
       "      <td>0</td>\n",
       "      <td>0</td>\n",
       "      <td>0</td>\n",
       "      <td>0</td>\n",
       "      <td>0</td>\n",
       "      <td>0</td>\n",
       "    </tr>\n",
       "    <tr>\n",
       "      <td>2</td>\n",
       "      <td>1</td>\n",
       "      <td>1</td>\n",
       "      <td>4</td>\n",
       "      <td>20</td>\n",
       "      <td>0</td>\n",
       "      <td>0</td>\n",
       "      <td>0</td>\n",
       "      <td>0</td>\n",
       "      <td>0</td>\n",
       "      <td>0</td>\n",
       "      <td>...</td>\n",
       "      <td>0</td>\n",
       "      <td>0</td>\n",
       "      <td>0</td>\n",
       "      <td>0</td>\n",
       "      <td>0</td>\n",
       "      <td>0</td>\n",
       "      <td>0</td>\n",
       "      <td>0</td>\n",
       "      <td>0</td>\n",
       "      <td>0</td>\n",
       "    </tr>\n",
       "    <tr>\n",
       "      <td>3</td>\n",
       "      <td>1</td>\n",
       "      <td>1</td>\n",
       "      <td>4</td>\n",
       "      <td>20</td>\n",
       "      <td>1</td>\n",
       "      <td>0</td>\n",
       "      <td>0</td>\n",
       "      <td>0</td>\n",
       "      <td>0</td>\n",
       "      <td>0</td>\n",
       "      <td>...</td>\n",
       "      <td>0</td>\n",
       "      <td>0</td>\n",
       "      <td>0</td>\n",
       "      <td>0</td>\n",
       "      <td>0</td>\n",
       "      <td>0</td>\n",
       "      <td>0</td>\n",
       "      <td>0</td>\n",
       "      <td>0</td>\n",
       "      <td>0</td>\n",
       "    </tr>\n",
       "    <tr>\n",
       "      <td>4</td>\n",
       "      <td>1</td>\n",
       "      <td>1</td>\n",
       "      <td>4</td>\n",
       "      <td>25</td>\n",
       "      <td>1</td>\n",
       "      <td>0</td>\n",
       "      <td>0</td>\n",
       "      <td>0</td>\n",
       "      <td>0</td>\n",
       "      <td>0</td>\n",
       "      <td>...</td>\n",
       "      <td>0</td>\n",
       "      <td>0</td>\n",
       "      <td>0</td>\n",
       "      <td>0</td>\n",
       "      <td>0</td>\n",
       "      <td>0</td>\n",
       "      <td>0</td>\n",
       "      <td>0</td>\n",
       "      <td>0</td>\n",
       "      <td>0</td>\n",
       "    </tr>\n",
       "  </tbody>\n",
       "</table>\n",
       "<p>5 rows × 637 columns</p>\n",
       "</div>"
      ],
      "text/plain": [
       "   MONTH  DAY  DAY_OF_WEEK  SCHEDULED_DEPARTURE  ON_TIME  \\\n",
       "0      1    1            4                    5        1   \n",
       "1      1    1            4                   10        1   \n",
       "2      1    1            4                   20        0   \n",
       "3      1    1            4                   20        1   \n",
       "4      1    1            4                   25        1   \n",
       "\n",
       "   DEPARTURE_DELAYED_STATUS  ARRIVAL_DELAYED_STATUS  ORIGIN_AIRPORT_ABE  \\\n",
       "0                         0                       0                   0   \n",
       "1                         0                       0                   0   \n",
       "2                         0                       0                   0   \n",
       "3                         0                       0                   0   \n",
       "4                         0                       0                   0   \n",
       "\n",
       "   ORIGIN_AIRPORT_ABI  ORIGIN_AIRPORT_ABQ  ...  DESTINATION_AIRPORT_TYR  \\\n",
       "0                   0                   0  ...                        0   \n",
       "1                   0                   0  ...                        0   \n",
       "2                   0                   0  ...                        0   \n",
       "3                   0                   0  ...                        0   \n",
       "4                   0                   0  ...                        0   \n",
       "\n",
       "   DESTINATION_AIRPORT_TYS  DESTINATION_AIRPORT_UST  DESTINATION_AIRPORT_VEL  \\\n",
       "0                        0                        0                        0   \n",
       "1                        0                        0                        0   \n",
       "2                        0                        0                        0   \n",
       "3                        0                        0                        0   \n",
       "4                        0                        0                        0   \n",
       "\n",
       "   DESTINATION_AIRPORT_VLD  DESTINATION_AIRPORT_VPS  DESTINATION_AIRPORT_WRG  \\\n",
       "0                        0                        0                        0   \n",
       "1                        0                        0                        0   \n",
       "2                        0                        0                        0   \n",
       "3                        0                        0                        0   \n",
       "4                        0                        0                        0   \n",
       "\n",
       "   DESTINATION_AIRPORT_XNA  DESTINATION_AIRPORT_YAK  DESTINATION_AIRPORT_YUM  \n",
       "0                        0                        0                        0  \n",
       "1                        0                        0                        0  \n",
       "2                        0                        0                        0  \n",
       "3                        0                        0                        0  \n",
       "4                        0                        0                        0  \n",
       "\n",
       "[5 rows x 637 columns]"
      ]
     },
     "execution_count": 25,
     "metadata": {},
     "output_type": "execute_result"
    }
   ],
   "source": [
    "dataset_Predict_Arrival_Delayed_Status = pd.get_dummies(dataset_Predict_Arrival_Delayed_Status, columns=['ORIGIN_AIRPORT', 'DESTINATION_AIRPORT'])\n",
    "dataset_Predict_Arrival_Delayed_Status.head()"
   ]
  },
  {
   "cell_type": "markdown",
   "metadata": {},
   "source": [
    "#### Build Model"
   ]
  },
  {
   "cell_type": "code",
   "execution_count": 26,
   "metadata": {},
   "outputs": [],
   "source": [
    "predict_Arrival_Delayed_Status_Train_x, predict_Arrival_Delayed_Status_Test_x, predict_Arrival_Delayed_Status_Train_y, predict_Arrival_Delayed_Status_Test_y = train_test_split(dataset_Predict_Arrival_Delayed_Status.drop('ARRIVAL_DELAYED_STATUS', axis=1), dataset_Predict_Arrival_Delayed_Status['ARRIVAL_DELAYED_STATUS'], test_size=0.2, random_state=42)"
   ]
  },
  {
   "cell_type": "markdown",
   "metadata": {},
   "source": [
    "Splitting the orignal dataset into training set containing (80%), and a test set(20%). Rows are randomized using random_state. train_test_split function returns four dataframes. "
   ]
  },
  {
   "cell_type": "markdown",
   "metadata": {},
   "source": [
    "#### Mean Normalization"
   ]
  },
  {
   "cell_type": "code",
   "execution_count": 27,
   "metadata": {},
   "outputs": [],
   "source": [
    "#predict_Arrival_Delayed_Status_Train_x = preprocessing.scale(predict_Arrival_Delayed_Status_Train_x)"
   ]
  },
  {
   "cell_type": "code",
   "execution_count": 28,
   "metadata": {},
   "outputs": [
    {
     "data": {
      "text/html": [
       "<div>\n",
       "<style scoped>\n",
       "    .dataframe tbody tr th:only-of-type {\n",
       "        vertical-align: middle;\n",
       "    }\n",
       "\n",
       "    .dataframe tbody tr th {\n",
       "        vertical-align: top;\n",
       "    }\n",
       "\n",
       "    .dataframe thead th {\n",
       "        text-align: right;\n",
       "    }\n",
       "</style>\n",
       "<table border=\"1\" class=\"dataframe\">\n",
       "  <thead>\n",
       "    <tr style=\"text-align: right;\">\n",
       "      <th></th>\n",
       "      <th>MONTH</th>\n",
       "      <th>DAY</th>\n",
       "      <th>DAY_OF_WEEK</th>\n",
       "      <th>SCHEDULED_DEPARTURE</th>\n",
       "      <th>ON_TIME</th>\n",
       "      <th>DEPARTURE_DELAYED_STATUS</th>\n",
       "      <th>ORIGIN_AIRPORT_ABE</th>\n",
       "      <th>ORIGIN_AIRPORT_ABI</th>\n",
       "      <th>ORIGIN_AIRPORT_ABQ</th>\n",
       "      <th>ORIGIN_AIRPORT_ABR</th>\n",
       "      <th>...</th>\n",
       "      <th>DESTINATION_AIRPORT_TYR</th>\n",
       "      <th>DESTINATION_AIRPORT_TYS</th>\n",
       "      <th>DESTINATION_AIRPORT_UST</th>\n",
       "      <th>DESTINATION_AIRPORT_VEL</th>\n",
       "      <th>DESTINATION_AIRPORT_VLD</th>\n",
       "      <th>DESTINATION_AIRPORT_VPS</th>\n",
       "      <th>DESTINATION_AIRPORT_WRG</th>\n",
       "      <th>DESTINATION_AIRPORT_XNA</th>\n",
       "      <th>DESTINATION_AIRPORT_YAK</th>\n",
       "      <th>DESTINATION_AIRPORT_YUM</th>\n",
       "    </tr>\n",
       "  </thead>\n",
       "  <tbody>\n",
       "    <tr>\n",
       "      <td>408561</td>\n",
       "      <td>2</td>\n",
       "      <td>12</td>\n",
       "      <td>4</td>\n",
       "      <td>1833</td>\n",
       "      <td>0</td>\n",
       "      <td>1</td>\n",
       "      <td>0</td>\n",
       "      <td>0</td>\n",
       "      <td>0</td>\n",
       "      <td>0</td>\n",
       "      <td>...</td>\n",
       "      <td>0</td>\n",
       "      <td>0</td>\n",
       "      <td>0</td>\n",
       "      <td>0</td>\n",
       "      <td>0</td>\n",
       "      <td>0</td>\n",
       "      <td>0</td>\n",
       "      <td>0</td>\n",
       "      <td>0</td>\n",
       "      <td>0</td>\n",
       "    </tr>\n",
       "    <tr>\n",
       "      <td>70143</td>\n",
       "      <td>1</td>\n",
       "      <td>21</td>\n",
       "      <td>3</td>\n",
       "      <td>1125</td>\n",
       "      <td>1</td>\n",
       "      <td>0</td>\n",
       "      <td>0</td>\n",
       "      <td>0</td>\n",
       "      <td>0</td>\n",
       "      <td>0</td>\n",
       "      <td>...</td>\n",
       "      <td>0</td>\n",
       "      <td>0</td>\n",
       "      <td>0</td>\n",
       "      <td>0</td>\n",
       "      <td>0</td>\n",
       "      <td>0</td>\n",
       "      <td>0</td>\n",
       "      <td>0</td>\n",
       "      <td>0</td>\n",
       "      <td>0</td>\n",
       "    </tr>\n",
       "    <tr>\n",
       "      <td>708782</td>\n",
       "      <td>3</td>\n",
       "      <td>4</td>\n",
       "      <td>3</td>\n",
       "      <td>750</td>\n",
       "      <td>0</td>\n",
       "      <td>1</td>\n",
       "      <td>0</td>\n",
       "      <td>0</td>\n",
       "      <td>0</td>\n",
       "      <td>0</td>\n",
       "      <td>...</td>\n",
       "      <td>0</td>\n",
       "      <td>0</td>\n",
       "      <td>0</td>\n",
       "      <td>0</td>\n",
       "      <td>0</td>\n",
       "      <td>0</td>\n",
       "      <td>0</td>\n",
       "      <td>0</td>\n",
       "      <td>0</td>\n",
       "      <td>0</td>\n",
       "    </tr>\n",
       "    <tr>\n",
       "      <td>572694</td>\n",
       "      <td>2</td>\n",
       "      <td>23</td>\n",
       "      <td>1</td>\n",
       "      <td>1320</td>\n",
       "      <td>0</td>\n",
       "      <td>1</td>\n",
       "      <td>0</td>\n",
       "      <td>0</td>\n",
       "      <td>0</td>\n",
       "      <td>0</td>\n",
       "      <td>...</td>\n",
       "      <td>0</td>\n",
       "      <td>0</td>\n",
       "      <td>0</td>\n",
       "      <td>0</td>\n",
       "      <td>0</td>\n",
       "      <td>0</td>\n",
       "      <td>0</td>\n",
       "      <td>0</td>\n",
       "      <td>0</td>\n",
       "      <td>0</td>\n",
       "    </tr>\n",
       "    <tr>\n",
       "      <td>774181</td>\n",
       "      <td>3</td>\n",
       "      <td>8</td>\n",
       "      <td>7</td>\n",
       "      <td>950</td>\n",
       "      <td>1</td>\n",
       "      <td>0</td>\n",
       "      <td>0</td>\n",
       "      <td>0</td>\n",
       "      <td>0</td>\n",
       "      <td>0</td>\n",
       "      <td>...</td>\n",
       "      <td>0</td>\n",
       "      <td>0</td>\n",
       "      <td>0</td>\n",
       "      <td>0</td>\n",
       "      <td>0</td>\n",
       "      <td>0</td>\n",
       "      <td>0</td>\n",
       "      <td>0</td>\n",
       "      <td>0</td>\n",
       "      <td>0</td>\n",
       "    </tr>\n",
       "    <tr>\n",
       "      <td>...</td>\n",
       "      <td>...</td>\n",
       "      <td>...</td>\n",
       "      <td>...</td>\n",
       "      <td>...</td>\n",
       "      <td>...</td>\n",
       "      <td>...</td>\n",
       "      <td>...</td>\n",
       "      <td>...</td>\n",
       "      <td>...</td>\n",
       "      <td>...</td>\n",
       "      <td>...</td>\n",
       "      <td>...</td>\n",
       "      <td>...</td>\n",
       "      <td>...</td>\n",
       "      <td>...</td>\n",
       "      <td>...</td>\n",
       "      <td>...</td>\n",
       "      <td>...</td>\n",
       "      <td>...</td>\n",
       "      <td>...</td>\n",
       "      <td>...</td>\n",
       "    </tr>\n",
       "    <tr>\n",
       "      <td>259178</td>\n",
       "      <td>2</td>\n",
       "      <td>3</td>\n",
       "      <td>2</td>\n",
       "      <td>600</td>\n",
       "      <td>1</td>\n",
       "      <td>0</td>\n",
       "      <td>0</td>\n",
       "      <td>0</td>\n",
       "      <td>0</td>\n",
       "      <td>0</td>\n",
       "      <td>...</td>\n",
       "      <td>0</td>\n",
       "      <td>0</td>\n",
       "      <td>0</td>\n",
       "      <td>0</td>\n",
       "      <td>0</td>\n",
       "      <td>0</td>\n",
       "      <td>0</td>\n",
       "      <td>0</td>\n",
       "      <td>0</td>\n",
       "      <td>0</td>\n",
       "    </tr>\n",
       "    <tr>\n",
       "      <td>365838</td>\n",
       "      <td>2</td>\n",
       "      <td>10</td>\n",
       "      <td>2</td>\n",
       "      <td>655</td>\n",
       "      <td>1</td>\n",
       "      <td>0</td>\n",
       "      <td>0</td>\n",
       "      <td>0</td>\n",
       "      <td>0</td>\n",
       "      <td>0</td>\n",
       "      <td>...</td>\n",
       "      <td>0</td>\n",
       "      <td>0</td>\n",
       "      <td>0</td>\n",
       "      <td>0</td>\n",
       "      <td>0</td>\n",
       "      <td>0</td>\n",
       "      <td>0</td>\n",
       "      <td>0</td>\n",
       "      <td>0</td>\n",
       "      <td>0</td>\n",
       "    </tr>\n",
       "    <tr>\n",
       "      <td>131932</td>\n",
       "      <td>1</td>\n",
       "      <td>25</td>\n",
       "      <td>7</td>\n",
       "      <td>1428</td>\n",
       "      <td>1</td>\n",
       "      <td>0</td>\n",
       "      <td>0</td>\n",
       "      <td>0</td>\n",
       "      <td>0</td>\n",
       "      <td>0</td>\n",
       "      <td>...</td>\n",
       "      <td>0</td>\n",
       "      <td>0</td>\n",
       "      <td>0</td>\n",
       "      <td>0</td>\n",
       "      <td>0</td>\n",
       "      <td>0</td>\n",
       "      <td>0</td>\n",
       "      <td>0</td>\n",
       "      <td>0</td>\n",
       "      <td>0</td>\n",
       "    </tr>\n",
       "    <tr>\n",
       "      <td>671155</td>\n",
       "      <td>3</td>\n",
       "      <td>1</td>\n",
       "      <td>7</td>\n",
       "      <td>1850</td>\n",
       "      <td>0</td>\n",
       "      <td>0</td>\n",
       "      <td>0</td>\n",
       "      <td>0</td>\n",
       "      <td>0</td>\n",
       "      <td>0</td>\n",
       "      <td>...</td>\n",
       "      <td>0</td>\n",
       "      <td>0</td>\n",
       "      <td>0</td>\n",
       "      <td>0</td>\n",
       "      <td>0</td>\n",
       "      <td>0</td>\n",
       "      <td>0</td>\n",
       "      <td>0</td>\n",
       "      <td>0</td>\n",
       "      <td>0</td>\n",
       "    </tr>\n",
       "    <tr>\n",
       "      <td>121958</td>\n",
       "      <td>1</td>\n",
       "      <td>24</td>\n",
       "      <td>6</td>\n",
       "      <td>1750</td>\n",
       "      <td>0</td>\n",
       "      <td>0</td>\n",
       "      <td>0</td>\n",
       "      <td>0</td>\n",
       "      <td>0</td>\n",
       "      <td>0</td>\n",
       "      <td>...</td>\n",
       "      <td>0</td>\n",
       "      <td>0</td>\n",
       "      <td>0</td>\n",
       "      <td>0</td>\n",
       "      <td>0</td>\n",
       "      <td>0</td>\n",
       "      <td>0</td>\n",
       "      <td>0</td>\n",
       "      <td>0</td>\n",
       "      <td>0</td>\n",
       "    </tr>\n",
       "  </tbody>\n",
       "</table>\n",
       "<p>838860 rows × 636 columns</p>\n",
       "</div>"
      ],
      "text/plain": [
       "        MONTH  DAY  DAY_OF_WEEK  SCHEDULED_DEPARTURE  ON_TIME  \\\n",
       "408561      2   12            4                 1833        0   \n",
       "70143       1   21            3                 1125        1   \n",
       "708782      3    4            3                  750        0   \n",
       "572694      2   23            1                 1320        0   \n",
       "774181      3    8            7                  950        1   \n",
       "...       ...  ...          ...                  ...      ...   \n",
       "259178      2    3            2                  600        1   \n",
       "365838      2   10            2                  655        1   \n",
       "131932      1   25            7                 1428        1   \n",
       "671155      3    1            7                 1850        0   \n",
       "121958      1   24            6                 1750        0   \n",
       "\n",
       "        DEPARTURE_DELAYED_STATUS  ORIGIN_AIRPORT_ABE  ORIGIN_AIRPORT_ABI  \\\n",
       "408561                         1                   0                   0   \n",
       "70143                          0                   0                   0   \n",
       "708782                         1                   0                   0   \n",
       "572694                         1                   0                   0   \n",
       "774181                         0                   0                   0   \n",
       "...                          ...                 ...                 ...   \n",
       "259178                         0                   0                   0   \n",
       "365838                         0                   0                   0   \n",
       "131932                         0                   0                   0   \n",
       "671155                         0                   0                   0   \n",
       "121958                         0                   0                   0   \n",
       "\n",
       "        ORIGIN_AIRPORT_ABQ  ORIGIN_AIRPORT_ABR  ...  DESTINATION_AIRPORT_TYR  \\\n",
       "408561                   0                   0  ...                        0   \n",
       "70143                    0                   0  ...                        0   \n",
       "708782                   0                   0  ...                        0   \n",
       "572694                   0                   0  ...                        0   \n",
       "774181                   0                   0  ...                        0   \n",
       "...                    ...                 ...  ...                      ...   \n",
       "259178                   0                   0  ...                        0   \n",
       "365838                   0                   0  ...                        0   \n",
       "131932                   0                   0  ...                        0   \n",
       "671155                   0                   0  ...                        0   \n",
       "121958                   0                   0  ...                        0   \n",
       "\n",
       "        DESTINATION_AIRPORT_TYS  DESTINATION_AIRPORT_UST  \\\n",
       "408561                        0                        0   \n",
       "70143                         0                        0   \n",
       "708782                        0                        0   \n",
       "572694                        0                        0   \n",
       "774181                        0                        0   \n",
       "...                         ...                      ...   \n",
       "259178                        0                        0   \n",
       "365838                        0                        0   \n",
       "131932                        0                        0   \n",
       "671155                        0                        0   \n",
       "121958                        0                        0   \n",
       "\n",
       "        DESTINATION_AIRPORT_VEL  DESTINATION_AIRPORT_VLD  \\\n",
       "408561                        0                        0   \n",
       "70143                         0                        0   \n",
       "708782                        0                        0   \n",
       "572694                        0                        0   \n",
       "774181                        0                        0   \n",
       "...                         ...                      ...   \n",
       "259178                        0                        0   \n",
       "365838                        0                        0   \n",
       "131932                        0                        0   \n",
       "671155                        0                        0   \n",
       "121958                        0                        0   \n",
       "\n",
       "        DESTINATION_AIRPORT_VPS  DESTINATION_AIRPORT_WRG  \\\n",
       "408561                        0                        0   \n",
       "70143                         0                        0   \n",
       "708782                        0                        0   \n",
       "572694                        0                        0   \n",
       "774181                        0                        0   \n",
       "...                         ...                      ...   \n",
       "259178                        0                        0   \n",
       "365838                        0                        0   \n",
       "131932                        0                        0   \n",
       "671155                        0                        0   \n",
       "121958                        0                        0   \n",
       "\n",
       "        DESTINATION_AIRPORT_XNA  DESTINATION_AIRPORT_YAK  \\\n",
       "408561                        0                        0   \n",
       "70143                         0                        0   \n",
       "708782                        0                        0   \n",
       "572694                        0                        0   \n",
       "774181                        0                        0   \n",
       "...                         ...                      ...   \n",
       "259178                        0                        0   \n",
       "365838                        0                        0   \n",
       "131932                        0                        0   \n",
       "671155                        0                        0   \n",
       "121958                        0                        0   \n",
       "\n",
       "        DESTINATION_AIRPORT_YUM  \n",
       "408561                        0  \n",
       "70143                         0  \n",
       "708782                        0  \n",
       "572694                        0  \n",
       "774181                        0  \n",
       "...                         ...  \n",
       "259178                        0  \n",
       "365838                        0  \n",
       "131932                        0  \n",
       "671155                        0  \n",
       "121958                        0  \n",
       "\n",
       "[838860 rows x 636 columns]"
      ]
     },
     "execution_count": 28,
     "metadata": {},
     "output_type": "execute_result"
    }
   ],
   "source": [
    "predict_Arrival_Delayed_Status_Train_x"
   ]
  },
  {
   "cell_type": "code",
   "execution_count": 29,
   "metadata": {},
   "outputs": [
    {
     "data": {
      "text/html": [
       "<div>\n",
       "<style scoped>\n",
       "    .dataframe tbody tr th:only-of-type {\n",
       "        vertical-align: middle;\n",
       "    }\n",
       "\n",
       "    .dataframe tbody tr th {\n",
       "        vertical-align: top;\n",
       "    }\n",
       "\n",
       "    .dataframe thead th {\n",
       "        text-align: right;\n",
       "    }\n",
       "</style>\n",
       "<table border=\"1\" class=\"dataframe\">\n",
       "  <thead>\n",
       "    <tr style=\"text-align: right;\">\n",
       "      <th></th>\n",
       "      <th>MONTH</th>\n",
       "      <th>DAY</th>\n",
       "      <th>DAY_OF_WEEK</th>\n",
       "      <th>SCHEDULED_DEPARTURE</th>\n",
       "      <th>ON_TIME</th>\n",
       "      <th>DEPARTURE_DELAYED_STATUS</th>\n",
       "      <th>ORIGIN_AIRPORT_ABE</th>\n",
       "      <th>ORIGIN_AIRPORT_ABI</th>\n",
       "      <th>ORIGIN_AIRPORT_ABQ</th>\n",
       "      <th>ORIGIN_AIRPORT_ABR</th>\n",
       "      <th>...</th>\n",
       "      <th>DESTINATION_AIRPORT_TYR</th>\n",
       "      <th>DESTINATION_AIRPORT_TYS</th>\n",
       "      <th>DESTINATION_AIRPORT_UST</th>\n",
       "      <th>DESTINATION_AIRPORT_VEL</th>\n",
       "      <th>DESTINATION_AIRPORT_VLD</th>\n",
       "      <th>DESTINATION_AIRPORT_VPS</th>\n",
       "      <th>DESTINATION_AIRPORT_WRG</th>\n",
       "      <th>DESTINATION_AIRPORT_XNA</th>\n",
       "      <th>DESTINATION_AIRPORT_YAK</th>\n",
       "      <th>DESTINATION_AIRPORT_YUM</th>\n",
       "    </tr>\n",
       "  </thead>\n",
       "  <tbody>\n",
       "    <tr>\n",
       "      <td>781974</td>\n",
       "      <td>3</td>\n",
       "      <td>8</td>\n",
       "      <td>7</td>\n",
       "      <td>1740</td>\n",
       "      <td>1</td>\n",
       "      <td>0</td>\n",
       "      <td>0</td>\n",
       "      <td>0</td>\n",
       "      <td>0</td>\n",
       "      <td>0</td>\n",
       "      <td>...</td>\n",
       "      <td>0</td>\n",
       "      <td>0</td>\n",
       "      <td>0</td>\n",
       "      <td>0</td>\n",
       "      <td>0</td>\n",
       "      <td>0</td>\n",
       "      <td>0</td>\n",
       "      <td>0</td>\n",
       "      <td>0</td>\n",
       "      <td>0</td>\n",
       "    </tr>\n",
       "    <tr>\n",
       "      <td>937737</td>\n",
       "      <td>3</td>\n",
       "      <td>18</td>\n",
       "      <td>3</td>\n",
       "      <td>848</td>\n",
       "      <td>1</td>\n",
       "      <td>0</td>\n",
       "      <td>0</td>\n",
       "      <td>0</td>\n",
       "      <td>0</td>\n",
       "      <td>0</td>\n",
       "      <td>...</td>\n",
       "      <td>0</td>\n",
       "      <td>0</td>\n",
       "      <td>0</td>\n",
       "      <td>0</td>\n",
       "      <td>0</td>\n",
       "      <td>0</td>\n",
       "      <td>0</td>\n",
       "      <td>0</td>\n",
       "      <td>0</td>\n",
       "      <td>0</td>\n",
       "    </tr>\n",
       "    <tr>\n",
       "      <td>907828</td>\n",
       "      <td>3</td>\n",
       "      <td>16</td>\n",
       "      <td>1</td>\n",
       "      <td>1204</td>\n",
       "      <td>1</td>\n",
       "      <td>0</td>\n",
       "      <td>0</td>\n",
       "      <td>0</td>\n",
       "      <td>0</td>\n",
       "      <td>0</td>\n",
       "      <td>...</td>\n",
       "      <td>0</td>\n",
       "      <td>0</td>\n",
       "      <td>0</td>\n",
       "      <td>0</td>\n",
       "      <td>0</td>\n",
       "      <td>0</td>\n",
       "      <td>0</td>\n",
       "      <td>0</td>\n",
       "      <td>0</td>\n",
       "      <td>0</td>\n",
       "    </tr>\n",
       "    <tr>\n",
       "      <td>784628</td>\n",
       "      <td>3</td>\n",
       "      <td>8</td>\n",
       "      <td>7</td>\n",
       "      <td>2020</td>\n",
       "      <td>0</td>\n",
       "      <td>1</td>\n",
       "      <td>0</td>\n",
       "      <td>0</td>\n",
       "      <td>0</td>\n",
       "      <td>0</td>\n",
       "      <td>...</td>\n",
       "      <td>0</td>\n",
       "      <td>0</td>\n",
       "      <td>0</td>\n",
       "      <td>0</td>\n",
       "      <td>0</td>\n",
       "      <td>0</td>\n",
       "      <td>0</td>\n",
       "      <td>0</td>\n",
       "      <td>0</td>\n",
       "      <td>0</td>\n",
       "    </tr>\n",
       "    <tr>\n",
       "      <td>662460</td>\n",
       "      <td>3</td>\n",
       "      <td>1</td>\n",
       "      <td>7</td>\n",
       "      <td>1000</td>\n",
       "      <td>0</td>\n",
       "      <td>0</td>\n",
       "      <td>0</td>\n",
       "      <td>0</td>\n",
       "      <td>0</td>\n",
       "      <td>0</td>\n",
       "      <td>...</td>\n",
       "      <td>0</td>\n",
       "      <td>0</td>\n",
       "      <td>0</td>\n",
       "      <td>0</td>\n",
       "      <td>0</td>\n",
       "      <td>0</td>\n",
       "      <td>0</td>\n",
       "      <td>0</td>\n",
       "      <td>0</td>\n",
       "      <td>0</td>\n",
       "    </tr>\n",
       "    <tr>\n",
       "      <td>...</td>\n",
       "      <td>...</td>\n",
       "      <td>...</td>\n",
       "      <td>...</td>\n",
       "      <td>...</td>\n",
       "      <td>...</td>\n",
       "      <td>...</td>\n",
       "      <td>...</td>\n",
       "      <td>...</td>\n",
       "      <td>...</td>\n",
       "      <td>...</td>\n",
       "      <td>...</td>\n",
       "      <td>...</td>\n",
       "      <td>...</td>\n",
       "      <td>...</td>\n",
       "      <td>...</td>\n",
       "      <td>...</td>\n",
       "      <td>...</td>\n",
       "      <td>...</td>\n",
       "      <td>...</td>\n",
       "      <td>...</td>\n",
       "      <td>...</td>\n",
       "    </tr>\n",
       "    <tr>\n",
       "      <td>673443</td>\n",
       "      <td>3</td>\n",
       "      <td>1</td>\n",
       "      <td>7</td>\n",
       "      <td>2150</td>\n",
       "      <td>1</td>\n",
       "      <td>0</td>\n",
       "      <td>0</td>\n",
       "      <td>0</td>\n",
       "      <td>0</td>\n",
       "      <td>0</td>\n",
       "      <td>...</td>\n",
       "      <td>0</td>\n",
       "      <td>0</td>\n",
       "      <td>0</td>\n",
       "      <td>0</td>\n",
       "      <td>0</td>\n",
       "      <td>0</td>\n",
       "      <td>0</td>\n",
       "      <td>0</td>\n",
       "      <td>0</td>\n",
       "      <td>0</td>\n",
       "    </tr>\n",
       "    <tr>\n",
       "      <td>656736</td>\n",
       "      <td>2</td>\n",
       "      <td>28</td>\n",
       "      <td>6</td>\n",
       "      <td>1820</td>\n",
       "      <td>1</td>\n",
       "      <td>0</td>\n",
       "      <td>0</td>\n",
       "      <td>0</td>\n",
       "      <td>0</td>\n",
       "      <td>0</td>\n",
       "      <td>...</td>\n",
       "      <td>0</td>\n",
       "      <td>0</td>\n",
       "      <td>0</td>\n",
       "      <td>0</td>\n",
       "      <td>0</td>\n",
       "      <td>0</td>\n",
       "      <td>0</td>\n",
       "      <td>0</td>\n",
       "      <td>0</td>\n",
       "      <td>0</td>\n",
       "    </tr>\n",
       "    <tr>\n",
       "      <td>858501</td>\n",
       "      <td>3</td>\n",
       "      <td>13</td>\n",
       "      <td>5</td>\n",
       "      <td>1020</td>\n",
       "      <td>1</td>\n",
       "      <td>0</td>\n",
       "      <td>0</td>\n",
       "      <td>0</td>\n",
       "      <td>0</td>\n",
       "      <td>0</td>\n",
       "      <td>...</td>\n",
       "      <td>0</td>\n",
       "      <td>0</td>\n",
       "      <td>0</td>\n",
       "      <td>0</td>\n",
       "      <td>0</td>\n",
       "      <td>0</td>\n",
       "      <td>0</td>\n",
       "      <td>0</td>\n",
       "      <td>0</td>\n",
       "      <td>0</td>\n",
       "    </tr>\n",
       "    <tr>\n",
       "      <td>617079</td>\n",
       "      <td>2</td>\n",
       "      <td>26</td>\n",
       "      <td>4</td>\n",
       "      <td>925</td>\n",
       "      <td>0</td>\n",
       "      <td>1</td>\n",
       "      <td>0</td>\n",
       "      <td>0</td>\n",
       "      <td>0</td>\n",
       "      <td>0</td>\n",
       "      <td>...</td>\n",
       "      <td>0</td>\n",
       "      <td>0</td>\n",
       "      <td>0</td>\n",
       "      <td>0</td>\n",
       "      <td>0</td>\n",
       "      <td>0</td>\n",
       "      <td>0</td>\n",
       "      <td>0</td>\n",
       "      <td>0</td>\n",
       "      <td>0</td>\n",
       "    </tr>\n",
       "    <tr>\n",
       "      <td>487559</td>\n",
       "      <td>2</td>\n",
       "      <td>18</td>\n",
       "      <td>3</td>\n",
       "      <td>545</td>\n",
       "      <td>1</td>\n",
       "      <td>0</td>\n",
       "      <td>0</td>\n",
       "      <td>0</td>\n",
       "      <td>0</td>\n",
       "      <td>0</td>\n",
       "      <td>...</td>\n",
       "      <td>0</td>\n",
       "      <td>0</td>\n",
       "      <td>0</td>\n",
       "      <td>0</td>\n",
       "      <td>0</td>\n",
       "      <td>0</td>\n",
       "      <td>0</td>\n",
       "      <td>0</td>\n",
       "      <td>0</td>\n",
       "      <td>0</td>\n",
       "    </tr>\n",
       "  </tbody>\n",
       "</table>\n",
       "<p>209715 rows × 636 columns</p>\n",
       "</div>"
      ],
      "text/plain": [
       "        MONTH  DAY  DAY_OF_WEEK  SCHEDULED_DEPARTURE  ON_TIME  \\\n",
       "781974      3    8            7                 1740        1   \n",
       "937737      3   18            3                  848        1   \n",
       "907828      3   16            1                 1204        1   \n",
       "784628      3    8            7                 2020        0   \n",
       "662460      3    1            7                 1000        0   \n",
       "...       ...  ...          ...                  ...      ...   \n",
       "673443      3    1            7                 2150        1   \n",
       "656736      2   28            6                 1820        1   \n",
       "858501      3   13            5                 1020        1   \n",
       "617079      2   26            4                  925        0   \n",
       "487559      2   18            3                  545        1   \n",
       "\n",
       "        DEPARTURE_DELAYED_STATUS  ORIGIN_AIRPORT_ABE  ORIGIN_AIRPORT_ABI  \\\n",
       "781974                         0                   0                   0   \n",
       "937737                         0                   0                   0   \n",
       "907828                         0                   0                   0   \n",
       "784628                         1                   0                   0   \n",
       "662460                         0                   0                   0   \n",
       "...                          ...                 ...                 ...   \n",
       "673443                         0                   0                   0   \n",
       "656736                         0                   0                   0   \n",
       "858501                         0                   0                   0   \n",
       "617079                         1                   0                   0   \n",
       "487559                         0                   0                   0   \n",
       "\n",
       "        ORIGIN_AIRPORT_ABQ  ORIGIN_AIRPORT_ABR  ...  DESTINATION_AIRPORT_TYR  \\\n",
       "781974                   0                   0  ...                        0   \n",
       "937737                   0                   0  ...                        0   \n",
       "907828                   0                   0  ...                        0   \n",
       "784628                   0                   0  ...                        0   \n",
       "662460                   0                   0  ...                        0   \n",
       "...                    ...                 ...  ...                      ...   \n",
       "673443                   0                   0  ...                        0   \n",
       "656736                   0                   0  ...                        0   \n",
       "858501                   0                   0  ...                        0   \n",
       "617079                   0                   0  ...                        0   \n",
       "487559                   0                   0  ...                        0   \n",
       "\n",
       "        DESTINATION_AIRPORT_TYS  DESTINATION_AIRPORT_UST  \\\n",
       "781974                        0                        0   \n",
       "937737                        0                        0   \n",
       "907828                        0                        0   \n",
       "784628                        0                        0   \n",
       "662460                        0                        0   \n",
       "...                         ...                      ...   \n",
       "673443                        0                        0   \n",
       "656736                        0                        0   \n",
       "858501                        0                        0   \n",
       "617079                        0                        0   \n",
       "487559                        0                        0   \n",
       "\n",
       "        DESTINATION_AIRPORT_VEL  DESTINATION_AIRPORT_VLD  \\\n",
       "781974                        0                        0   \n",
       "937737                        0                        0   \n",
       "907828                        0                        0   \n",
       "784628                        0                        0   \n",
       "662460                        0                        0   \n",
       "...                         ...                      ...   \n",
       "673443                        0                        0   \n",
       "656736                        0                        0   \n",
       "858501                        0                        0   \n",
       "617079                        0                        0   \n",
       "487559                        0                        0   \n",
       "\n",
       "        DESTINATION_AIRPORT_VPS  DESTINATION_AIRPORT_WRG  \\\n",
       "781974                        0                        0   \n",
       "937737                        0                        0   \n",
       "907828                        0                        0   \n",
       "784628                        0                        0   \n",
       "662460                        0                        0   \n",
       "...                         ...                      ...   \n",
       "673443                        0                        0   \n",
       "656736                        0                        0   \n",
       "858501                        0                        0   \n",
       "617079                        0                        0   \n",
       "487559                        0                        0   \n",
       "\n",
       "        DESTINATION_AIRPORT_XNA  DESTINATION_AIRPORT_YAK  \\\n",
       "781974                        0                        0   \n",
       "937737                        0                        0   \n",
       "907828                        0                        0   \n",
       "784628                        0                        0   \n",
       "662460                        0                        0   \n",
       "...                         ...                      ...   \n",
       "673443                        0                        0   \n",
       "656736                        0                        0   \n",
       "858501                        0                        0   \n",
       "617079                        0                        0   \n",
       "487559                        0                        0   \n",
       "\n",
       "        DESTINATION_AIRPORT_YUM  \n",
       "781974                        0  \n",
       "937737                        0  \n",
       "907828                        0  \n",
       "784628                        0  \n",
       "662460                        0  \n",
       "...                         ...  \n",
       "673443                        0  \n",
       "656736                        0  \n",
       "858501                        0  \n",
       "617079                        0  \n",
       "487559                        0  \n",
       "\n",
       "[209715 rows x 636 columns]"
      ]
     },
     "execution_count": 29,
     "metadata": {},
     "output_type": "execute_result"
    }
   ],
   "source": [
    "predict_Arrival_Delayed_Status_Test_x"
   ]
  },
  {
   "cell_type": "code",
   "execution_count": 30,
   "metadata": {},
   "outputs": [
    {
     "data": {
      "text/plain": [
       "(838860, 636)"
      ]
     },
     "execution_count": 30,
     "metadata": {},
     "output_type": "execute_result"
    }
   ],
   "source": [
    "predict_Arrival_Delayed_Status_Train_x.shape"
   ]
  },
  {
   "cell_type": "code",
   "execution_count": 31,
   "metadata": {},
   "outputs": [
    {
     "data": {
      "text/plain": [
       "(209715, 636)"
      ]
     },
     "execution_count": 31,
     "metadata": {},
     "output_type": "execute_result"
    }
   ],
   "source": [
    "predict_Arrival_Delayed_Status_Test_x.shape"
   ]
  },
  {
   "cell_type": "markdown",
   "metadata": {},
   "source": [
    "#### Hyperparameter Tuning Using Cross Validation (CV):<br />\n",
    "\n",
    "max_depth<br />\n",
    "min_sample_split<br />\n",
    "max_leaf_nodes<br />\n",
    "min_samples_leaf<br />\n",
    "n_estimators<br />\n",
    "max_sample (bootstrap sample)<br />\n",
    "max_features<br />"
   ]
  },
  {
   "cell_type": "markdown",
   "metadata": {},
   "source": [
    "For random forest algorithms, one can manipulate a variety of key attributes that define model structure. A comprehensive list can be found under the documentation for scikit-learn’s random forest classifier found here. The following five hyperparameters are commonly adjusted:\n",
    "\n",
    "N_estimators\n",
    "\n",
    "Random forest models are ensembles of decision trees and we can define the number of decision trees in the forest. Additional decision trees typically improve model accuracy because predictions are made based on a larger number of “votes” from diverse trees, however, large numbers of trees are computationally expensive.\n",
    "\n",
    "Max_features\n",
    "\n",
    "Random forest models randomly resample features prior to determining the best split. Max_features determines the number of features to resample. Larger max_feature values can result in improved model performance because trees have a larger selection of features from which choose the best split, but can also cause trees to be less diverse and induce overfitting. The common theme here is one needs to identify an optimal value that balances overfitting and under-fitting. Common choices include:\n",
    "\n",
    "‘auto’: places no restrictions on the number of features,\n",
    "\n",
    "‘sqrt’: square root of the total number of features,\n",
    "\n",
    "‘log2’: base two logarithm of the total number of features.\n",
    "\n",
    "Max_depth\n",
    "\n",
    "Each tree in the random forest model makes multiple splits to isolate homogeneous groups of outcomes. Larger numbers of splits allowed in each tree enables the trees to explain more variation in the data, however, trees with many splits may overfit the data. A range of depth values should be evaluated, including “None” where trees are split until all the leaves are pure.\n",
    "\n",
    "Min_samples_split\n",
    "\n",
    "We can control the minimum number of samples required to split each node. Values too large may cause under-fitting, as the trees won’t be able to split enough times to achieve node purity. This hyperparameter should be based on the number of records in the training dataset.\n",
    "\n",
    "Min_samples_leaf\n",
    "\n",
    "Much like stopping the growth of trees once a minimum number of samples per split is reached, we can set the minimum number of samples required for each leaf. With values too large, the trees may not be able to split enough to capture sufficient variation in the data. Optimal values for this hyperparameter are dependent on the size of the training set.\n",
    "\n",
    "Cross-validation is often used to determine the optimal values for hyperparameters; we want to identify a model structure that performs the best on records it has not been trained on. "
   ]
  },
  {
   "cell_type": "code",
   "execution_count": 32,
   "metadata": {},
   "outputs": [],
   "source": [
    "# number of trees\n",
    "n_estimators = [10, 50, 100, 500]\n",
    "\n",
    "#max number of features to consider at every split\n",
    "max_features = [\"auto\", \"sqrt\", \"log2\"]\n",
    "\n",
    "#max number of levels in tree\n",
    "max_depth = [10, 20, 30, 40, 50, None]\n",
    "\n",
    "#Min number of samples to split a node\n",
    "min_samples_split = [2, 5, 10, 15, 20]\n",
    "\n",
    "#Min number of samples at each leaf node\n",
    "min_samples_leaf = [1, 2, 5, 10, 15]"
   ]
  },
  {
   "cell_type": "code",
   "execution_count": 33,
   "metadata": {},
   "outputs": [],
   "source": [
    "grid_param = {\n",
    "    \"n_estimators\" : n_estimators,\n",
    "    \"max_features\" : max_features,\n",
    "    \"max_depth\" : max_depth,\n",
    "    \"min_samples_split\" : min_samples_split,\n",
    "    \"min_samples_leaf\" : min_samples_leaf\n",
    "}"
   ]
  },
  {
   "cell_type": "code",
   "execution_count": 34,
   "metadata": {},
   "outputs": [
    {
     "data": {
      "text/plain": [
       "'predict_Arrival_Delayed_Status_RF_Model = RandomForestClassifier(random_state = 42)#13\\npredict_Arrival_Delayed_Status_RF_Model_Random = RandomizedSearchCV(estimator = predict_Arrival_Delayed_Status_RF_Model,\\n                                                   param_distributions = grid_param,\\n                                                   n_iter = 10,\\n                                                   cv = 5,\\n                                                   verbose = 2,\\n                                                   random_state = 42,\\n                                                   n_jobs = -1)\\npredict_Arrival_Delayed_Status_RF_Model_Random.fit(predict_Arrival_Delayed_Status_Train_x, predict_Arrival_Delayed_Status_Train_y)\\nprint (predict_Arrival_Delayed_Status_RF_Model_Random.best_params_)'"
      ]
     },
     "execution_count": 34,
     "metadata": {},
     "output_type": "execute_result"
    }
   ],
   "source": [
    "predict_Arrival_Delayed_Status_RF_Model_Random = RandomForestClassifier(n_estimators = 10, random_state = 42)#13\n",
    "predict_Arrival_Delayed_Status_RF_Model_Random.fit(predict_Arrival_Delayed_Status_Train_x, predict_Arrival_Delayed_Status_Train_y)\n",
    "\n",
    "\n",
    "\"\"\"predict_Arrival_Delayed_Status_RF_Model = RandomForestClassifier(random_state = 42)#13\n",
    "predict_Arrival_Delayed_Status_RF_Model_Random = RandomizedSearchCV(estimator = predict_Arrival_Delayed_Status_RF_Model,\n",
    "                                                   param_distributions = grid_param,\n",
    "                                                   n_iter = 10,\n",
    "                                                   cv = 5,\n",
    "                                                   verbose = 2,\n",
    "                                                   random_state = 42,\n",
    "                                                   n_jobs = -1)\n",
    "predict_Arrival_Delayed_Status_RF_Model_Random.fit(predict_Arrival_Delayed_Status_Train_x, predict_Arrival_Delayed_Status_Train_y)\n",
    "print (predict_Arrival_Delayed_Status_RF_Model_Random.best_params_)\"\"\""
   ]
  },
  {
   "cell_type": "markdown",
   "metadata": {},
   "source": [
    "If you don't specify the random_state in the code, then every time you run(execute) your code a new random value is generated and the train and test datasets would have different values each time. We now create and train our model. The number of estimators (n_estimators) determines how dense our decision forest is and the random_state is given for reproducibility."
   ]
  },
  {
   "cell_type": "markdown",
   "metadata": {},
   "source": [
    "#### Predict Test Set Results"
   ]
  },
  {
   "cell_type": "code",
   "execution_count": 35,
   "metadata": {},
   "outputs": [],
   "source": [
    "predict_Arrival_Delayed_Status_Train_Predictions = predict_Arrival_Delayed_Status_RF_Model_Random.predict(predict_Arrival_Delayed_Status_Train_x)\n",
    "predict_Arrival_Delayed_Status_Test_Predictions = predict_Arrival_Delayed_Status_RF_Model_Random.predict(predict_Arrival_Delayed_Status_Test_x)"
   ]
  },
  {
   "cell_type": "code",
   "execution_count": 36,
   "metadata": {},
   "outputs": [
    {
     "data": {
      "text/plain": [
       "0.9143408912094986"
      ]
     },
     "execution_count": 36,
     "metadata": {},
     "output_type": "execute_result"
    }
   ],
   "source": [
    "predict_Arrival_Delayed_Status_RF_Model_Random.score(predict_Arrival_Delayed_Status_Test_x, predict_Arrival_Delayed_Status_Test_y)"
   ]
  },
  {
   "cell_type": "markdown",
   "metadata": {},
   "source": [
    "#### Precision on Training Set"
   ]
  },
  {
   "cell_type": "code",
   "execution_count": 37,
   "metadata": {},
   "outputs": [
    {
     "data": {
      "text/plain": [
       "0.9923409092116235"
      ]
     },
     "execution_count": 37,
     "metadata": {},
     "output_type": "execute_result"
    }
   ],
   "source": [
    "precision_score(predict_Arrival_Delayed_Status_Train_y, predict_Arrival_Delayed_Status_Train_Predictions)"
   ]
  },
  {
   "cell_type": "markdown",
   "metadata": {},
   "source": [
    "#### Precision on Test Set"
   ]
  },
  {
   "cell_type": "code",
   "execution_count": 38,
   "metadata": {},
   "outputs": [
    {
     "data": {
      "text/plain": [
       "0.8323526170798898"
      ]
     },
     "execution_count": 38,
     "metadata": {},
     "output_type": "execute_result"
    }
   ],
   "source": [
    "precision_score(predict_Arrival_Delayed_Status_Test_y, predict_Arrival_Delayed_Status_Test_Predictions)"
   ]
  },
  {
   "cell_type": "markdown",
   "metadata": {},
   "source": [
    "#### Confusion Matrix"
   ]
  },
  {
   "cell_type": "markdown",
   "metadata": {},
   "source": [
    "TP    FN<br />FP    TN"
   ]
  },
  {
   "cell_type": "code",
   "execution_count": 39,
   "metadata": {},
   "outputs": [
    {
     "data": {
      "text/plain": [
       "array([[153983,   7607],\n",
       "       [ 10357,  37768]], dtype=int64)"
      ]
     },
     "execution_count": 39,
     "metadata": {},
     "output_type": "execute_result"
    }
   ],
   "source": [
    "confusion_matrix(predict_Arrival_Delayed_Status_Test_y, predict_Arrival_Delayed_Status_Test_Predictions)"
   ]
  },
  {
   "cell_type": "markdown",
   "metadata": {},
   "source": [
    "#### Recall on Training Set"
   ]
  },
  {
   "cell_type": "code",
   "execution_count": 40,
   "metadata": {},
   "outputs": [
    {
     "data": {
      "text/plain": [
       "0.9768379335044782"
      ]
     },
     "execution_count": 40,
     "metadata": {},
     "output_type": "execute_result"
    }
   ],
   "source": [
    "recall_score(predict_Arrival_Delayed_Status_Train_y, predict_Arrival_Delayed_Status_Train_Predictions)"
   ]
  },
  {
   "cell_type": "markdown",
   "metadata": {},
   "source": [
    "#### Recall on Test Set"
   ]
  },
  {
   "cell_type": "code",
   "execution_count": 41,
   "metadata": {},
   "outputs": [
    {
     "data": {
      "text/plain": [
       "0.7847896103896104"
      ]
     },
     "execution_count": 41,
     "metadata": {},
     "output_type": "execute_result"
    }
   ],
   "source": [
    "recall_score(predict_Arrival_Delayed_Status_Test_y, predict_Arrival_Delayed_Status_Test_Predictions)"
   ]
  },
  {
   "cell_type": "markdown",
   "metadata": {},
   "source": [
    "#### F1 Score on Train Set"
   ]
  },
  {
   "cell_type": "code",
   "execution_count": 42,
   "metadata": {},
   "outputs": [
    {
     "data": {
      "text/plain": [
       "0.9845283953479794"
      ]
     },
     "execution_count": 42,
     "metadata": {},
     "output_type": "execute_result"
    }
   ],
   "source": [
    "f1_score(predict_Arrival_Delayed_Status_Train_y, predict_Arrival_Delayed_Status_Train_Predictions)"
   ]
  },
  {
   "cell_type": "markdown",
   "metadata": {},
   "source": [
    "#### F1 Score on Test Set"
   ]
  },
  {
   "cell_type": "code",
   "execution_count": 43,
   "metadata": {},
   "outputs": [
    {
     "data": {
      "text/plain": [
       "0.8078716577540107"
      ]
     },
     "execution_count": 43,
     "metadata": {},
     "output_type": "execute_result"
    }
   ],
   "source": [
    "f1_score(predict_Arrival_Delayed_Status_Test_y, predict_Arrival_Delayed_Status_Test_Predictions)"
   ]
  },
  {
   "cell_type": "markdown",
   "metadata": {},
   "source": [
    "# --------------------------------------------------------------------------------------------------------------"
   ]
  },
  {
   "cell_type": "markdown",
   "metadata": {},
   "source": [
    "# --------------------------------------------------------------------------------------------------------------"
   ]
  },
  {
   "cell_type": "markdown",
   "metadata": {},
   "source": [
    "## Predict Flight Status using Random Forest Classification<br/>\n",
    " Flight was on time (0), slightly delayed (1), highly delayed (2), diverted (3), or cancelled (4)"
   ]
  },
  {
   "cell_type": "markdown",
   "metadata": {},
   "source": [
    "### Dataset Pre-processing"
   ]
  },
  {
   "cell_type": "markdown",
   "metadata": {},
   "source": [
    "#### Dataset Trimming"
   ]
  },
  {
   "cell_type": "code",
   "execution_count": 44,
   "metadata": {},
   "outputs": [
    {
     "data": {
      "text/html": [
       "<div>\n",
       "<style scoped>\n",
       "    .dataframe tbody tr th:only-of-type {\n",
       "        vertical-align: middle;\n",
       "    }\n",
       "\n",
       "    .dataframe tbody tr th {\n",
       "        vertical-align: top;\n",
       "    }\n",
       "\n",
       "    .dataframe thead th {\n",
       "        text-align: right;\n",
       "    }\n",
       "</style>\n",
       "<table border=\"1\" class=\"dataframe\">\n",
       "  <thead>\n",
       "    <tr style=\"text-align: right;\">\n",
       "      <th></th>\n",
       "      <th>MONTH</th>\n",
       "      <th>DAY</th>\n",
       "      <th>DAY_OF_WEEK</th>\n",
       "      <th>ORIGIN_AIRPORT</th>\n",
       "      <th>DESTINATION_AIRPORT</th>\n",
       "      <th>SCHEDULED_DEPARTURE</th>\n",
       "      <th>SCHEDULED_ARRIVAL</th>\n",
       "      <th>FLIGHT_STATUS</th>\n",
       "    </tr>\n",
       "  </thead>\n",
       "  <tbody>\n",
       "    <tr>\n",
       "      <td>0</td>\n",
       "      <td>1</td>\n",
       "      <td>1</td>\n",
       "      <td>4</td>\n",
       "      <td>ANC</td>\n",
       "      <td>SEA</td>\n",
       "      <td>5</td>\n",
       "      <td>430</td>\n",
       "      <td>0</td>\n",
       "    </tr>\n",
       "    <tr>\n",
       "      <td>1</td>\n",
       "      <td>1</td>\n",
       "      <td>1</td>\n",
       "      <td>4</td>\n",
       "      <td>LAX</td>\n",
       "      <td>PBI</td>\n",
       "      <td>10</td>\n",
       "      <td>750</td>\n",
       "      <td>0</td>\n",
       "    </tr>\n",
       "    <tr>\n",
       "      <td>2</td>\n",
       "      <td>1</td>\n",
       "      <td>1</td>\n",
       "      <td>4</td>\n",
       "      <td>SFO</td>\n",
       "      <td>CLT</td>\n",
       "      <td>20</td>\n",
       "      <td>806</td>\n",
       "      <td>0</td>\n",
       "    </tr>\n",
       "    <tr>\n",
       "      <td>3</td>\n",
       "      <td>1</td>\n",
       "      <td>1</td>\n",
       "      <td>4</td>\n",
       "      <td>LAX</td>\n",
       "      <td>MIA</td>\n",
       "      <td>20</td>\n",
       "      <td>805</td>\n",
       "      <td>0</td>\n",
       "    </tr>\n",
       "    <tr>\n",
       "      <td>4</td>\n",
       "      <td>1</td>\n",
       "      <td>1</td>\n",
       "      <td>4</td>\n",
       "      <td>SEA</td>\n",
       "      <td>ANC</td>\n",
       "      <td>25</td>\n",
       "      <td>320</td>\n",
       "      <td>0</td>\n",
       "    </tr>\n",
       "    <tr>\n",
       "      <td>...</td>\n",
       "      <td>...</td>\n",
       "      <td>...</td>\n",
       "      <td>...</td>\n",
       "      <td>...</td>\n",
       "      <td>...</td>\n",
       "      <td>...</td>\n",
       "      <td>...</td>\n",
       "      <td>...</td>\n",
       "    </tr>\n",
       "    <tr>\n",
       "      <td>1048570</td>\n",
       "      <td>3</td>\n",
       "      <td>25</td>\n",
       "      <td>3</td>\n",
       "      <td>GEG</td>\n",
       "      <td>SEA</td>\n",
       "      <td>500</td>\n",
       "      <td>605</td>\n",
       "      <td>0</td>\n",
       "    </tr>\n",
       "    <tr>\n",
       "      <td>1048571</td>\n",
       "      <td>3</td>\n",
       "      <td>25</td>\n",
       "      <td>3</td>\n",
       "      <td>PSE</td>\n",
       "      <td>JFK</td>\n",
       "      <td>500</td>\n",
       "      <td>907</td>\n",
       "      <td>0</td>\n",
       "    </tr>\n",
       "    <tr>\n",
       "      <td>1048572</td>\n",
       "      <td>3</td>\n",
       "      <td>25</td>\n",
       "      <td>3</td>\n",
       "      <td>SJU</td>\n",
       "      <td>BOS</td>\n",
       "      <td>500</td>\n",
       "      <td>908</td>\n",
       "      <td>1</td>\n",
       "    </tr>\n",
       "    <tr>\n",
       "      <td>1048573</td>\n",
       "      <td>3</td>\n",
       "      <td>25</td>\n",
       "      <td>3</td>\n",
       "      <td>SJU</td>\n",
       "      <td>JFK</td>\n",
       "      <td>500</td>\n",
       "      <td>906</td>\n",
       "      <td>0</td>\n",
       "    </tr>\n",
       "    <tr>\n",
       "      <td>1048574</td>\n",
       "      <td>3</td>\n",
       "      <td>25</td>\n",
       "      <td>3</td>\n",
       "      <td>FAR</td>\n",
       "      <td>MSP</td>\n",
       "      <td>500</td>\n",
       "      <td>612</td>\n",
       "      <td>0</td>\n",
       "    </tr>\n",
       "  </tbody>\n",
       "</table>\n",
       "<p>1048575 rows × 8 columns</p>\n",
       "</div>"
      ],
      "text/plain": [
       "         MONTH  DAY  DAY_OF_WEEK ORIGIN_AIRPORT DESTINATION_AIRPORT  \\\n",
       "0            1    1            4            ANC                 SEA   \n",
       "1            1    1            4            LAX                 PBI   \n",
       "2            1    1            4            SFO                 CLT   \n",
       "3            1    1            4            LAX                 MIA   \n",
       "4            1    1            4            SEA                 ANC   \n",
       "...        ...  ...          ...            ...                 ...   \n",
       "1048570      3   25            3            GEG                 SEA   \n",
       "1048571      3   25            3            PSE                 JFK   \n",
       "1048572      3   25            3            SJU                 BOS   \n",
       "1048573      3   25            3            SJU                 JFK   \n",
       "1048574      3   25            3            FAR                 MSP   \n",
       "\n",
       "         SCHEDULED_DEPARTURE  SCHEDULED_ARRIVAL  FLIGHT_STATUS  \n",
       "0                          5                430              0  \n",
       "1                         10                750              0  \n",
       "2                         20                806              0  \n",
       "3                         20                805              0  \n",
       "4                         25                320              0  \n",
       "...                      ...                ...            ...  \n",
       "1048570                  500                605              0  \n",
       "1048571                  500                907              0  \n",
       "1048572                  500                908              1  \n",
       "1048573                  500                906              0  \n",
       "1048574                  500                612              0  \n",
       "\n",
       "[1048575 rows x 8 columns]"
      ]
     },
     "execution_count": 44,
     "metadata": {},
     "output_type": "execute_result"
    }
   ],
   "source": [
    "dataset_Predict_Flight_Status = flights[[\"MONTH\", \"DAY\", \"DAY_OF_WEEK\", \"ORIGIN_AIRPORT\", \"DESTINATION_AIRPORT\", \"SCHEDULED_DEPARTURE\", \"SCHEDULED_ARRIVAL\", \"FLIGHT_STATUS\"]]\n",
    "dataset_Predict_Flight_Status"
   ]
  },
  {
   "cell_type": "markdown",
   "metadata": {},
   "source": [
    "#### Fixing NaN Missing Values"
   ]
  },
  {
   "cell_type": "code",
   "execution_count": 45,
   "metadata": {},
   "outputs": [
    {
     "data": {
      "text/plain": [
       "MONTH                     0\n",
       "DAY                       0\n",
       "DAY_OF_WEEK               0\n",
       "ORIGIN_AIRPORT            0\n",
       "DESTINATION_AIRPORT       0\n",
       "SCHEDULED_DEPARTURE       0\n",
       "SCHEDULED_ARRIVAL         0\n",
       "FLIGHT_STATUS          2121\n",
       "dtype: int64"
      ]
     },
     "execution_count": 45,
     "metadata": {},
     "output_type": "execute_result"
    }
   ],
   "source": [
    "dataset_Predict_Flight_Status.isnull().sum()"
   ]
  },
  {
   "cell_type": "code",
   "execution_count": 46,
   "metadata": {},
   "outputs": [],
   "source": [
    "dataset_Predict_Flight_Status = dataset_Predict_Flight_Status[dataset_Predict_Flight_Status['FLIGHT_STATUS'].notna()]"
   ]
  },
  {
   "cell_type": "markdown",
   "metadata": {},
   "source": [
    "Cannot think of a way to fill flight statuses so decided to drop 2121 / 1048575 values"
   ]
  },
  {
   "cell_type": "code",
   "execution_count": 47,
   "metadata": {},
   "outputs": [
    {
     "data": {
      "text/plain": [
       "MONTH                  0\n",
       "DAY                    0\n",
       "DAY_OF_WEEK            0\n",
       "ORIGIN_AIRPORT         0\n",
       "DESTINATION_AIRPORT    0\n",
       "SCHEDULED_DEPARTURE    0\n",
       "SCHEDULED_ARRIVAL      0\n",
       "FLIGHT_STATUS          0\n",
       "dtype: int64"
      ]
     },
     "execution_count": 47,
     "metadata": {},
     "output_type": "execute_result"
    }
   ],
   "source": [
    "dataset_Predict_Flight_Status.isnull().sum()"
   ]
  },
  {
   "cell_type": "markdown",
   "metadata": {},
   "source": [
    "#### SCHEDULED_DEPARTURE In Correct Format"
   ]
  },
  {
   "cell_type": "code",
   "execution_count": 48,
   "metadata": {},
   "outputs": [
    {
     "data": {
      "text/plain": [
       "\"for index, row in dataset_Predict_Flights.iterrows():\\n    dataset_Predict_Flights.loc[index, 'SCHEDULED_DEPARTURE'] = math.floor(row['SCHEDULED_DEPARTURE'] / 100)\\ndataset_Predict_Flights\""
      ]
     },
     "execution_count": 48,
     "metadata": {},
     "output_type": "execute_result"
    }
   ],
   "source": [
    "\"\"\"for index, row in dataset_Predict_Flights.iterrows():\n",
    "    dataset_Predict_Flights.loc[index, 'SCHEDULED_DEPARTURE'] = math.floor(row['SCHEDULED_DEPARTURE'] / 100)\n",
    "dataset_Predict_Flights\"\"\""
   ]
  },
  {
   "cell_type": "code",
   "execution_count": 49,
   "metadata": {},
   "outputs": [
    {
     "data": {
      "text/html": [
       "<div>\n",
       "<style scoped>\n",
       "    .dataframe tbody tr th:only-of-type {\n",
       "        vertical-align: middle;\n",
       "    }\n",
       "\n",
       "    .dataframe tbody tr th {\n",
       "        vertical-align: top;\n",
       "    }\n",
       "\n",
       "    .dataframe thead th {\n",
       "        text-align: right;\n",
       "    }\n",
       "</style>\n",
       "<table border=\"1\" class=\"dataframe\">\n",
       "  <thead>\n",
       "    <tr style=\"text-align: right;\">\n",
       "      <th></th>\n",
       "      <th>MONTH</th>\n",
       "      <th>DAY</th>\n",
       "      <th>DAY_OF_WEEK</th>\n",
       "      <th>SCHEDULED_DEPARTURE</th>\n",
       "      <th>SCHEDULED_ARRIVAL</th>\n",
       "      <th>FLIGHT_STATUS</th>\n",
       "      <th>ORIGIN_AIRPORT_ABE</th>\n",
       "      <th>ORIGIN_AIRPORT_ABI</th>\n",
       "      <th>ORIGIN_AIRPORT_ABQ</th>\n",
       "      <th>ORIGIN_AIRPORT_ABR</th>\n",
       "      <th>...</th>\n",
       "      <th>DESTINATION_AIRPORT_TYR</th>\n",
       "      <th>DESTINATION_AIRPORT_TYS</th>\n",
       "      <th>DESTINATION_AIRPORT_UST</th>\n",
       "      <th>DESTINATION_AIRPORT_VEL</th>\n",
       "      <th>DESTINATION_AIRPORT_VLD</th>\n",
       "      <th>DESTINATION_AIRPORT_VPS</th>\n",
       "      <th>DESTINATION_AIRPORT_WRG</th>\n",
       "      <th>DESTINATION_AIRPORT_XNA</th>\n",
       "      <th>DESTINATION_AIRPORT_YAK</th>\n",
       "      <th>DESTINATION_AIRPORT_YUM</th>\n",
       "    </tr>\n",
       "  </thead>\n",
       "  <tbody>\n",
       "    <tr>\n",
       "      <td>0</td>\n",
       "      <td>1</td>\n",
       "      <td>1</td>\n",
       "      <td>4</td>\n",
       "      <td>5</td>\n",
       "      <td>430</td>\n",
       "      <td>0</td>\n",
       "      <td>0</td>\n",
       "      <td>0</td>\n",
       "      <td>0</td>\n",
       "      <td>0</td>\n",
       "      <td>...</td>\n",
       "      <td>0</td>\n",
       "      <td>0</td>\n",
       "      <td>0</td>\n",
       "      <td>0</td>\n",
       "      <td>0</td>\n",
       "      <td>0</td>\n",
       "      <td>0</td>\n",
       "      <td>0</td>\n",
       "      <td>0</td>\n",
       "      <td>0</td>\n",
       "    </tr>\n",
       "    <tr>\n",
       "      <td>1</td>\n",
       "      <td>1</td>\n",
       "      <td>1</td>\n",
       "      <td>4</td>\n",
       "      <td>10</td>\n",
       "      <td>750</td>\n",
       "      <td>0</td>\n",
       "      <td>0</td>\n",
       "      <td>0</td>\n",
       "      <td>0</td>\n",
       "      <td>0</td>\n",
       "      <td>...</td>\n",
       "      <td>0</td>\n",
       "      <td>0</td>\n",
       "      <td>0</td>\n",
       "      <td>0</td>\n",
       "      <td>0</td>\n",
       "      <td>0</td>\n",
       "      <td>0</td>\n",
       "      <td>0</td>\n",
       "      <td>0</td>\n",
       "      <td>0</td>\n",
       "    </tr>\n",
       "    <tr>\n",
       "      <td>2</td>\n",
       "      <td>1</td>\n",
       "      <td>1</td>\n",
       "      <td>4</td>\n",
       "      <td>20</td>\n",
       "      <td>806</td>\n",
       "      <td>0</td>\n",
       "      <td>0</td>\n",
       "      <td>0</td>\n",
       "      <td>0</td>\n",
       "      <td>0</td>\n",
       "      <td>...</td>\n",
       "      <td>0</td>\n",
       "      <td>0</td>\n",
       "      <td>0</td>\n",
       "      <td>0</td>\n",
       "      <td>0</td>\n",
       "      <td>0</td>\n",
       "      <td>0</td>\n",
       "      <td>0</td>\n",
       "      <td>0</td>\n",
       "      <td>0</td>\n",
       "    </tr>\n",
       "    <tr>\n",
       "      <td>3</td>\n",
       "      <td>1</td>\n",
       "      <td>1</td>\n",
       "      <td>4</td>\n",
       "      <td>20</td>\n",
       "      <td>805</td>\n",
       "      <td>0</td>\n",
       "      <td>0</td>\n",
       "      <td>0</td>\n",
       "      <td>0</td>\n",
       "      <td>0</td>\n",
       "      <td>...</td>\n",
       "      <td>0</td>\n",
       "      <td>0</td>\n",
       "      <td>0</td>\n",
       "      <td>0</td>\n",
       "      <td>0</td>\n",
       "      <td>0</td>\n",
       "      <td>0</td>\n",
       "      <td>0</td>\n",
       "      <td>0</td>\n",
       "      <td>0</td>\n",
       "    </tr>\n",
       "    <tr>\n",
       "      <td>4</td>\n",
       "      <td>1</td>\n",
       "      <td>1</td>\n",
       "      <td>4</td>\n",
       "      <td>25</td>\n",
       "      <td>320</td>\n",
       "      <td>0</td>\n",
       "      <td>0</td>\n",
       "      <td>0</td>\n",
       "      <td>0</td>\n",
       "      <td>0</td>\n",
       "      <td>...</td>\n",
       "      <td>0</td>\n",
       "      <td>0</td>\n",
       "      <td>0</td>\n",
       "      <td>0</td>\n",
       "      <td>0</td>\n",
       "      <td>0</td>\n",
       "      <td>0</td>\n",
       "      <td>0</td>\n",
       "      <td>0</td>\n",
       "      <td>0</td>\n",
       "    </tr>\n",
       "  </tbody>\n",
       "</table>\n",
       "<p>5 rows × 636 columns</p>\n",
       "</div>"
      ],
      "text/plain": [
       "   MONTH  DAY  DAY_OF_WEEK  SCHEDULED_DEPARTURE  SCHEDULED_ARRIVAL  \\\n",
       "0      1    1            4                    5                430   \n",
       "1      1    1            4                   10                750   \n",
       "2      1    1            4                   20                806   \n",
       "3      1    1            4                   20                805   \n",
       "4      1    1            4                   25                320   \n",
       "\n",
       "   FLIGHT_STATUS  ORIGIN_AIRPORT_ABE  ORIGIN_AIRPORT_ABI  ORIGIN_AIRPORT_ABQ  \\\n",
       "0              0                   0                   0                   0   \n",
       "1              0                   0                   0                   0   \n",
       "2              0                   0                   0                   0   \n",
       "3              0                   0                   0                   0   \n",
       "4              0                   0                   0                   0   \n",
       "\n",
       "   ORIGIN_AIRPORT_ABR  ...  DESTINATION_AIRPORT_TYR  DESTINATION_AIRPORT_TYS  \\\n",
       "0                   0  ...                        0                        0   \n",
       "1                   0  ...                        0                        0   \n",
       "2                   0  ...                        0                        0   \n",
       "3                   0  ...                        0                        0   \n",
       "4                   0  ...                        0                        0   \n",
       "\n",
       "   DESTINATION_AIRPORT_UST  DESTINATION_AIRPORT_VEL  DESTINATION_AIRPORT_VLD  \\\n",
       "0                        0                        0                        0   \n",
       "1                        0                        0                        0   \n",
       "2                        0                        0                        0   \n",
       "3                        0                        0                        0   \n",
       "4                        0                        0                        0   \n",
       "\n",
       "   DESTINATION_AIRPORT_VPS  DESTINATION_AIRPORT_WRG  DESTINATION_AIRPORT_XNA  \\\n",
       "0                        0                        0                        0   \n",
       "1                        0                        0                        0   \n",
       "2                        0                        0                        0   \n",
       "3                        0                        0                        0   \n",
       "4                        0                        0                        0   \n",
       "\n",
       "   DESTINATION_AIRPORT_YAK  DESTINATION_AIRPORT_YUM  \n",
       "0                        0                        0  \n",
       "1                        0                        0  \n",
       "2                        0                        0  \n",
       "3                        0                        0  \n",
       "4                        0                        0  \n",
       "\n",
       "[5 rows x 636 columns]"
      ]
     },
     "execution_count": 49,
     "metadata": {},
     "output_type": "execute_result"
    }
   ],
   "source": [
    "dataset_Predict_Flight_Status = pd.get_dummies(dataset_Predict_Flight_Status, columns=['ORIGIN_AIRPORT', 'DESTINATION_AIRPORT'])\n",
    "dataset_Predict_Flight_Status.head()"
   ]
  },
  {
   "cell_type": "markdown",
   "metadata": {},
   "source": [
    "#### Build Model"
   ]
  },
  {
   "cell_type": "code",
   "execution_count": 50,
   "metadata": {},
   "outputs": [],
   "source": [
    "predict_Flight_Status_Train_x, predict_Flight_Status_Test_x, predict_Flight_Status_Train_y, predict_Flight_Status_Test_y = train_test_split(dataset_Predict_Flight_Status.drop('FLIGHT_STATUS', axis=1), dataset_Predict_Flight_Status['FLIGHT_STATUS'], test_size=0.2, random_state=42)"
   ]
  },
  {
   "cell_type": "markdown",
   "metadata": {},
   "source": [
    "Splitting the orignal dataset into training set containing (80%), and a test set(20%). Rows are randomized using random_state. train_test_split function returns four dataframes. "
   ]
  },
  {
   "cell_type": "markdown",
   "metadata": {},
   "source": [
    "#### Mean Normalization"
   ]
  },
  {
   "cell_type": "code",
   "execution_count": 51,
   "metadata": {},
   "outputs": [],
   "source": [
    "#predict_Flight_Status_Train_x = preprocessing.scale(predict_Flight_Status_Train_x)"
   ]
  },
  {
   "cell_type": "code",
   "execution_count": 52,
   "metadata": {},
   "outputs": [
    {
     "data": {
      "text/html": [
       "<div>\n",
       "<style scoped>\n",
       "    .dataframe tbody tr th:only-of-type {\n",
       "        vertical-align: middle;\n",
       "    }\n",
       "\n",
       "    .dataframe tbody tr th {\n",
       "        vertical-align: top;\n",
       "    }\n",
       "\n",
       "    .dataframe thead th {\n",
       "        text-align: right;\n",
       "    }\n",
       "</style>\n",
       "<table border=\"1\" class=\"dataframe\">\n",
       "  <thead>\n",
       "    <tr style=\"text-align: right;\">\n",
       "      <th></th>\n",
       "      <th>MONTH</th>\n",
       "      <th>DAY</th>\n",
       "      <th>DAY_OF_WEEK</th>\n",
       "      <th>SCHEDULED_DEPARTURE</th>\n",
       "      <th>SCHEDULED_ARRIVAL</th>\n",
       "      <th>ORIGIN_AIRPORT_ABE</th>\n",
       "      <th>ORIGIN_AIRPORT_ABI</th>\n",
       "      <th>ORIGIN_AIRPORT_ABQ</th>\n",
       "      <th>ORIGIN_AIRPORT_ABR</th>\n",
       "      <th>ORIGIN_AIRPORT_ABY</th>\n",
       "      <th>...</th>\n",
       "      <th>DESTINATION_AIRPORT_TYR</th>\n",
       "      <th>DESTINATION_AIRPORT_TYS</th>\n",
       "      <th>DESTINATION_AIRPORT_UST</th>\n",
       "      <th>DESTINATION_AIRPORT_VEL</th>\n",
       "      <th>DESTINATION_AIRPORT_VLD</th>\n",
       "      <th>DESTINATION_AIRPORT_VPS</th>\n",
       "      <th>DESTINATION_AIRPORT_WRG</th>\n",
       "      <th>DESTINATION_AIRPORT_XNA</th>\n",
       "      <th>DESTINATION_AIRPORT_YAK</th>\n",
       "      <th>DESTINATION_AIRPORT_YUM</th>\n",
       "    </tr>\n",
       "  </thead>\n",
       "  <tbody>\n",
       "    <tr>\n",
       "      <td>987381</td>\n",
       "      <td>3</td>\n",
       "      <td>21</td>\n",
       "      <td>6</td>\n",
       "      <td>810</td>\n",
       "      <td>1108</td>\n",
       "      <td>0</td>\n",
       "      <td>0</td>\n",
       "      <td>0</td>\n",
       "      <td>0</td>\n",
       "      <td>0</td>\n",
       "      <td>...</td>\n",
       "      <td>0</td>\n",
       "      <td>0</td>\n",
       "      <td>0</td>\n",
       "      <td>0</td>\n",
       "      <td>0</td>\n",
       "      <td>0</td>\n",
       "      <td>0</td>\n",
       "      <td>0</td>\n",
       "      <td>0</td>\n",
       "      <td>0</td>\n",
       "    </tr>\n",
       "    <tr>\n",
       "      <td>492039</td>\n",
       "      <td>2</td>\n",
       "      <td>18</td>\n",
       "      <td>3</td>\n",
       "      <td>1000</td>\n",
       "      <td>1201</td>\n",
       "      <td>0</td>\n",
       "      <td>0</td>\n",
       "      <td>0</td>\n",
       "      <td>0</td>\n",
       "      <td>0</td>\n",
       "      <td>...</td>\n",
       "      <td>0</td>\n",
       "      <td>0</td>\n",
       "      <td>0</td>\n",
       "      <td>0</td>\n",
       "      <td>0</td>\n",
       "      <td>0</td>\n",
       "      <td>0</td>\n",
       "      <td>0</td>\n",
       "      <td>0</td>\n",
       "      <td>0</td>\n",
       "    </tr>\n",
       "    <tr>\n",
       "      <td>944212</td>\n",
       "      <td>3</td>\n",
       "      <td>18</td>\n",
       "      <td>3</td>\n",
       "      <td>1515</td>\n",
       "      <td>1653</td>\n",
       "      <td>0</td>\n",
       "      <td>0</td>\n",
       "      <td>0</td>\n",
       "      <td>0</td>\n",
       "      <td>0</td>\n",
       "      <td>...</td>\n",
       "      <td>0</td>\n",
       "      <td>0</td>\n",
       "      <td>0</td>\n",
       "      <td>0</td>\n",
       "      <td>0</td>\n",
       "      <td>0</td>\n",
       "      <td>0</td>\n",
       "      <td>0</td>\n",
       "      <td>0</td>\n",
       "      <td>0</td>\n",
       "    </tr>\n",
       "    <tr>\n",
       "      <td>43038</td>\n",
       "      <td>1</td>\n",
       "      <td>19</td>\n",
       "      <td>1</td>\n",
       "      <td>1515</td>\n",
       "      <td>1822</td>\n",
       "      <td>0</td>\n",
       "      <td>0</td>\n",
       "      <td>0</td>\n",
       "      <td>0</td>\n",
       "      <td>0</td>\n",
       "      <td>...</td>\n",
       "      <td>0</td>\n",
       "      <td>0</td>\n",
       "      <td>0</td>\n",
       "      <td>0</td>\n",
       "      <td>0</td>\n",
       "      <td>0</td>\n",
       "      <td>0</td>\n",
       "      <td>0</td>\n",
       "      <td>0</td>\n",
       "      <td>0</td>\n",
       "    </tr>\n",
       "    <tr>\n",
       "      <td>608984</td>\n",
       "      <td>2</td>\n",
       "      <td>25</td>\n",
       "      <td>3</td>\n",
       "      <td>1729</td>\n",
       "      <td>1935</td>\n",
       "      <td>0</td>\n",
       "      <td>0</td>\n",
       "      <td>0</td>\n",
       "      <td>0</td>\n",
       "      <td>0</td>\n",
       "      <td>...</td>\n",
       "      <td>0</td>\n",
       "      <td>0</td>\n",
       "      <td>0</td>\n",
       "      <td>0</td>\n",
       "      <td>0</td>\n",
       "      <td>0</td>\n",
       "      <td>0</td>\n",
       "      <td>0</td>\n",
       "      <td>0</td>\n",
       "      <td>0</td>\n",
       "    </tr>\n",
       "    <tr>\n",
       "      <td>...</td>\n",
       "      <td>...</td>\n",
       "      <td>...</td>\n",
       "      <td>...</td>\n",
       "      <td>...</td>\n",
       "      <td>...</td>\n",
       "      <td>...</td>\n",
       "      <td>...</td>\n",
       "      <td>...</td>\n",
       "      <td>...</td>\n",
       "      <td>...</td>\n",
       "      <td>...</td>\n",
       "      <td>...</td>\n",
       "      <td>...</td>\n",
       "      <td>...</td>\n",
       "      <td>...</td>\n",
       "      <td>...</td>\n",
       "      <td>...</td>\n",
       "      <td>...</td>\n",
       "      <td>...</td>\n",
       "      <td>...</td>\n",
       "      <td>...</td>\n",
       "    </tr>\n",
       "    <tr>\n",
       "      <td>259457</td>\n",
       "      <td>2</td>\n",
       "      <td>3</td>\n",
       "      <td>2</td>\n",
       "      <td>600</td>\n",
       "      <td>838</td>\n",
       "      <td>0</td>\n",
       "      <td>0</td>\n",
       "      <td>0</td>\n",
       "      <td>0</td>\n",
       "      <td>0</td>\n",
       "      <td>...</td>\n",
       "      <td>0</td>\n",
       "      <td>0</td>\n",
       "      <td>0</td>\n",
       "      <td>0</td>\n",
       "      <td>0</td>\n",
       "      <td>0</td>\n",
       "      <td>0</td>\n",
       "      <td>0</td>\n",
       "      <td>0</td>\n",
       "      <td>0</td>\n",
       "    </tr>\n",
       "    <tr>\n",
       "      <td>366337</td>\n",
       "      <td>2</td>\n",
       "      <td>10</td>\n",
       "      <td>2</td>\n",
       "      <td>720</td>\n",
       "      <td>1008</td>\n",
       "      <td>0</td>\n",
       "      <td>0</td>\n",
       "      <td>0</td>\n",
       "      <td>0</td>\n",
       "      <td>0</td>\n",
       "      <td>...</td>\n",
       "      <td>0</td>\n",
       "      <td>0</td>\n",
       "      <td>0</td>\n",
       "      <td>0</td>\n",
       "      <td>0</td>\n",
       "      <td>0</td>\n",
       "      <td>0</td>\n",
       "      <td>0</td>\n",
       "      <td>0</td>\n",
       "      <td>0</td>\n",
       "    </tr>\n",
       "    <tr>\n",
       "      <td>131933</td>\n",
       "      <td>1</td>\n",
       "      <td>25</td>\n",
       "      <td>7</td>\n",
       "      <td>1428</td>\n",
       "      <td>1930</td>\n",
       "      <td>0</td>\n",
       "      <td>0</td>\n",
       "      <td>0</td>\n",
       "      <td>0</td>\n",
       "      <td>0</td>\n",
       "      <td>...</td>\n",
       "      <td>0</td>\n",
       "      <td>0</td>\n",
       "      <td>0</td>\n",
       "      <td>0</td>\n",
       "      <td>0</td>\n",
       "      <td>0</td>\n",
       "      <td>0</td>\n",
       "      <td>0</td>\n",
       "      <td>0</td>\n",
       "      <td>0</td>\n",
       "    </tr>\n",
       "    <tr>\n",
       "      <td>672433</td>\n",
       "      <td>3</td>\n",
       "      <td>1</td>\n",
       "      <td>7</td>\n",
       "      <td>2005</td>\n",
       "      <td>2142</td>\n",
       "      <td>0</td>\n",
       "      <td>0</td>\n",
       "      <td>0</td>\n",
       "      <td>0</td>\n",
       "      <td>0</td>\n",
       "      <td>...</td>\n",
       "      <td>0</td>\n",
       "      <td>0</td>\n",
       "      <td>0</td>\n",
       "      <td>0</td>\n",
       "      <td>0</td>\n",
       "      <td>0</td>\n",
       "      <td>0</td>\n",
       "      <td>0</td>\n",
       "      <td>0</td>\n",
       "      <td>0</td>\n",
       "    </tr>\n",
       "    <tr>\n",
       "      <td>121959</td>\n",
       "      <td>1</td>\n",
       "      <td>24</td>\n",
       "      <td>6</td>\n",
       "      <td>1750</td>\n",
       "      <td>1845</td>\n",
       "      <td>0</td>\n",
       "      <td>0</td>\n",
       "      <td>0</td>\n",
       "      <td>0</td>\n",
       "      <td>0</td>\n",
       "      <td>...</td>\n",
       "      <td>0</td>\n",
       "      <td>0</td>\n",
       "      <td>0</td>\n",
       "      <td>0</td>\n",
       "      <td>0</td>\n",
       "      <td>0</td>\n",
       "      <td>0</td>\n",
       "      <td>0</td>\n",
       "      <td>0</td>\n",
       "      <td>0</td>\n",
       "    </tr>\n",
       "  </tbody>\n",
       "</table>\n",
       "<p>837163 rows × 635 columns</p>\n",
       "</div>"
      ],
      "text/plain": [
       "        MONTH  DAY  DAY_OF_WEEK  SCHEDULED_DEPARTURE  SCHEDULED_ARRIVAL  \\\n",
       "987381      3   21            6                  810               1108   \n",
       "492039      2   18            3                 1000               1201   \n",
       "944212      3   18            3                 1515               1653   \n",
       "43038       1   19            1                 1515               1822   \n",
       "608984      2   25            3                 1729               1935   \n",
       "...       ...  ...          ...                  ...                ...   \n",
       "259457      2    3            2                  600                838   \n",
       "366337      2   10            2                  720               1008   \n",
       "131933      1   25            7                 1428               1930   \n",
       "672433      3    1            7                 2005               2142   \n",
       "121959      1   24            6                 1750               1845   \n",
       "\n",
       "        ORIGIN_AIRPORT_ABE  ORIGIN_AIRPORT_ABI  ORIGIN_AIRPORT_ABQ  \\\n",
       "987381                   0                   0                   0   \n",
       "492039                   0                   0                   0   \n",
       "944212                   0                   0                   0   \n",
       "43038                    0                   0                   0   \n",
       "608984                   0                   0                   0   \n",
       "...                    ...                 ...                 ...   \n",
       "259457                   0                   0                   0   \n",
       "366337                   0                   0                   0   \n",
       "131933                   0                   0                   0   \n",
       "672433                   0                   0                   0   \n",
       "121959                   0                   0                   0   \n",
       "\n",
       "        ORIGIN_AIRPORT_ABR  ORIGIN_AIRPORT_ABY  ...  DESTINATION_AIRPORT_TYR  \\\n",
       "987381                   0                   0  ...                        0   \n",
       "492039                   0                   0  ...                        0   \n",
       "944212                   0                   0  ...                        0   \n",
       "43038                    0                   0  ...                        0   \n",
       "608984                   0                   0  ...                        0   \n",
       "...                    ...                 ...  ...                      ...   \n",
       "259457                   0                   0  ...                        0   \n",
       "366337                   0                   0  ...                        0   \n",
       "131933                   0                   0  ...                        0   \n",
       "672433                   0                   0  ...                        0   \n",
       "121959                   0                   0  ...                        0   \n",
       "\n",
       "        DESTINATION_AIRPORT_TYS  DESTINATION_AIRPORT_UST  \\\n",
       "987381                        0                        0   \n",
       "492039                        0                        0   \n",
       "944212                        0                        0   \n",
       "43038                         0                        0   \n",
       "608984                        0                        0   \n",
       "...                         ...                      ...   \n",
       "259457                        0                        0   \n",
       "366337                        0                        0   \n",
       "131933                        0                        0   \n",
       "672433                        0                        0   \n",
       "121959                        0                        0   \n",
       "\n",
       "        DESTINATION_AIRPORT_VEL  DESTINATION_AIRPORT_VLD  \\\n",
       "987381                        0                        0   \n",
       "492039                        0                        0   \n",
       "944212                        0                        0   \n",
       "43038                         0                        0   \n",
       "608984                        0                        0   \n",
       "...                         ...                      ...   \n",
       "259457                        0                        0   \n",
       "366337                        0                        0   \n",
       "131933                        0                        0   \n",
       "672433                        0                        0   \n",
       "121959                        0                        0   \n",
       "\n",
       "        DESTINATION_AIRPORT_VPS  DESTINATION_AIRPORT_WRG  \\\n",
       "987381                        0                        0   \n",
       "492039                        0                        0   \n",
       "944212                        0                        0   \n",
       "43038                         0                        0   \n",
       "608984                        0                        0   \n",
       "...                         ...                      ...   \n",
       "259457                        0                        0   \n",
       "366337                        0                        0   \n",
       "131933                        0                        0   \n",
       "672433                        0                        0   \n",
       "121959                        0                        0   \n",
       "\n",
       "        DESTINATION_AIRPORT_XNA  DESTINATION_AIRPORT_YAK  \\\n",
       "987381                        0                        0   \n",
       "492039                        0                        0   \n",
       "944212                        0                        0   \n",
       "43038                         0                        0   \n",
       "608984                        0                        0   \n",
       "...                         ...                      ...   \n",
       "259457                        0                        0   \n",
       "366337                        0                        0   \n",
       "131933                        0                        0   \n",
       "672433                        0                        0   \n",
       "121959                        0                        0   \n",
       "\n",
       "        DESTINATION_AIRPORT_YUM  \n",
       "987381                        0  \n",
       "492039                        0  \n",
       "944212                        0  \n",
       "43038                         0  \n",
       "608984                        0  \n",
       "...                         ...  \n",
       "259457                        0  \n",
       "366337                        0  \n",
       "131933                        0  \n",
       "672433                        0  \n",
       "121959                        0  \n",
       "\n",
       "[837163 rows x 635 columns]"
      ]
     },
     "execution_count": 52,
     "metadata": {},
     "output_type": "execute_result"
    }
   ],
   "source": [
    "predict_Flight_Status_Train_x"
   ]
  },
  {
   "cell_type": "code",
   "execution_count": 53,
   "metadata": {},
   "outputs": [
    {
     "data": {
      "text/html": [
       "<div>\n",
       "<style scoped>\n",
       "    .dataframe tbody tr th:only-of-type {\n",
       "        vertical-align: middle;\n",
       "    }\n",
       "\n",
       "    .dataframe tbody tr th {\n",
       "        vertical-align: top;\n",
       "    }\n",
       "\n",
       "    .dataframe thead th {\n",
       "        text-align: right;\n",
       "    }\n",
       "</style>\n",
       "<table border=\"1\" class=\"dataframe\">\n",
       "  <thead>\n",
       "    <tr style=\"text-align: right;\">\n",
       "      <th></th>\n",
       "      <th>MONTH</th>\n",
       "      <th>DAY</th>\n",
       "      <th>DAY_OF_WEEK</th>\n",
       "      <th>SCHEDULED_DEPARTURE</th>\n",
       "      <th>SCHEDULED_ARRIVAL</th>\n",
       "      <th>ORIGIN_AIRPORT_ABE</th>\n",
       "      <th>ORIGIN_AIRPORT_ABI</th>\n",
       "      <th>ORIGIN_AIRPORT_ABQ</th>\n",
       "      <th>ORIGIN_AIRPORT_ABR</th>\n",
       "      <th>ORIGIN_AIRPORT_ABY</th>\n",
       "      <th>...</th>\n",
       "      <th>DESTINATION_AIRPORT_TYR</th>\n",
       "      <th>DESTINATION_AIRPORT_TYS</th>\n",
       "      <th>DESTINATION_AIRPORT_UST</th>\n",
       "      <th>DESTINATION_AIRPORT_VEL</th>\n",
       "      <th>DESTINATION_AIRPORT_VLD</th>\n",
       "      <th>DESTINATION_AIRPORT_VPS</th>\n",
       "      <th>DESTINATION_AIRPORT_WRG</th>\n",
       "      <th>DESTINATION_AIRPORT_XNA</th>\n",
       "      <th>DESTINATION_AIRPORT_YAK</th>\n",
       "      <th>DESTINATION_AIRPORT_YUM</th>\n",
       "    </tr>\n",
       "  </thead>\n",
       "  <tbody>\n",
       "    <tr>\n",
       "      <td>510886</td>\n",
       "      <td>2</td>\n",
       "      <td>19</td>\n",
       "      <td>4</td>\n",
       "      <td>1232</td>\n",
       "      <td>1407</td>\n",
       "      <td>0</td>\n",
       "      <td>0</td>\n",
       "      <td>0</td>\n",
       "      <td>0</td>\n",
       "      <td>0</td>\n",
       "      <td>...</td>\n",
       "      <td>0</td>\n",
       "      <td>0</td>\n",
       "      <td>0</td>\n",
       "      <td>0</td>\n",
       "      <td>0</td>\n",
       "      <td>0</td>\n",
       "      <td>0</td>\n",
       "      <td>0</td>\n",
       "      <td>0</td>\n",
       "      <td>0</td>\n",
       "    </tr>\n",
       "    <tr>\n",
       "      <td>572655</td>\n",
       "      <td>2</td>\n",
       "      <td>23</td>\n",
       "      <td>1</td>\n",
       "      <td>1320</td>\n",
       "      <td>1550</td>\n",
       "      <td>0</td>\n",
       "      <td>0</td>\n",
       "      <td>0</td>\n",
       "      <td>0</td>\n",
       "      <td>0</td>\n",
       "      <td>...</td>\n",
       "      <td>0</td>\n",
       "      <td>0</td>\n",
       "      <td>0</td>\n",
       "      <td>0</td>\n",
       "      <td>0</td>\n",
       "      <td>0</td>\n",
       "      <td>0</td>\n",
       "      <td>0</td>\n",
       "      <td>0</td>\n",
       "      <td>0</td>\n",
       "    </tr>\n",
       "    <tr>\n",
       "      <td>456871</td>\n",
       "      <td>2</td>\n",
       "      <td>16</td>\n",
       "      <td>1</td>\n",
       "      <td>710</td>\n",
       "      <td>1205</td>\n",
       "      <td>0</td>\n",
       "      <td>0</td>\n",
       "      <td>0</td>\n",
       "      <td>0</td>\n",
       "      <td>0</td>\n",
       "      <td>...</td>\n",
       "      <td>0</td>\n",
       "      <td>0</td>\n",
       "      <td>0</td>\n",
       "      <td>0</td>\n",
       "      <td>0</td>\n",
       "      <td>0</td>\n",
       "      <td>0</td>\n",
       "      <td>0</td>\n",
       "      <td>0</td>\n",
       "      <td>0</td>\n",
       "    </tr>\n",
       "    <tr>\n",
       "      <td>290509</td>\n",
       "      <td>2</td>\n",
       "      <td>5</td>\n",
       "      <td>4</td>\n",
       "      <td>625</td>\n",
       "      <td>834</td>\n",
       "      <td>0</td>\n",
       "      <td>0</td>\n",
       "      <td>0</td>\n",
       "      <td>0</td>\n",
       "      <td>0</td>\n",
       "      <td>...</td>\n",
       "      <td>0</td>\n",
       "      <td>0</td>\n",
       "      <td>0</td>\n",
       "      <td>0</td>\n",
       "      <td>0</td>\n",
       "      <td>0</td>\n",
       "      <td>0</td>\n",
       "      <td>0</td>\n",
       "      <td>0</td>\n",
       "      <td>0</td>\n",
       "    </tr>\n",
       "    <tr>\n",
       "      <td>818913</td>\n",
       "      <td>3</td>\n",
       "      <td>10</td>\n",
       "      <td>2</td>\n",
       "      <td>2141</td>\n",
       "      <td>2255</td>\n",
       "      <td>0</td>\n",
       "      <td>0</td>\n",
       "      <td>0</td>\n",
       "      <td>0</td>\n",
       "      <td>0</td>\n",
       "      <td>...</td>\n",
       "      <td>0</td>\n",
       "      <td>0</td>\n",
       "      <td>0</td>\n",
       "      <td>0</td>\n",
       "      <td>0</td>\n",
       "      <td>0</td>\n",
       "      <td>0</td>\n",
       "      <td>0</td>\n",
       "      <td>0</td>\n",
       "      <td>0</td>\n",
       "    </tr>\n",
       "    <tr>\n",
       "      <td>...</td>\n",
       "      <td>...</td>\n",
       "      <td>...</td>\n",
       "      <td>...</td>\n",
       "      <td>...</td>\n",
       "      <td>...</td>\n",
       "      <td>...</td>\n",
       "      <td>...</td>\n",
       "      <td>...</td>\n",
       "      <td>...</td>\n",
       "      <td>...</td>\n",
       "      <td>...</td>\n",
       "      <td>...</td>\n",
       "      <td>...</td>\n",
       "      <td>...</td>\n",
       "      <td>...</td>\n",
       "      <td>...</td>\n",
       "      <td>...</td>\n",
       "      <td>...</td>\n",
       "      <td>...</td>\n",
       "      <td>...</td>\n",
       "      <td>...</td>\n",
       "    </tr>\n",
       "    <tr>\n",
       "      <td>627320</td>\n",
       "      <td>2</td>\n",
       "      <td>26</td>\n",
       "      <td>4</td>\n",
       "      <td>1930</td>\n",
       "      <td>2245</td>\n",
       "      <td>0</td>\n",
       "      <td>0</td>\n",
       "      <td>0</td>\n",
       "      <td>0</td>\n",
       "      <td>0</td>\n",
       "      <td>...</td>\n",
       "      <td>0</td>\n",
       "      <td>0</td>\n",
       "      <td>0</td>\n",
       "      <td>0</td>\n",
       "      <td>0</td>\n",
       "      <td>0</td>\n",
       "      <td>0</td>\n",
       "      <td>0</td>\n",
       "      <td>0</td>\n",
       "      <td>0</td>\n",
       "    </tr>\n",
       "    <tr>\n",
       "      <td>778997</td>\n",
       "      <td>3</td>\n",
       "      <td>8</td>\n",
       "      <td>7</td>\n",
       "      <td>1440</td>\n",
       "      <td>1543</td>\n",
       "      <td>0</td>\n",
       "      <td>0</td>\n",
       "      <td>0</td>\n",
       "      <td>0</td>\n",
       "      <td>0</td>\n",
       "      <td>...</td>\n",
       "      <td>0</td>\n",
       "      <td>0</td>\n",
       "      <td>0</td>\n",
       "      <td>0</td>\n",
       "      <td>0</td>\n",
       "      <td>0</td>\n",
       "      <td>0</td>\n",
       "      <td>0</td>\n",
       "      <td>0</td>\n",
       "      <td>0</td>\n",
       "    </tr>\n",
       "    <tr>\n",
       "      <td>933775</td>\n",
       "      <td>3</td>\n",
       "      <td>17</td>\n",
       "      <td>2</td>\n",
       "      <td>2210</td>\n",
       "      <td>620</td>\n",
       "      <td>0</td>\n",
       "      <td>0</td>\n",
       "      <td>0</td>\n",
       "      <td>0</td>\n",
       "      <td>0</td>\n",
       "      <td>...</td>\n",
       "      <td>0</td>\n",
       "      <td>0</td>\n",
       "      <td>0</td>\n",
       "      <td>0</td>\n",
       "      <td>0</td>\n",
       "      <td>0</td>\n",
       "      <td>0</td>\n",
       "      <td>0</td>\n",
       "      <td>0</td>\n",
       "      <td>0</td>\n",
       "    </tr>\n",
       "    <tr>\n",
       "      <td>257651</td>\n",
       "      <td>2</td>\n",
       "      <td>2</td>\n",
       "      <td>1</td>\n",
       "      <td>2007</td>\n",
       "      <td>2043</td>\n",
       "      <td>0</td>\n",
       "      <td>0</td>\n",
       "      <td>0</td>\n",
       "      <td>0</td>\n",
       "      <td>0</td>\n",
       "      <td>...</td>\n",
       "      <td>0</td>\n",
       "      <td>0</td>\n",
       "      <td>0</td>\n",
       "      <td>0</td>\n",
       "      <td>0</td>\n",
       "      <td>0</td>\n",
       "      <td>0</td>\n",
       "      <td>0</td>\n",
       "      <td>0</td>\n",
       "      <td>0</td>\n",
       "    </tr>\n",
       "    <tr>\n",
       "      <td>313990</td>\n",
       "      <td>2</td>\n",
       "      <td>6</td>\n",
       "      <td>5</td>\n",
       "      <td>1345</td>\n",
       "      <td>1453</td>\n",
       "      <td>0</td>\n",
       "      <td>0</td>\n",
       "      <td>0</td>\n",
       "      <td>0</td>\n",
       "      <td>0</td>\n",
       "      <td>...</td>\n",
       "      <td>0</td>\n",
       "      <td>0</td>\n",
       "      <td>0</td>\n",
       "      <td>0</td>\n",
       "      <td>0</td>\n",
       "      <td>0</td>\n",
       "      <td>0</td>\n",
       "      <td>0</td>\n",
       "      <td>0</td>\n",
       "      <td>0</td>\n",
       "    </tr>\n",
       "  </tbody>\n",
       "</table>\n",
       "<p>209291 rows × 635 columns</p>\n",
       "</div>"
      ],
      "text/plain": [
       "        MONTH  DAY  DAY_OF_WEEK  SCHEDULED_DEPARTURE  SCHEDULED_ARRIVAL  \\\n",
       "510886      2   19            4                 1232               1407   \n",
       "572655      2   23            1                 1320               1550   \n",
       "456871      2   16            1                  710               1205   \n",
       "290509      2    5            4                  625                834   \n",
       "818913      3   10            2                 2141               2255   \n",
       "...       ...  ...          ...                  ...                ...   \n",
       "627320      2   26            4                 1930               2245   \n",
       "778997      3    8            7                 1440               1543   \n",
       "933775      3   17            2                 2210                620   \n",
       "257651      2    2            1                 2007               2043   \n",
       "313990      2    6            5                 1345               1453   \n",
       "\n",
       "        ORIGIN_AIRPORT_ABE  ORIGIN_AIRPORT_ABI  ORIGIN_AIRPORT_ABQ  \\\n",
       "510886                   0                   0                   0   \n",
       "572655                   0                   0                   0   \n",
       "456871                   0                   0                   0   \n",
       "290509                   0                   0                   0   \n",
       "818913                   0                   0                   0   \n",
       "...                    ...                 ...                 ...   \n",
       "627320                   0                   0                   0   \n",
       "778997                   0                   0                   0   \n",
       "933775                   0                   0                   0   \n",
       "257651                   0                   0                   0   \n",
       "313990                   0                   0                   0   \n",
       "\n",
       "        ORIGIN_AIRPORT_ABR  ORIGIN_AIRPORT_ABY  ...  DESTINATION_AIRPORT_TYR  \\\n",
       "510886                   0                   0  ...                        0   \n",
       "572655                   0                   0  ...                        0   \n",
       "456871                   0                   0  ...                        0   \n",
       "290509                   0                   0  ...                        0   \n",
       "818913                   0                   0  ...                        0   \n",
       "...                    ...                 ...  ...                      ...   \n",
       "627320                   0                   0  ...                        0   \n",
       "778997                   0                   0  ...                        0   \n",
       "933775                   0                   0  ...                        0   \n",
       "257651                   0                   0  ...                        0   \n",
       "313990                   0                   0  ...                        0   \n",
       "\n",
       "        DESTINATION_AIRPORT_TYS  DESTINATION_AIRPORT_UST  \\\n",
       "510886                        0                        0   \n",
       "572655                        0                        0   \n",
       "456871                        0                        0   \n",
       "290509                        0                        0   \n",
       "818913                        0                        0   \n",
       "...                         ...                      ...   \n",
       "627320                        0                        0   \n",
       "778997                        0                        0   \n",
       "933775                        0                        0   \n",
       "257651                        0                        0   \n",
       "313990                        0                        0   \n",
       "\n",
       "        DESTINATION_AIRPORT_VEL  DESTINATION_AIRPORT_VLD  \\\n",
       "510886                        0                        0   \n",
       "572655                        0                        0   \n",
       "456871                        0                        0   \n",
       "290509                        0                        0   \n",
       "818913                        0                        0   \n",
       "...                         ...                      ...   \n",
       "627320                        0                        0   \n",
       "778997                        0                        0   \n",
       "933775                        0                        0   \n",
       "257651                        0                        0   \n",
       "313990                        0                        0   \n",
       "\n",
       "        DESTINATION_AIRPORT_VPS  DESTINATION_AIRPORT_WRG  \\\n",
       "510886                        0                        0   \n",
       "572655                        0                        0   \n",
       "456871                        0                        0   \n",
       "290509                        0                        0   \n",
       "818913                        0                        0   \n",
       "...                         ...                      ...   \n",
       "627320                        0                        0   \n",
       "778997                        0                        0   \n",
       "933775                        0                        0   \n",
       "257651                        0                        0   \n",
       "313990                        0                        0   \n",
       "\n",
       "        DESTINATION_AIRPORT_XNA  DESTINATION_AIRPORT_YAK  \\\n",
       "510886                        0                        0   \n",
       "572655                        0                        0   \n",
       "456871                        0                        0   \n",
       "290509                        0                        0   \n",
       "818913                        0                        0   \n",
       "...                         ...                      ...   \n",
       "627320                        0                        0   \n",
       "778997                        0                        0   \n",
       "933775                        0                        0   \n",
       "257651                        0                        0   \n",
       "313990                        0                        0   \n",
       "\n",
       "        DESTINATION_AIRPORT_YUM  \n",
       "510886                        0  \n",
       "572655                        0  \n",
       "456871                        0  \n",
       "290509                        0  \n",
       "818913                        0  \n",
       "...                         ...  \n",
       "627320                        0  \n",
       "778997                        0  \n",
       "933775                        0  \n",
       "257651                        0  \n",
       "313990                        0  \n",
       "\n",
       "[209291 rows x 635 columns]"
      ]
     },
     "execution_count": 53,
     "metadata": {},
     "output_type": "execute_result"
    }
   ],
   "source": [
    "predict_Flight_Status_Test_x"
   ]
  },
  {
   "cell_type": "code",
   "execution_count": 54,
   "metadata": {},
   "outputs": [
    {
     "data": {
      "text/plain": [
       "(837163, 635)"
      ]
     },
     "execution_count": 54,
     "metadata": {},
     "output_type": "execute_result"
    }
   ],
   "source": [
    "predict_Flight_Status_Train_x.shape"
   ]
  },
  {
   "cell_type": "code",
   "execution_count": 55,
   "metadata": {},
   "outputs": [
    {
     "data": {
      "text/plain": [
       "(209291, 635)"
      ]
     },
     "execution_count": 55,
     "metadata": {},
     "output_type": "execute_result"
    }
   ],
   "source": [
    "predict_Flight_Status_Test_x.shape"
   ]
  },
  {
   "cell_type": "markdown",
   "metadata": {},
   "source": [
    "#### Hyperparameter Tuning Using Cross Validation (CV):<br />\n",
    "\n",
    "max_depth<br />\n",
    "min_sample_split<br />\n",
    "max_leaf_nodes<br />\n",
    "min_samples_leaf<br />\n",
    "n_estimators<br />\n",
    "max_sample (bootstrap sample)<br />\n",
    "max_features<br />"
   ]
  },
  {
   "cell_type": "markdown",
   "metadata": {},
   "source": [
    "For random forest algorithms, one can manipulate a variety of key attributes that define model structure. A comprehensive list can be found under the documentation for scikit-learn’s random forest classifier found here. The following five hyperparameters are commonly adjusted:\n",
    "\n",
    "N_estimators\n",
    "\n",
    "Random forest models are ensembles of decision trees and we can define the number of decision trees in the forest. Additional decision trees typically improve model accuracy because predictions are made based on a larger number of “votes” from diverse trees, however, large numbers of trees are computationally expensive.\n",
    "\n",
    "Max_features\n",
    "\n",
    "Random forest models randomly resample features prior to determining the best split. Max_features determines the number of features to resample. Larger max_feature values can result in improved model performance because trees have a larger selection of features from which choose the best split, but can also cause trees to be less diverse and induce overfitting. The common theme here is one needs to identify an optimal value that balances overfitting and under-fitting. Common choices include:\n",
    "\n",
    "‘auto’: places no restrictions on the number of features,\n",
    "\n",
    "‘sqrt’: square root of the total number of features,\n",
    "\n",
    "‘log2’: base two logarithm of the total number of features.\n",
    "\n",
    "Max_depth\n",
    "\n",
    "Each tree in the random forest model makes multiple splits to isolate homogeneous groups of outcomes. Larger numbers of splits allowed in each tree enables the trees to explain more variation in the data, however, trees with many splits may overfit the data. A range of depth values should be evaluated, including “None” where trees are split until all the leaves are pure.\n",
    "\n",
    "Min_samples_split\n",
    "\n",
    "We can control the minimum number of samples required to split each node. Values too large may cause under-fitting, as the trees won’t be able to split enough times to achieve node purity. This hyperparameter should be based on the number of records in the training dataset.\n",
    "\n",
    "Min_samples_leaf\n",
    "\n",
    "Much like stopping the growth of trees once a minimum number of samples per split is reached, we can set the minimum number of samples required for each leaf. With values too large, the trees may not be able to split enough to capture sufficient variation in the data. Optimal values for this hyperparameter are dependent on the size of the training set.\n",
    "\n",
    "Cross-validation is often used to determine the optimal values for hyperparameters; we want to identify a model structure that performs the best on records it has not been trained on. "
   ]
  },
  {
   "cell_type": "code",
   "execution_count": 56,
   "metadata": {},
   "outputs": [],
   "source": [
    "# number of trees\n",
    "n_estimators = [10, 50, 100, 500]\n",
    "\n",
    "#max number of features to consider at every split\n",
    "max_features = [\"auto\", \"sqrt\", \"log2\"]\n",
    "\n",
    "#max number of levels in tree\n",
    "max_depth = [10, 20, 30, 40, 50, None]\n",
    "\n",
    "#Min number of samples to split a node\n",
    "min_samples_split = [2, 5, 10, 15, 20]\n",
    "\n",
    "#Min number of samples at each leaf node\n",
    "min_samples_leaf = [1, 2, 5, 10, 15]"
   ]
  },
  {
   "cell_type": "code",
   "execution_count": 57,
   "metadata": {},
   "outputs": [],
   "source": [
    "grid_param = {\n",
    "    \"n_estimators\" : n_estimators,\n",
    "    \"max_features\" : max_features,\n",
    "    \"max_depth\" : max_depth,\n",
    "    \"min_samples_split\" : min_samples_split,\n",
    "    \"min_samples_leaf\" : min_samples_leaf\n",
    "}"
   ]
  },
  {
   "cell_type": "code",
   "execution_count": 58,
   "metadata": {},
   "outputs": [
    {
     "data": {
      "text/plain": [
       "'predict_Arrival_Delayed_Status_RF_Model = RandomForestClassifier(random_state = 42)#13\\npredict_Arrival_Delayed_Status_RF_Model_Random = RandomizedSearchCV(estimator = predict_Arrival_Delayed_Status_RF_Model,\\n                                                   param_distributions = grid_param,\\n                                                   n_iter = 10,\\n                                                   cv = 5,\\n                                                   verbose = 2,\\n                                                   random_state = 42,\\n                                                   n_jobs = -1)\\npredict_Arrival_Delayed_Status_RF_Model_Random.fit(predict_Arrival_Delayed_Status_Train_x, predict_Arrival_Delayed_Status_Train_y)\\nprint (predict_Arrival_Delayed_Status_RF_Model_Random.best_params_)'"
      ]
     },
     "execution_count": 58,
     "metadata": {},
     "output_type": "execute_result"
    }
   ],
   "source": [
    "predict_Flight_Status_RF_Model_Random = RandomForestClassifier(n_estimators = 10, random_state = 42)#13\n",
    "predict_Flight_Status_RF_Model_Random.fit(predict_Flight_Status_Train_x, predict_Flight_Status_Train_y)\n",
    "\n",
    "\n",
    "\"\"\"predict_Arrival_Delayed_Status_RF_Model = RandomForestClassifier(random_state = 42)#13\n",
    "predict_Arrival_Delayed_Status_RF_Model_Random = RandomizedSearchCV(estimator = predict_Arrival_Delayed_Status_RF_Model,\n",
    "                                                   param_distributions = grid_param,\n",
    "                                                   n_iter = 10,\n",
    "                                                   cv = 5,\n",
    "                                                   verbose = 2,\n",
    "                                                   random_state = 42,\n",
    "                                                   n_jobs = -1)\n",
    "predict_Arrival_Delayed_Status_RF_Model_Random.fit(predict_Arrival_Delayed_Status_Train_x, predict_Arrival_Delayed_Status_Train_y)\n",
    "print (predict_Arrival_Delayed_Status_RF_Model_Random.best_params_)\"\"\""
   ]
  },
  {
   "cell_type": "markdown",
   "metadata": {},
   "source": [
    "If you don't specify the random_state in the code, then every time you run(execute) your code a new random value is generated and the train and test datasets would have different values each time. We now create and train our model. The number of estimators (n_estimators) determines how dense our decision forest is and the random_state is given for reproducibility."
   ]
  },
  {
   "cell_type": "markdown",
   "metadata": {},
   "source": [
    "#### Predict Test Set Results"
   ]
  },
  {
   "cell_type": "code",
   "execution_count": 59,
   "metadata": {},
   "outputs": [],
   "source": [
    "predict_Flight_Status_Train_Predictions = predict_Flight_Status_RF_Model_Random.predict(predict_Flight_Status_Train_x)\n",
    "predict_Flight_Status_Test_Predictions = predict_Flight_Status_RF_Model_Random.predict(predict_Flight_Status_Test_x)"
   ]
  },
  {
   "cell_type": "code",
   "execution_count": 60,
   "metadata": {},
   "outputs": [
    {
     "data": {
      "text/plain": [
       "0.7486561772842597"
      ]
     },
     "execution_count": 60,
     "metadata": {},
     "output_type": "execute_result"
    }
   ],
   "source": [
    "predict_Flight_Status_RF_Model_Random.score(predict_Flight_Status_Test_x, predict_Flight_Status_Test_y)"
   ]
  },
  {
   "cell_type": "markdown",
   "metadata": {},
   "source": [
    "#### Precision on Train Set"
   ]
  },
  {
   "cell_type": "code",
   "execution_count": 61,
   "metadata": {},
   "outputs": [
    {
     "data": {
      "text/plain": [
       "0.9750132292038707"
      ]
     },
     "execution_count": 61,
     "metadata": {},
     "output_type": "execute_result"
    }
   ],
   "source": [
    "precision_score(predict_Flight_Status_Train_y, predict_Flight_Status_Train_Predictions, average='micro')"
   ]
  },
  {
   "cell_type": "markdown",
   "metadata": {},
   "source": [
    "#### Precision on Test Set"
   ]
  },
  {
   "cell_type": "code",
   "execution_count": 63,
   "metadata": {},
   "outputs": [
    {
     "data": {
      "text/plain": [
       "0.7486561772842597"
      ]
     },
     "execution_count": 63,
     "metadata": {},
     "output_type": "execute_result"
    }
   ],
   "source": [
    "precision_score(predict_Flight_Status_Test_y, predict_Flight_Status_Test_Predictions, average='micro')"
   ]
  },
  {
   "cell_type": "markdown",
   "metadata": {},
   "source": [
    "#### Confusion Matrix"
   ]
  },
  {
   "cell_type": "markdown",
   "metadata": {},
   "source": [
    "TP    FN<br />FP    TN"
   ]
  },
  {
   "cell_type": "code",
   "execution_count": 64,
   "metadata": {},
   "outputs": [
    {
     "data": {
      "text/plain": [
       "array([[149812,   5171,   1232,    319,    563],\n",
       "       [ 24079,   3264,    930,     54,    387],\n",
       "       [  8689,   1613,   1112,     29,    452],\n",
       "       [  3782,    175,     45,      9,     17],\n",
       "       [  3869,    688,    493,     17,   2490]], dtype=int64)"
      ]
     },
     "execution_count": 64,
     "metadata": {},
     "output_type": "execute_result"
    }
   ],
   "source": [
    "confusion_matrix(predict_Flight_Status_Test_y, predict_Flight_Status_Test_Predictions)"
   ]
  },
  {
   "cell_type": "markdown",
   "metadata": {},
   "source": [
    "#### Recall on Training Set"
   ]
  },
  {
   "cell_type": "code",
   "execution_count": 66,
   "metadata": {},
   "outputs": [
    {
     "data": {
      "text/plain": [
       "0.9750132292038707"
      ]
     },
     "execution_count": 66,
     "metadata": {},
     "output_type": "execute_result"
    }
   ],
   "source": [
    "recall_score(predict_Flight_Status_Train_y, predict_Flight_Status_Train_Predictions, average='micro')"
   ]
  },
  {
   "cell_type": "markdown",
   "metadata": {},
   "source": [
    "#### Recall on Test Set"
   ]
  },
  {
   "cell_type": "code",
   "execution_count": 67,
   "metadata": {},
   "outputs": [
    {
     "data": {
      "text/plain": [
       "0.7486561772842597"
      ]
     },
     "execution_count": 67,
     "metadata": {},
     "output_type": "execute_result"
    }
   ],
   "source": [
    "recall_score(predict_Flight_Status_Test_y, predict_Flight_Status_Test_Predictions, average='micro')"
   ]
  },
  {
   "cell_type": "markdown",
   "metadata": {},
   "source": [
    "#### F1 Score on Train Set"
   ]
  },
  {
   "cell_type": "code",
   "execution_count": 69,
   "metadata": {},
   "outputs": [
    {
     "data": {
      "text/plain": [
       "0.9750132292038707"
      ]
     },
     "execution_count": 69,
     "metadata": {},
     "output_type": "execute_result"
    }
   ],
   "source": [
    "f1_score(predict_Flight_Status_Train_y, predict_Flight_Status_Train_Predictions, average='micro')"
   ]
  },
  {
   "cell_type": "markdown",
   "metadata": {},
   "source": [
    "#### F1 Score on Test Set"
   ]
  },
  {
   "cell_type": "code",
   "execution_count": 70,
   "metadata": {},
   "outputs": [
    {
     "data": {
      "text/plain": [
       "0.7486561772842598"
      ]
     },
     "execution_count": 70,
     "metadata": {},
     "output_type": "execute_result"
    }
   ],
   "source": [
    "f1_score(predict_Flight_Status_Test_y, predict_Flight_Status_Test_Predictions, average='micro')"
   ]
  },
  {
   "cell_type": "markdown",
   "metadata": {},
   "source": [
    "# --------------------------------------------------------------------------------------------------------------"
   ]
  },
  {
   "cell_type": "markdown",
   "metadata": {},
   "source": [
    "# --------------------------------------------------------------------------------------------------------------"
   ]
  },
  {
   "cell_type": "markdown",
   "metadata": {},
   "source": [
    "## Predict Distance using Regularized Linear Regression<br/>"
   ]
  },
  {
   "cell_type": "markdown",
   "metadata": {},
   "source": [
    "### Dataset Pre-processing"
   ]
  },
  {
   "cell_type": "markdown",
   "metadata": {},
   "source": [
    "#### Dataset Trimming"
   ]
  },
  {
   "cell_type": "code",
   "execution_count": 71,
   "metadata": {},
   "outputs": [
    {
     "data": {
      "text/html": [
       "<div>\n",
       "<style scoped>\n",
       "    .dataframe tbody tr th:only-of-type {\n",
       "        vertical-align: middle;\n",
       "    }\n",
       "\n",
       "    .dataframe tbody tr th {\n",
       "        vertical-align: top;\n",
       "    }\n",
       "\n",
       "    .dataframe thead th {\n",
       "        text-align: right;\n",
       "    }\n",
       "</style>\n",
       "<table border=\"1\" class=\"dataframe\">\n",
       "  <thead>\n",
       "    <tr style=\"text-align: right;\">\n",
       "      <th></th>\n",
       "      <th>DISTANCE</th>\n",
       "      <th>SCHEDULED_TIME</th>\n",
       "      <th>ELAPSED_TIME</th>\n",
       "      <th>AIR_TIME</th>\n",
       "      <th>FLIGHT_STATUS</th>\n",
       "    </tr>\n",
       "  </thead>\n",
       "  <tbody>\n",
       "    <tr>\n",
       "      <td>0</td>\n",
       "      <td>1448</td>\n",
       "      <td>205</td>\n",
       "      <td>194</td>\n",
       "      <td>169</td>\n",
       "      <td>0</td>\n",
       "    </tr>\n",
       "    <tr>\n",
       "      <td>1</td>\n",
       "      <td>2330</td>\n",
       "      <td>280</td>\n",
       "      <td>279</td>\n",
       "      <td>263</td>\n",
       "      <td>0</td>\n",
       "    </tr>\n",
       "    <tr>\n",
       "      <td>2</td>\n",
       "      <td>2296</td>\n",
       "      <td>286</td>\n",
       "      <td>293</td>\n",
       "      <td>266</td>\n",
       "      <td>0</td>\n",
       "    </tr>\n",
       "    <tr>\n",
       "      <td>3</td>\n",
       "      <td>2342</td>\n",
       "      <td>285</td>\n",
       "      <td>281</td>\n",
       "      <td>258</td>\n",
       "      <td>0</td>\n",
       "    </tr>\n",
       "    <tr>\n",
       "      <td>4</td>\n",
       "      <td>1448</td>\n",
       "      <td>235</td>\n",
       "      <td>215</td>\n",
       "      <td>199</td>\n",
       "      <td>0</td>\n",
       "    </tr>\n",
       "    <tr>\n",
       "      <td>...</td>\n",
       "      <td>...</td>\n",
       "      <td>...</td>\n",
       "      <td>...</td>\n",
       "      <td>...</td>\n",
       "      <td>...</td>\n",
       "    </tr>\n",
       "    <tr>\n",
       "      <td>1048570</td>\n",
       "      <td>224</td>\n",
       "      <td>65</td>\n",
       "      <td>60</td>\n",
       "      <td>45</td>\n",
       "      <td>0</td>\n",
       "    </tr>\n",
       "    <tr>\n",
       "      <td>1048571</td>\n",
       "      <td>1617</td>\n",
       "      <td>247</td>\n",
       "      <td>245</td>\n",
       "      <td>226</td>\n",
       "      <td>0</td>\n",
       "    </tr>\n",
       "    <tr>\n",
       "      <td>1048572</td>\n",
       "      <td>1674</td>\n",
       "      <td>248</td>\n",
       "      <td>251</td>\n",
       "      <td>230</td>\n",
       "      <td>1</td>\n",
       "    </tr>\n",
       "    <tr>\n",
       "      <td>1048573</td>\n",
       "      <td>1598</td>\n",
       "      <td>246</td>\n",
       "      <td>230</td>\n",
       "      <td>213</td>\n",
       "      <td>0</td>\n",
       "    </tr>\n",
       "    <tr>\n",
       "      <td>1048574</td>\n",
       "      <td>223</td>\n",
       "      <td>72</td>\n",
       "      <td>86</td>\n",
       "      <td>37</td>\n",
       "      <td>0</td>\n",
       "    </tr>\n",
       "  </tbody>\n",
       "</table>\n",
       "<p>1048575 rows × 5 columns</p>\n",
       "</div>"
      ],
      "text/plain": [
       "         DISTANCE  SCHEDULED_TIME  ELAPSED_TIME  AIR_TIME  FLIGHT_STATUS\n",
       "0            1448             205           194       169              0\n",
       "1            2330             280           279       263              0\n",
       "2            2296             286           293       266              0\n",
       "3            2342             285           281       258              0\n",
       "4            1448             235           215       199              0\n",
       "...           ...             ...           ...       ...            ...\n",
       "1048570       224              65            60        45              0\n",
       "1048571      1617             247           245       226              0\n",
       "1048572      1674             248           251       230              1\n",
       "1048573      1598             246           230       213              0\n",
       "1048574       223              72            86        37              0\n",
       "\n",
       "[1048575 rows x 5 columns]"
      ]
     },
     "execution_count": 71,
     "metadata": {},
     "output_type": "execute_result"
    }
   ],
   "source": [
    "dataset_Predict_Distance = flights[[\"DISTANCE\", \"SCHEDULED_TIME\", \"ELAPSED_TIME\" , \"AIR_TIME\", \"FLIGHT_STATUS\"]]\n",
    "dataset_Predict_Distance"
   ]
  },
  {
   "cell_type": "markdown",
   "metadata": {},
   "source": [
    "#### Fixing NaN Missing Values"
   ]
  },
  {
   "cell_type": "code",
   "execution_count": 72,
   "metadata": {},
   "outputs": [
    {
     "data": {
      "text/plain": [
       "DISTANCE              0\n",
       "SCHEDULED_TIME        2\n",
       "ELAPSED_TIME      36520\n",
       "AIR_TIME          36520\n",
       "FLIGHT_STATUS      2121\n",
       "dtype: int64"
      ]
     },
     "execution_count": 72,
     "metadata": {},
     "output_type": "execute_result"
    }
   ],
   "source": [
    "dataset_Predict_Distance.isnull().sum()"
   ]
  },
  {
   "cell_type": "code",
   "execution_count": 73,
   "metadata": {},
   "outputs": [],
   "source": [
    "dataset_Predict_Distance = dataset_Predict_Distance[dataset_Predict_Distance['SCHEDULED_TIME'].notna()]\n",
    "dataset_Predict_Distance = dataset_Predict_Distance[dataset_Predict_Distance['ELAPSED_TIME'].notna()]\n",
    "dataset_Predict_Distance = dataset_Predict_Distance[dataset_Predict_Distance['AIR_TIME'].notna()]\n",
    "dataset_Predict_Distance = dataset_Predict_Distance[dataset_Predict_Distance['FLIGHT_STATUS'].notna()]"
   ]
  },
  {
   "cell_type": "markdown",
   "metadata": {},
   "source": [
    "Cannot think of a way to fill missing data so decided to drop NaN values"
   ]
  },
  {
   "cell_type": "code",
   "execution_count": 74,
   "metadata": {},
   "outputs": [
    {
     "data": {
      "text/plain": [
       "DISTANCE          0\n",
       "SCHEDULED_TIME    0\n",
       "ELAPSED_TIME      0\n",
       "AIR_TIME          0\n",
       "FLIGHT_STATUS     0\n",
       "dtype: int64"
      ]
     },
     "execution_count": 74,
     "metadata": {},
     "output_type": "execute_result"
    }
   ],
   "source": [
    "dataset_Predict_Distance.isnull().sum()"
   ]
  },
  {
   "cell_type": "markdown",
   "metadata": {},
   "source": [
    "#### SCHEDULED_DEPARTURE In Correct Format"
   ]
  },
  {
   "cell_type": "code",
   "execution_count": 75,
   "metadata": {},
   "outputs": [
    {
     "data": {
      "text/plain": [
       "\"for index, row in dataset_Predict_Flights.iterrows():\\n    dataset_Predict_Flights.loc[index, 'SCHEDULED_DEPARTURE'] = math.floor(row['SCHEDULED_DEPARTURE'] / 100)\\ndataset_Predict_Flights\""
      ]
     },
     "execution_count": 75,
     "metadata": {},
     "output_type": "execute_result"
    }
   ],
   "source": [
    "\"\"\"for index, row in dataset_Predict_Flights.iterrows():\n",
    "    dataset_Predict_Flights.loc[index, 'SCHEDULED_DEPARTURE'] = math.floor(row['SCHEDULED_DEPARTURE'] / 100)\n",
    "dataset_Predict_Flights\"\"\""
   ]
  },
  {
   "cell_type": "markdown",
   "metadata": {},
   "source": [
    "#### Build Model"
   ]
  },
  {
   "cell_type": "code",
   "execution_count": 76,
   "metadata": {},
   "outputs": [],
   "source": [
    "predict_Distance_Train_x, predict_Distance_Test_x, predict_Distance_Train_y, predict_Distance_Test_y = train_test_split(dataset_Predict_Distance.drop('DISTANCE', axis=1), dataset_Predict_Distance['DISTANCE'], test_size=0.2, random_state=42)"
   ]
  },
  {
   "cell_type": "markdown",
   "metadata": {},
   "source": [
    "Splitting the orignal dataset into training set containing (80%), and a test set(20%). Rows are randomized using random_state. train_test_split function returns four dataframes. "
   ]
  },
  {
   "cell_type": "markdown",
   "metadata": {},
   "source": [
    "#### Mean Normalization"
   ]
  },
  {
   "cell_type": "code",
   "execution_count": 77,
   "metadata": {},
   "outputs": [],
   "source": [
    "#predict_Distance_Train_x = preprocessing.scale(predict_Distance_Train_x)"
   ]
  },
  {
   "cell_type": "code",
   "execution_count": 78,
   "metadata": {},
   "outputs": [
    {
     "data": {
      "text/html": [
       "<div>\n",
       "<style scoped>\n",
       "    .dataframe tbody tr th:only-of-type {\n",
       "        vertical-align: middle;\n",
       "    }\n",
       "\n",
       "    .dataframe tbody tr th {\n",
       "        vertical-align: top;\n",
       "    }\n",
       "\n",
       "    .dataframe thead th {\n",
       "        text-align: right;\n",
       "    }\n",
       "</style>\n",
       "<table border=\"1\" class=\"dataframe\">\n",
       "  <thead>\n",
       "    <tr style=\"text-align: right;\">\n",
       "      <th></th>\n",
       "      <th>SCHEDULED_TIME</th>\n",
       "      <th>ELAPSED_TIME</th>\n",
       "      <th>AIR_TIME</th>\n",
       "      <th>FLIGHT_STATUS</th>\n",
       "    </tr>\n",
       "  </thead>\n",
       "  <tbody>\n",
       "    <tr>\n",
       "      <td>253148</td>\n",
       "      <td>60</td>\n",
       "      <td>59</td>\n",
       "      <td>45</td>\n",
       "      <td>0</td>\n",
       "    </tr>\n",
       "    <tr>\n",
       "      <td>165626</td>\n",
       "      <td>149</td>\n",
       "      <td>141</td>\n",
       "      <td>121</td>\n",
       "      <td>0</td>\n",
       "    </tr>\n",
       "    <tr>\n",
       "      <td>929675</td>\n",
       "      <td>183</td>\n",
       "      <td>184</td>\n",
       "      <td>159</td>\n",
       "      <td>0</td>\n",
       "    </tr>\n",
       "    <tr>\n",
       "      <td>500257</td>\n",
       "      <td>106</td>\n",
       "      <td>103</td>\n",
       "      <td>86</td>\n",
       "      <td>0</td>\n",
       "    </tr>\n",
       "    <tr>\n",
       "      <td>54572</td>\n",
       "      <td>168</td>\n",
       "      <td>159</td>\n",
       "      <td>134</td>\n",
       "      <td>0</td>\n",
       "    </tr>\n",
       "    <tr>\n",
       "      <td>...</td>\n",
       "      <td>...</td>\n",
       "      <td>...</td>\n",
       "      <td>...</td>\n",
       "      <td>...</td>\n",
       "    </tr>\n",
       "    <tr>\n",
       "      <td>267961</td>\n",
       "      <td>186</td>\n",
       "      <td>167</td>\n",
       "      <td>145</td>\n",
       "      <td>0</td>\n",
       "    </tr>\n",
       "    <tr>\n",
       "      <td>377928</td>\n",
       "      <td>197</td>\n",
       "      <td>190</td>\n",
       "      <td>173</td>\n",
       "      <td>0</td>\n",
       "    </tr>\n",
       "    <tr>\n",
       "      <td>131947</td>\n",
       "      <td>110</td>\n",
       "      <td>106</td>\n",
       "      <td>90</td>\n",
       "      <td>0</td>\n",
       "    </tr>\n",
       "    <tr>\n",
       "      <td>698988</td>\n",
       "      <td>153</td>\n",
       "      <td>164</td>\n",
       "      <td>124</td>\n",
       "      <td>1</td>\n",
       "    </tr>\n",
       "    <tr>\n",
       "      <td>121972</td>\n",
       "      <td>170</td>\n",
       "      <td>183</td>\n",
       "      <td>157</td>\n",
       "      <td>0</td>\n",
       "    </tr>\n",
       "  </tbody>\n",
       "</table>\n",
       "<p>809644 rows × 4 columns</p>\n",
       "</div>"
      ],
      "text/plain": [
       "        SCHEDULED_TIME  ELAPSED_TIME  AIR_TIME  FLIGHT_STATUS\n",
       "253148              60            59        45              0\n",
       "165626             149           141       121              0\n",
       "929675             183           184       159              0\n",
       "500257             106           103        86              0\n",
       "54572              168           159       134              0\n",
       "...                ...           ...       ...            ...\n",
       "267961             186           167       145              0\n",
       "377928             197           190       173              0\n",
       "131947             110           106        90              0\n",
       "698988             153           164       124              1\n",
       "121972             170           183       157              0\n",
       "\n",
       "[809644 rows x 4 columns]"
      ]
     },
     "execution_count": 78,
     "metadata": {},
     "output_type": "execute_result"
    }
   ],
   "source": [
    "predict_Distance_Train_x"
   ]
  },
  {
   "cell_type": "code",
   "execution_count": 79,
   "metadata": {},
   "outputs": [
    {
     "data": {
      "text/html": [
       "<div>\n",
       "<style scoped>\n",
       "    .dataframe tbody tr th:only-of-type {\n",
       "        vertical-align: middle;\n",
       "    }\n",
       "\n",
       "    .dataframe tbody tr th {\n",
       "        vertical-align: top;\n",
       "    }\n",
       "\n",
       "    .dataframe thead th {\n",
       "        text-align: right;\n",
       "    }\n",
       "</style>\n",
       "<table border=\"1\" class=\"dataframe\">\n",
       "  <thead>\n",
       "    <tr style=\"text-align: right;\">\n",
       "      <th></th>\n",
       "      <th>SCHEDULED_TIME</th>\n",
       "      <th>ELAPSED_TIME</th>\n",
       "      <th>AIR_TIME</th>\n",
       "      <th>FLIGHT_STATUS</th>\n",
       "    </tr>\n",
       "  </thead>\n",
       "  <tbody>\n",
       "    <tr>\n",
       "      <td>662417</td>\n",
       "      <td>132</td>\n",
       "      <td>132</td>\n",
       "      <td>113</td>\n",
       "      <td>0</td>\n",
       "    </tr>\n",
       "    <tr>\n",
       "      <td>892431</td>\n",
       "      <td>75</td>\n",
       "      <td>82</td>\n",
       "      <td>61</td>\n",
       "      <td>1</td>\n",
       "    </tr>\n",
       "    <tr>\n",
       "      <td>727323</td>\n",
       "      <td>166</td>\n",
       "      <td>167</td>\n",
       "      <td>147</td>\n",
       "      <td>3</td>\n",
       "    </tr>\n",
       "    <tr>\n",
       "      <td>799618</td>\n",
       "      <td>55</td>\n",
       "      <td>55</td>\n",
       "      <td>35</td>\n",
       "      <td>0</td>\n",
       "    </tr>\n",
       "    <tr>\n",
       "      <td>750843</td>\n",
       "      <td>160</td>\n",
       "      <td>147</td>\n",
       "      <td>118</td>\n",
       "      <td>0</td>\n",
       "    </tr>\n",
       "    <tr>\n",
       "      <td>...</td>\n",
       "      <td>...</td>\n",
       "      <td>...</td>\n",
       "      <td>...</td>\n",
       "      <td>...</td>\n",
       "    </tr>\n",
       "    <tr>\n",
       "      <td>830073</td>\n",
       "      <td>318</td>\n",
       "      <td>302</td>\n",
       "      <td>285</td>\n",
       "      <td>0</td>\n",
       "    </tr>\n",
       "    <tr>\n",
       "      <td>848703</td>\n",
       "      <td>400</td>\n",
       "      <td>381</td>\n",
       "      <td>334</td>\n",
       "      <td>0</td>\n",
       "    </tr>\n",
       "    <tr>\n",
       "      <td>286656</td>\n",
       "      <td>199</td>\n",
       "      <td>220</td>\n",
       "      <td>175</td>\n",
       "      <td>1</td>\n",
       "    </tr>\n",
       "    <tr>\n",
       "      <td>639796</td>\n",
       "      <td>70</td>\n",
       "      <td>64</td>\n",
       "      <td>49</td>\n",
       "      <td>0</td>\n",
       "    </tr>\n",
       "    <tr>\n",
       "      <td>431021</td>\n",
       "      <td>66</td>\n",
       "      <td>69</td>\n",
       "      <td>45</td>\n",
       "      <td>0</td>\n",
       "    </tr>\n",
       "  </tbody>\n",
       "</table>\n",
       "<p>202411 rows × 4 columns</p>\n",
       "</div>"
      ],
      "text/plain": [
       "        SCHEDULED_TIME  ELAPSED_TIME  AIR_TIME  FLIGHT_STATUS\n",
       "662417             132           132       113              0\n",
       "892431              75            82        61              1\n",
       "727323             166           167       147              3\n",
       "799618              55            55        35              0\n",
       "750843             160           147       118              0\n",
       "...                ...           ...       ...            ...\n",
       "830073             318           302       285              0\n",
       "848703             400           381       334              0\n",
       "286656             199           220       175              1\n",
       "639796              70            64        49              0\n",
       "431021              66            69        45              0\n",
       "\n",
       "[202411 rows x 4 columns]"
      ]
     },
     "execution_count": 79,
     "metadata": {},
     "output_type": "execute_result"
    }
   ],
   "source": [
    "predict_Distance_Test_x"
   ]
  },
  {
   "cell_type": "code",
   "execution_count": 80,
   "metadata": {},
   "outputs": [
    {
     "data": {
      "text/plain": [
       "(809644, 4)"
      ]
     },
     "execution_count": 80,
     "metadata": {},
     "output_type": "execute_result"
    }
   ],
   "source": [
    "predict_Distance_Train_x.shape"
   ]
  },
  {
   "cell_type": "code",
   "execution_count": 81,
   "metadata": {},
   "outputs": [
    {
     "data": {
      "text/plain": [
       "(202411, 4)"
      ]
     },
     "execution_count": 81,
     "metadata": {},
     "output_type": "execute_result"
    }
   ],
   "source": [
    "predict_Distance_Test_x.shape"
   ]
  },
  {
   "cell_type": "markdown",
   "metadata": {},
   "source": [
    "#### Hyperparameter Tuning Using Cross Validation (CV):<br />"
   ]
  },
  {
   "cell_type": "markdown",
   "metadata": {},
   "source": [
    "If you don't specify the random_state in the code, then every time you run(execute) your code a new random value is generated and the train and test datasets would have different values each time. We now create and train our model. The number of estimators (n_estimators) determines how dense our decision forest is and the random_state is given for reproducibility."
   ]
  },
  {
   "cell_type": "code",
   "execution_count": 82,
   "metadata": {},
   "outputs": [
    {
     "data": {
      "text/plain": [
       "LinearRegression(copy_X=True, fit_intercept=True, n_jobs=None, normalize=False)"
      ]
     },
     "execution_count": 82,
     "metadata": {},
     "output_type": "execute_result"
    }
   ],
   "source": [
    "predict_Distance_LNG_Model = LinearRegression() \n",
    "predict_Distance_LNG_Model.fit(predict_Distance_Train_x, predict_Distance_Train_y) "
   ]
  },
  {
   "cell_type": "markdown",
   "metadata": {},
   "source": [
    "#### Predict Test Set Results"
   ]
  },
  {
   "cell_type": "code",
   "execution_count": 83,
   "metadata": {},
   "outputs": [],
   "source": [
    "predict_Distance_Train_Predictions = predict_Distance_LNG_Model.predict(predict_Distance_Train_x)\n",
    "predict_Distance_Test_Predictions = predict_Distance_LNG_Model.predict(predict_Distance_Test_x)"
   ]
  },
  {
   "cell_type": "code",
   "execution_count": 84,
   "metadata": {},
   "outputs": [
    {
     "data": {
      "text/plain": [
       "0.9628722564710592"
      ]
     },
     "execution_count": 84,
     "metadata": {},
     "output_type": "execute_result"
    }
   ],
   "source": [
    "predict_Distance_LNG_Model.score(predict_Distance_Test_x, predict_Distance_Test_y)"
   ]
  },
  {
   "cell_type": "markdown",
   "metadata": {},
   "source": [
    "#### Precision"
   ]
  },
  {
   "cell_type": "markdown",
   "metadata": {},
   "source": [
    "precision_score(predict_Distance_Train_y, predict_Distance_Train_Predictions, average='micro')"
   ]
  },
  {
   "cell_type": "markdown",
   "metadata": {},
   "source": [
    "#### Recall"
   ]
  },
  {
   "cell_type": "markdown",
   "metadata": {},
   "source": [
    "recall_score(predict_Distance_Train_y, predict_Distance_Train_Predictions, average='micro')"
   ]
  },
  {
   "cell_type": "markdown",
   "metadata": {},
   "source": [
    "#### Note: Accuracy is a classification metric. You can't use it with a regression. "
   ]
  },
  {
   "cell_type": "markdown",
   "metadata": {},
   "source": [
    "# --------------------------------------------------------------------------------------------------------------"
   ]
  },
  {
   "cell_type": "markdown",
   "metadata": {},
   "source": [
    "# --------------------------------------------------------------------------------------------------------------"
   ]
  },
  {
   "cell_type": "markdown",
   "metadata": {},
   "source": [
    "## Summary"
   ]
  },
  {
   "cell_type": "markdown",
   "metadata": {},
   "source": [
    "### Prediction Model 1:\n",
    "Predict Arrival Delayed Status\n",
    "#### Model Type:\n",
    "Random Forest Classification    \n",
    "Hyper-parameter Tuning using Cross Validation\n",
    "#### Prediction Function:\n",
    "predict_Arrival_Delayed_Status_RF_Model_Random.predict(#Df)\n",
    "<br/>\n",
    "### Prediction Model 2:\n",
    "Predict Flight Status\n",
    "#### Model Type:\n",
    "Random Forest Classification    \n",
    "Hyper-parameter Tuning using Cross Validation\n",
    "#### Prediction Function:\n",
    "predict_Flight_Status_RF_Model_Random.predict(#Df)\n",
    "<br/>\n",
    "### Prediction Model 3:\n",
    "Predict Distance\n",
    "#### Model Type:\n",
    "Linear Regression    \n",
    "Hyper-parameter Tuning using Cross Validation\n",
    "#### Prediction Function:\n",
    "predict_Distance_LNG_Model.predict(#Df)\n"
   ]
  },
  {
   "cell_type": "code",
   "execution_count": null,
   "metadata": {},
   "outputs": [],
   "source": []
  },
  {
   "cell_type": "code",
   "execution_count": null,
   "metadata": {},
   "outputs": [],
   "source": []
  }
 ],
 "metadata": {
  "kernelspec": {
   "display_name": "Python 3",
   "language": "python",
   "name": "python3"
  },
  "language_info": {
   "codemirror_mode": {
    "name": "ipython",
    "version": 3
   },
   "file_extension": ".py",
   "mimetype": "text/x-python",
   "name": "python",
   "nbconvert_exporter": "python",
   "pygments_lexer": "ipython3",
   "version": "3.7.4"
  }
 },
 "nbformat": 4,
 "nbformat_minor": 2
}
